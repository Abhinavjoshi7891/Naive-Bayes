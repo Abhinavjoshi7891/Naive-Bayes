{
 "cells": [
  {
   "cell_type": "markdown",
   "metadata": {},
   "source": [
    "## SMS Spam Classifier: Multinomial Naive Bayes\n",
    "\n",
    "The notebook is divided into the following sections:\n",
    "1. Importing and preprocessing data\n",
    "2. Building the model: Multinomial Naive Bayes\n",
    "    - Model building \n",
    "    - Model evaluation"
   ]
  },
  {
   "cell_type": "markdown",
   "metadata": {},
   "source": [
    "### 1. Importing and Preprocessing Data"
   ]
  },
  {
   "cell_type": "code",
   "execution_count": 1,
   "metadata": {},
   "outputs": [],
   "source": [
    "### importing libraries\n",
    "import pandas as pd\n",
    "import numpy as np\n"
   ]
  },
  {
   "cell_type": "code",
   "execution_count": 2,
   "metadata": {},
   "outputs": [],
   "source": [
    "## importing and reading the dataset\n",
    "## this dataset is not in the usual .csv format\n",
    "docs = pd.read_table('SMSSpamCollection',header = None, names=['Class','sms'])"
   ]
  },
  {
   "cell_type": "code",
   "execution_count": 3,
   "metadata": {},
   "outputs": [
    {
     "data": {
      "text/html": [
       "<div>\n",
       "<style scoped>\n",
       "    .dataframe tbody tr th:only-of-type {\n",
       "        vertical-align: middle;\n",
       "    }\n",
       "\n",
       "    .dataframe tbody tr th {\n",
       "        vertical-align: top;\n",
       "    }\n",
       "\n",
       "    .dataframe thead th {\n",
       "        text-align: right;\n",
       "    }\n",
       "</style>\n",
       "<table border=\"1\" class=\"dataframe\">\n",
       "  <thead>\n",
       "    <tr style=\"text-align: right;\">\n",
       "      <th></th>\n",
       "      <th>Class</th>\n",
       "      <th>sms</th>\n",
       "    </tr>\n",
       "  </thead>\n",
       "  <tbody>\n",
       "    <tr>\n",
       "      <th>0</th>\n",
       "      <td>ham</td>\n",
       "      <td>Go until jurong point, crazy.. Available only ...</td>\n",
       "    </tr>\n",
       "    <tr>\n",
       "      <th>1</th>\n",
       "      <td>ham</td>\n",
       "      <td>Ok lar... Joking wif u oni...</td>\n",
       "    </tr>\n",
       "    <tr>\n",
       "      <th>2</th>\n",
       "      <td>spam</td>\n",
       "      <td>Free entry in 2 a wkly comp to win FA Cup fina...</td>\n",
       "    </tr>\n",
       "    <tr>\n",
       "      <th>3</th>\n",
       "      <td>ham</td>\n",
       "      <td>U dun say so early hor... U c already then say...</td>\n",
       "    </tr>\n",
       "    <tr>\n",
       "      <th>4</th>\n",
       "      <td>ham</td>\n",
       "      <td>Nah I don't think he goes to usf, he lives aro...</td>\n",
       "    </tr>\n",
       "  </tbody>\n",
       "</table>\n",
       "</div>"
      ],
      "text/plain": [
       "  Class                                                sms\n",
       "0   ham  Go until jurong point, crazy.. Available only ...\n",
       "1   ham                      Ok lar... Joking wif u oni...\n",
       "2  spam  Free entry in 2 a wkly comp to win FA Cup fina...\n",
       "3   ham  U dun say so early hor... U c already then say...\n",
       "4   ham  Nah I don't think he goes to usf, he lives aro..."
      ]
     },
     "execution_count": 3,
     "metadata": {},
     "output_type": "execute_result"
    }
   ],
   "source": [
    "## checking docs\n",
    "docs.head()"
   ]
  },
  {
   "cell_type": "code",
   "execution_count": 4,
   "metadata": {},
   "outputs": [
    {
     "data": {
      "text/plain": [
       "(5572, 2)"
      ]
     },
     "execution_count": 4,
     "metadata": {},
     "output_type": "execute_result"
    }
   ],
   "source": [
    "docs.shape"
   ]
  },
  {
   "cell_type": "code",
   "execution_count": 5,
   "metadata": {},
   "outputs": [
    {
     "data": {
      "text/plain": [
       "ham     4825\n",
       "spam     747\n",
       "Name: Class, dtype: int64"
      ]
     },
     "execution_count": 5,
     "metadata": {},
     "output_type": "execute_result"
    }
   ],
   "source": [
    "## counting spam and ham to ensure that there is no class imbalance\n",
    "docs['Class'].value_counts()"
   ]
  },
  {
   "cell_type": "code",
   "execution_count": 6,
   "metadata": {
    "scrolled": true
   },
   "outputs": [
    {
     "data": {
      "text/plain": [
       "15.481865284974095"
      ]
     },
     "execution_count": 6,
     "metadata": {},
     "output_type": "execute_result"
    }
   ],
   "source": [
    "747/4825*100"
   ]
  },
  {
   "cell_type": "code",
   "execution_count": 7,
   "metadata": {
    "scrolled": true
   },
   "outputs": [
    {
     "data": {
      "text/plain": [
       "13.406317300789663"
      ]
     },
     "execution_count": 7,
     "metadata": {},
     "output_type": "execute_result"
    }
   ],
   "source": [
    "747/(747+4825)*100"
   ]
  },
  {
   "cell_type": "markdown",
   "metadata": {},
   "source": [
    "- Since the 'ham' values are about 15% of the 'spam', and 13% of overall records,that means there is no class imbalance.\n",
    "- Had the 'ham' values been around say less that 1% then there would've been class imbalance."
   ]
  },
  {
   "cell_type": "markdown",
   "metadata": {},
   "source": [
    "### Converting class labels to binary\n",
    "- WE will map spam to 1 and ham to 0."
   ]
  },
  {
   "cell_type": "code",
   "execution_count": 8,
   "metadata": {},
   "outputs": [],
   "source": [
    "## mapping spam and ham to 1 and 0 respectively\n",
    "docs['Class'] = docs['Class'].map({'spam':1,'ham':0})"
   ]
  },
  {
   "cell_type": "code",
   "execution_count": 9,
   "metadata": {},
   "outputs": [
    {
     "data": {
      "text/html": [
       "<div>\n",
       "<style scoped>\n",
       "    .dataframe tbody tr th:only-of-type {\n",
       "        vertical-align: middle;\n",
       "    }\n",
       "\n",
       "    .dataframe tbody tr th {\n",
       "        vertical-align: top;\n",
       "    }\n",
       "\n",
       "    .dataframe thead th {\n",
       "        text-align: right;\n",
       "    }\n",
       "</style>\n",
       "<table border=\"1\" class=\"dataframe\">\n",
       "  <thead>\n",
       "    <tr style=\"text-align: right;\">\n",
       "      <th></th>\n",
       "      <th>Class</th>\n",
       "      <th>sms</th>\n",
       "    </tr>\n",
       "  </thead>\n",
       "  <tbody>\n",
       "    <tr>\n",
       "      <th>0</th>\n",
       "      <td>0</td>\n",
       "      <td>Go until jurong point, crazy.. Available only ...</td>\n",
       "    </tr>\n",
       "    <tr>\n",
       "      <th>1</th>\n",
       "      <td>0</td>\n",
       "      <td>Ok lar... Joking wif u oni...</td>\n",
       "    </tr>\n",
       "    <tr>\n",
       "      <th>2</th>\n",
       "      <td>1</td>\n",
       "      <td>Free entry in 2 a wkly comp to win FA Cup fina...</td>\n",
       "    </tr>\n",
       "    <tr>\n",
       "      <th>3</th>\n",
       "      <td>0</td>\n",
       "      <td>U dun say so early hor... U c already then say...</td>\n",
       "    </tr>\n",
       "    <tr>\n",
       "      <th>4</th>\n",
       "      <td>0</td>\n",
       "      <td>Nah I don't think he goes to usf, he lives aro...</td>\n",
       "    </tr>\n",
       "  </tbody>\n",
       "</table>\n",
       "</div>"
      ],
      "text/plain": [
       "   Class                                                sms\n",
       "0      0  Go until jurong point, crazy.. Available only ...\n",
       "1      0                      Ok lar... Joking wif u oni...\n",
       "2      1  Free entry in 2 a wkly comp to win FA Cup fina...\n",
       "3      0  U dun say so early hor... U c already then say...\n",
       "4      0  Nah I don't think he goes to usf, he lives aro..."
      ]
     },
     "execution_count": 9,
     "metadata": {},
     "output_type": "execute_result"
    }
   ],
   "source": [
    "## checking docs\n",
    "docs.head()"
   ]
  },
  {
   "cell_type": "markdown",
   "metadata": {},
   "source": [
    "### Making X and y lables"
   ]
  },
  {
   "cell_type": "code",
   "execution_count": 10,
   "metadata": {},
   "outputs": [],
   "source": [
    "X = docs['sms']\n",
    "y = docs['Class']"
   ]
  },
  {
   "cell_type": "code",
   "execution_count": 11,
   "metadata": {},
   "outputs": [
    {
     "name": "stdout",
     "output_type": "stream",
     "text": [
      "0       Go until jurong point, crazy.. Available only ...\n",
      "1                           Ok lar... Joking wif u oni...\n",
      "2       Free entry in 2 a wkly comp to win FA Cup fina...\n",
      "3       U dun say so early hor... U c already then say...\n",
      "4       Nah I don't think he goes to usf, he lives aro...\n",
      "                              ...                        \n",
      "5567    This is the 2nd time we have tried 2 contact u...\n",
      "5568                 Will ü b going to esplanade fr home?\n",
      "5569    Pity, * was in mood for that. So...any other s...\n",
      "5570    The guy did some bitching but I acted like i'd...\n",
      "5571                           Rofl. Its true to its name\n",
      "Name: sms, Length: 5572, dtype: object\n",
      "0       0\n",
      "1       0\n",
      "2       1\n",
      "3       0\n",
      "4       0\n",
      "       ..\n",
      "5567    1\n",
      "5568    0\n",
      "5569    0\n",
      "5570    0\n",
      "5571    0\n",
      "Name: Class, Length: 5572, dtype: int64\n"
     ]
    }
   ],
   "source": [
    "print(X)\n",
    "print(y)"
   ]
  },
  {
   "cell_type": "code",
   "execution_count": 12,
   "metadata": {},
   "outputs": [
    {
     "data": {
      "text/plain": [
       "(5572,)"
      ]
     },
     "execution_count": 12,
     "metadata": {},
     "output_type": "execute_result"
    }
   ],
   "source": [
    "X.shape"
   ]
  },
  {
   "cell_type": "code",
   "execution_count": 13,
   "metadata": {},
   "outputs": [
    {
     "data": {
      "text/plain": [
       "(5572,)"
      ]
     },
     "execution_count": 13,
     "metadata": {},
     "output_type": "execute_result"
    }
   ],
   "source": [
    "y.shape"
   ]
  },
  {
   "cell_type": "code",
   "execution_count": 14,
   "metadata": {},
   "outputs": [
    {
     "data": {
      "text/plain": [
       "dtype('int64')"
      ]
     },
     "execution_count": 14,
     "metadata": {},
     "output_type": "execute_result"
    }
   ],
   "source": [
    "## checking dtype of y\n",
    "y.dtype"
   ]
  },
  {
   "cell_type": "markdown",
   "metadata": {},
   "source": [
    "- dtype of y is int, so no need to convert it."
   ]
  },
  {
   "cell_type": "markdown",
   "metadata": {},
   "source": [
    "### Splitting X and y into test and train sets"
   ]
  },
  {
   "cell_type": "code",
   "execution_count": 15,
   "metadata": {},
   "outputs": [],
   "source": [
    "## importing libraries\n",
    "from sklearn.model_selection import train_test_split"
   ]
  },
  {
   "cell_type": "code",
   "execution_count": 16,
   "metadata": {},
   "outputs": [],
   "source": [
    "X_train,X_test,y_train,y_test = train_test_split(X,y,train_size=0.7,random_state=100)"
   ]
  },
  {
   "cell_type": "code",
   "execution_count": 17,
   "metadata": {},
   "outputs": [
    {
     "data": {
      "text/plain": [
       "3730                             I'm at home. Please call\n",
       "974                          what is your account number?\n",
       "4583    Wow didn't think it was that common. I take it...\n",
       "4028        Yes, princess. Are you going to make me moan?\n",
       "1447    Looks like u wil b getting a headstart im leav...\n",
       "Name: sms, dtype: object"
      ]
     },
     "execution_count": 17,
     "metadata": {},
     "output_type": "execute_result"
    }
   ],
   "source": [
    "X_train.head()"
   ]
  },
  {
   "cell_type": "code",
   "execution_count": 18,
   "metadata": {},
   "outputs": [
    {
     "data": {
      "text/plain": [
       "(3900,)"
      ]
     },
     "execution_count": 18,
     "metadata": {},
     "output_type": "execute_result"
    }
   ],
   "source": [
    "X_train.shape"
   ]
  },
  {
   "cell_type": "code",
   "execution_count": 19,
   "metadata": {},
   "outputs": [
    {
     "data": {
      "text/plain": [
       "3730    0\n",
       "974     0\n",
       "4583    0\n",
       "4028    0\n",
       "1447    0\n",
       "Name: Class, dtype: int64"
      ]
     },
     "execution_count": 19,
     "metadata": {},
     "output_type": "execute_result"
    }
   ],
   "source": [
    "y_train.head()"
   ]
  },
  {
   "cell_type": "code",
   "execution_count": 20,
   "metadata": {},
   "outputs": [
    {
     "data": {
      "text/plain": [
       "(3900,)"
      ]
     },
     "execution_count": 20,
     "metadata": {},
     "output_type": "execute_result"
    }
   ],
   "source": [
    "y_train.shape"
   ]
  },
  {
   "cell_type": "markdown",
   "metadata": {},
   "source": [
    "### Creating Bag of Words representation"
   ]
  },
  {
   "cell_type": "markdown",
   "metadata": {},
   "source": [
    "- We will follow the normal cycle:\n",
    "    - First, we will instantiate an object of CountVectorizer( ) class. This object is contained in the library sklearn.feature_extraction.text ( as we are basically extracting features from text.\n",
    "    - And then, we will fit( ) the X_train array into the object.\n",
    "    - Finally, we will transform( ) the X_train array and X_test array into a feature vector.\n",
    "    - Remeber, while working on the test data, we will never use fit( ) method of any class, as in real life we never/rarely have test data!\n",
    "    - So, for test data we only use the transform( )."
   ]
  },
  {
   "cell_type": "code",
   "execution_count": 21,
   "metadata": {},
   "outputs": [],
   "source": [
    "## importing libraries\n",
    "from sklearn.feature_extraction.text import CountVectorizer"
   ]
  },
  {
   "cell_type": "code",
   "execution_count": 22,
   "metadata": {},
   "outputs": [],
   "source": [
    "## Instantiate an object of CountVectorizer( ) class.\n",
    "ver = CountVectorizer(stop_words='english')"
   ]
  },
  {
   "cell_type": "code",
   "execution_count": 23,
   "metadata": {},
   "outputs": [
    {
     "data": {
      "text/plain": [
       "CountVectorizer(stop_words='english')"
      ]
     },
     "execution_count": 23,
     "metadata": {},
     "output_type": "execute_result"
    }
   ],
   "source": [
    "## fit( ) the X_train array into the object.\n",
    "ver.fit(X_train)"
   ]
  },
  {
   "cell_type": "code",
   "execution_count": 24,
   "metadata": {},
   "outputs": [
    {
     "data": {
      "text/plain": [
       "{'home': 3114,\n",
       " 'account': 733,\n",
       " 'number': 4355,\n",
       " 'wow': 6797,\n",
       " 'didn': 2076,\n",
       " 'think': 6112,\n",
       " 'common': 1733,\n",
       " 'ur': 6438,\n",
       " 'freak': 2673,\n",
       " 'unless': 6409,\n",
       " 'chop': 1630,\n",
       " 'yes': 6866,\n",
       " 'princess': 4837,\n",
       " 'going': 2849,\n",
       " 'make': 3897,\n",
       " 'moan': 4080,\n",
       " 'looks': 3775,\n",
       " 'like': 3693,\n",
       " 'wil': 6712,\n",
       " 'getting': 2812,\n",
       " 'headstart': 3028,\n",
       " 'im': 3236,\n",
       " 'leaving': 3651,\n",
       " 'bout': 1306,\n",
       " '30ish': 393,\n",
       " 'desperate': 2051,\n",
       " 'company': 1736,\n",
       " 'head': 3023,\n",
       " 'earlier': 2251,\n",
       " 'goin': 2848,\n",
       " 'meet': 3982,\n",
       " 'rummer': 5237,\n",
       " 'dont': 2172,\n",
       " 'know': 3555,\n",
       " 'bring': 1361,\n",
       " 'food': 2631,\n",
       " 'save': 5303,\n",
       " 'money': 4108,\n",
       " 'wedding': 6649,\n",
       " 'lingerie': 3712,\n",
       " 'www': 6822,\n",
       " 'bridal': 1354,\n",
       " 'petticoatdreams': 4623,\n",
       " 'uk': 6363,\n",
       " 'choose': 1628,\n",
       " 'superb': 5909,\n",
       " 'selection': 5368,\n",
       " 'national': 4222,\n",
       " 'delivery': 2024,\n",
       " 'brought': 1379,\n",
       " 'weddingfriend': 6650,\n",
       " 'sorry': 5654,\n",
       " 'll': 3737,\n",
       " 'later': 3619,\n",
       " 'havent': 3016,\n",
       " 'got': 2875,\n",
       " 'urself': 6451,\n",
       " 'jacket': 3387,\n",
       " 'ah': 807,\n",
       " 'ugh': 6357,\n",
       " 'hopefully': 3130,\n",
       " 'asus': 1007,\n",
       " 'ppl': 4781,\n",
       " 'randomly': 4972,\n",
       " 'reformat': 5058,\n",
       " 'prasanth': 4795,\n",
       " 'ettans': 2383,\n",
       " 'mother': 4125,\n",
       " 'passed': 4559,\n",
       " 'away': 1058,\n",
       " 'night': 4290,\n",
       " 'just': 3474,\n",
       " 'pray': 4798,\n",
       " 'family': 2486,\n",
       " 'did': 2075,\n",
       " 'wot': 6791,\n",
       " 'say': 5307,\n",
       " 'dust': 2242,\n",
       " 'time': 6159,\n",
       " 'come': 1724,\n",
       " 'tomorrow': 6214,\n",
       " 'alright': 851,\n",
       " 'set': 5402,\n",
       " 'text': 6067,\n",
       " 'man': 3907,\n",
       " 'type': 6349,\n",
       " 'stuff': 5846,\n",
       " 'sing': 5523,\n",
       " 'urgent': 6442,\n",
       " '2nd': 368,\n",
       " 'attempt': 1017,\n",
       " 'contact': 1792,\n",
       " '900': 675,\n",
       " 'prize': 4848,\n",
       " 'yesterday': 6868,\n",
       " 'awaiting': 1054,\n",
       " 'collection': 1712,\n",
       " 'claim': 1646,\n",
       " '09061702893': 182,\n",
       " 'oh': 4398,\n",
       " 'fuck': 2721,\n",
       " 'sake': 5264,\n",
       " 'tallahassee': 5988,\n",
       " 'affidavit': 788,\n",
       " 'says': 5311,\n",
       " 'lt': 3825,\n",
       " 'gt': 2928,\n",
       " 'twiggs': 6330,\n",
       " 'st': 5739,\n",
       " 'division': 2134,\n",
       " 'courtroom': 1848,\n",
       " 'double': 2186,\n",
       " 'check': 1587,\n",
       " 'sleeping': 5564,\n",
       " 'haha': 2960,\n",
       " 'spys': 5731,\n",
       " 'wat': 6614,\n",
       " 'online': 4419,\n",
       " 'checking': 1591,\n",
       " 'replying': 5112,\n",
       " 'mails': 3892,\n",
       " 'lor': 3782,\n",
       " 'sura': 5922,\n",
       " 'sun': 5898,\n",
       " 'tv': 6327,\n",
       " 'lol': 3762,\n",
       " 'letters': 3675,\n",
       " 'copy': 1820,\n",
       " 'cos': 1827,\n",
       " 'message': 4006,\n",
       " 'speak': 5681,\n",
       " 'soon': 5646,\n",
       " 'mobile': 4082,\n",
       " 'awarded': 1057,\n",
       " '2000': 316,\n",
       " 'guaranteed': 2930,\n",
       " '09061790121': 188,\n",
       " 'land': 3597,\n",
       " 'line': 3708,\n",
       " '3030': 391,\n",
       " 'valid': 6477,\n",
       " '12hrs': 263,\n",
       " '150ppm': 282,\n",
       " 'takes': 5978,\n",
       " 'little': 3729,\n",
       " 'child': 1612,\n",
       " 'afraid': 790,\n",
       " 'dark': 1953,\n",
       " 'teenager': 6030,\n",
       " 'wants': 6603,\n",
       " 'stay': 5768,\n",
       " 'dare': 1952,\n",
       " 'ask': 988,\n",
       " 'luck': 3828,\n",
       " 'sorting': 5658,\n",
       " 'car': 1486,\n",
       " 'new': 4273,\n",
       " 'mobiles': 4083,\n",
       " '2004': 318,\n",
       " 'txt': 6335,\n",
       " 'nokia': 4311,\n",
       " '89545': 665,\n",
       " 'collect': 1709,\n",
       " 'today': 6195,\n",
       " 'tc': 6012,\n",
       " 'biz': 1230,\n",
       " '2optout': 370,\n",
       " '087187262701': 133,\n",
       " '50gbp': 502,\n",
       " 'mtmsg18': 4155,\n",
       " 'txtauction': 6339,\n",
       " 'yar': 6852,\n",
       " 'actually': 754,\n",
       " 'quite': 4944,\n",
       " 'fast': 2498,\n",
       " 'da': 1938,\n",
       " 'ge': 2789,\n",
       " 'slow': 5579,\n",
       " 'hamster': 2975,\n",
       " 'dead': 1975,\n",
       " 'hey': 3071,\n",
       " 'tmr': 6184,\n",
       " '1pm': 305,\n",
       " 'orchard': 4450,\n",
       " 'mrt': 4141,\n",
       " 'ok': 4402,\n",
       " 'takin': 5979,\n",
       " 'linear': 3709,\n",
       " 'algebra': 838,\n",
       " 'use': 6455,\n",
       " 'msn': 4149,\n",
       " 'valued': 6481,\n",
       " 'customer': 1923,\n",
       " 'pleased': 4693,\n",
       " 'advise': 779,\n",
       " 'following': 2625,\n",
       " 'recent': 5030,\n",
       " 'review': 5160,\n",
       " 'mob': 4081,\n",
       " '1500': 277,\n",
       " 'bonus': 1280,\n",
       " '09066364589': 213,\n",
       " 'hai': 2962,\n",
       " 'ana': 876,\n",
       " 'tomarrow': 6209,\n",
       " 'coming': 1730,\n",
       " 'morning': 4122,\n",
       " 'decimal': 1992,\n",
       " 'ill': 3232,\n",
       " 'sathy': 5294,\n",
       " 'rto': 5227,\n",
       " 'office': 4393,\n",
       " 'reply': 5111,\n",
       " 'came': 1468,\n",
       " 'shb': 5432,\n",
       " 'thanx': 6086,\n",
       " 'wahala': 6572,\n",
       " 'remember': 5086,\n",
       " 'friend': 2696,\n",
       " 'need': 4246,\n",
       " 'dun': 2236,\n",
       " 'pick': 4647,\n",
       " 'gf': 2814,\n",
       " 'local': 3746,\n",
       " 'dates': 1964,\n",
       " 'area': 947,\n",
       " 'lots': 3792,\n",
       " 'people': 4598,\n",
       " 'registered': 5068,\n",
       " 'date': 1962,\n",
       " 'start': 5756,\n",
       " '18': 293,\n",
       " 'flirtparty': 2604,\n",
       " 'replys150': 5113,\n",
       " 'die': 2078,\n",
       " 'want': 6600,\n",
       " 'stuffs': 5850,\n",
       " 'read': 4997,\n",
       " 'shame': 5423,\n",
       " 'tell': 6037,\n",
       " 'runs': 5241,\n",
       " 'blame': 1235,\n",
       " 'really': 5010,\n",
       " 'long': 3767,\n",
       " 'plans': 4683,\n",
       " 'stone': 5797,\n",
       " 'free': 2678,\n",
       " 'msg': 4142,\n",
       " 'single': 5526,\n",
       " 'partner': 4551,\n",
       " '1000s': 237,\n",
       " 'real': 5002,\n",
       " 'waiting': 6580,\n",
       " 'chat': 1578,\n",
       " 'send': 5380,\n",
       " '62220cncl': 535,\n",
       " 'stopcs': 5806,\n",
       " '08717890890': 126,\n",
       " '50': 496,\n",
       " 'aight': 814,\n",
       " 'work': 6776,\n",
       " 'thanks': 6082,\n",
       " 'gorgeous': 2872,\n",
       " 'good': 2861,\n",
       " 'babe': 1073,\n",
       " 'squishy': 5735,\n",
       " 'mwahs': 4191,\n",
       " 'fever': 2534,\n",
       " 'vomitin': 6546,\n",
       " 'sounds': 5665,\n",
       " 'better': 1193,\n",
       " 'evening': 2392,\n",
       " 'doing': 2160,\n",
       " 'costume': 1833,\n",
       " 'sure': 5923,\n",
       " 'finish': 2569,\n",
       " 'end': 2323,\n",
       " 'lara': 3609,\n",
       " 'said': 5263,\n",
       " 'loan': 3743,\n",
       " 'treat': 6275,\n",
       " 'yeah': 6857,\n",
       " 'couple': 1844,\n",
       " 'minutes': 4045,\n",
       " 'track': 6253,\n",
       " 'wallet': 6591,\n",
       " 'hi': 3075,\n",
       " 'dude': 2231,\n",
       " 'hw': 3194,\n",
       " 'realy': 5012,\n",
       " 'mising': 4050,\n",
       " 'questions': 4939,\n",
       " 'mistake': 4062,\n",
       " 'drink': 2208,\n",
       " 'pa': 4503,\n",
       " 'srs': 5736,\n",
       " 'model': 4093,\n",
       " 'pls': 4698,\n",
       " 'mail': 3890,\n",
       " 'id': 3216,\n",
       " 'late': 3616,\n",
       " 'way': 6629,\n",
       " 'swing': 5952,\n",
       " 'special': 5683,\n",
       " 'shit': 5452,\n",
       " 'wasn': 6611,\n",
       " 'surprised': 5929,\n",
       " 'went': 6674,\n",
       " 'spent': 5697,\n",
       " 'french': 2688,\n",
       " 'guy': 2947,\n",
       " 'met': 4013,\n",
       " 'town': 6250,\n",
       " 'fooled': 2633,\n",
       " 'bit': 1224,\n",
       " 'let': 3672,\n",
       " 'jus': 3473,\n",
       " 'rite': 5186,\n",
       " 'smile': 5590,\n",
       " 'crucial': 1889,\n",
       " 'things': 6111,\n",
       " 'life': 3685,\n",
       " 'makes': 3898,\n",
       " 'forget': 2646,\n",
       " 'gud': 2932,\n",
       " 'noon': 4319,\n",
       " 'yup': 6898,\n",
       " 'wait': 6577,\n",
       " 'rain': 4960,\n",
       " 'stop': 5801,\n",
       " 'city': 1644,\n",
       " 'break': 1343,\n",
       " 'win': 6716,\n",
       " '200': 315,\n",
       " 'summer': 5895,\n",
       " 'shopping': 5464,\n",
       " 'spree': 5727,\n",
       " 'wk': 6739,\n",
       " 'store': 5811,\n",
       " '88039': 654,\n",
       " 'skilgme': 5548,\n",
       " 'tscs087147403231winawk': 6307,\n",
       " 'age16': 799,\n",
       " '50perwksub': 505,\n",
       " 'general': 2795,\n",
       " 'price': 4832,\n",
       " 'oz': 4502,\n",
       " 'try': 6300,\n",
       " 'making': 3901,\n",
       " 'butt': 1422,\n",
       " 'tog': 6198,\n",
       " 'probably': 4853,\n",
       " 'tonight': 6222,\n",
       " 'iouri': 3345,\n",
       " 'gave': 2779,\n",
       " 'wylie': 6823,\n",
       " 'ryan': 5248,\n",
       " 'yo': 6874,\n",
       " 'dear': 1980,\n",
       " 'mood': 4116,\n",
       " 'drive': 2212,\n",
       " 'brother': 1377,\n",
       " 'wont': 6766,\n",
       " 'play': 4686,\n",
       " 'driving': 2214,\n",
       " 'clas': 1651,\n",
       " 'hear': 3032,\n",
       " 'loud': 3798,\n",
       " 'scream': 5336,\n",
       " 'cause': 1526,\n",
       " 'gyno': 2954,\n",
       " 'shoving': 5478,\n",
       " 'don': 2169,\n",
       " 'belong': 1178,\n",
       " 'fact': 2463,\n",
       " 'leave': 3649,\n",
       " 'addie': 760,\n",
       " 'goes': 2845,\n",
       " 'school': 5323,\n",
       " 'tues': 6313,\n",
       " 'wed': 6647,\n",
       " 'care': 1491,\n",
       " 'understand': 6386,\n",
       " 'sense': 5384,\n",
       " 'btw': 1388,\n",
       " 'carlos': 1503,\n",
       " 'difficult': 2088,\n",
       " 'guys': 2948,\n",
       " 'gonna': 2859,\n",
       " 'smoke': 5596,\n",
       " 'second': 5351,\n",
       " 'batch': 1126,\n",
       " 'gas': 2774,\n",
       " 'drug': 2221,\n",
       " 'dealer': 1977,\n",
       " 'impatient': 3249,\n",
       " 'nope': 4322,\n",
       " 'watching': 6618,\n",
       " 'bored': 1293,\n",
       " '10': 233,\n",
       " 'mths': 4153,\n",
       " 'update': 6425,\n",
       " 'latest': 3620,\n",
       " 'camera': 1469,\n",
       " 'video': 6508,\n",
       " 'phones': 4638,\n",
       " 'extra': 2452,\n",
       " 'mins': 4042,\n",
       " 'texts': 6077,\n",
       " 'wrc': 6798,\n",
       " 'rally': 4968,\n",
       " 'lucozade': 3831,\n",
       " 'energy': 2332,\n",
       " 'le': 3642,\n",
       " '61200': 533,\n",
       " '25p': 337,\n",
       " 'packs': 4507,\n",
       " 'itcould': 3369,\n",
       " 'deus': 2056,\n",
       " 'ex': 2410,\n",
       " 'change': 1560,\n",
       " 'germany': 2805,\n",
       " 'pence': 4593,\n",
       " 'minute': 4044,\n",
       " 'fixed': 2585,\n",
       " 'access': 723,\n",
       " '0844': 56,\n",
       " '861': 641,\n",
       " '85': 634,\n",
       " 'prepayment': 4813,\n",
       " 'direct': 2106,\n",
       " 'attend': 1019,\n",
       " 'lesson': 3670,\n",
       " 'times': 6160,\n",
       " 'day': 1969,\n",
       " 'plus': 4700,\n",
       " 'grinule': 2913,\n",
       " 'greet': 2907,\n",
       " 'phone': 4634,\n",
       " 'callon': 1462,\n",
       " 'friday': 2693,\n",
       " 'assume': 1000,\n",
       " 'won': 6759,\n",
       " 'year': 6858,\n",
       " 'xmas': 6831,\n",
       " 'iscoming': 3359,\n",
       " '500': 497,\n",
       " 'cd': 1535,\n",
       " 'gift': 2819,\n",
       " 'vouchers': 6551,\n",
       " 'entry': 2352,\n",
       " '100': 234,\n",
       " 'weekly': 6659,\n",
       " 'draw': 2200,\n",
       " 'music': 4181,\n",
       " '87066': 646,\n",
       " 'tnc': 6188,\n",
       " 'ldew': 3639,\n",
       " 'com1win150ppmx3age16subscription': 1720,\n",
       " 'hack': 2958,\n",
       " 'backdoor': 1082,\n",
       " '121': 256,\n",
       " 'rooms': 5211,\n",
       " 'fraction': 2668,\n",
       " 'cost': 1829,\n",
       " 'neo69': 4257,\n",
       " '09050280520': 157,\n",
       " 'subscribe': 5861,\n",
       " 'pm': 4702,\n",
       " 'dps': 2195,\n",
       " 'bcm': 1141,\n",
       " 'box': 1310,\n",
       " '8027': 602,\n",
       " 'ldn': 3640,\n",
       " 'wc1n3xx': 6633,\n",
       " 'engin': 2336,\n",
       " 'god': 2843,\n",
       " 'college': 1714,\n",
       " 'self': 5369,\n",
       " 'near': 4235,\n",
       " 'kalainar': 3489,\n",
       " 'thenampet': 6100,\n",
       " 'best': 1189,\n",
       " 'watch': 6615,\n",
       " 'drunk': 2223,\n",
       " 'motherfucker': 4126,\n",
       " 'fine': 2566,\n",
       " 'sends': 5383,\n",
       " 'greetings': 2909,\n",
       " 'baby': 1076,\n",
       " 'tho': 6124,\n",
       " 'sooner': 5647,\n",
       " 'gary': 2773,\n",
       " 'fix': 2583,\n",
       " 'thinks': 6116,\n",
       " 'knows': 3558,\n",
       " 'doesn': 2152,\n",
       " 'far': 2495,\n",
       " 'ptbo': 4901,\n",
       " 'bucks': 1391,\n",
       " 'cheaper': 1583,\n",
       " 'hand': 2976,\n",
       " 'machines': 3869,\n",
       " 'right': 5172,\n",
       " 'took': 6226,\n",
       " 'tablets': 5967,\n",
       " 'reaction': 4996,\n",
       " 'dunno': 2238,\n",
       " 'lei': 3661,\n",
       " 'thk': 6119,\n",
       " 'mum': 4167,\n",
       " 'lazy': 3637,\n",
       " 'neva': 4269,\n",
       " 'point': 4721,\n",
       " 'hangin': 2984,\n",
       " 'mr': 4139,\n",
       " 'makin': 3900,\n",
       " 'happy': 2997,\n",
       " 'mrng': 4140,\n",
       " 'hav': 3012,\n",
       " 'nice': 4283,\n",
       " 'hello': 3051,\n",
       " 'hun': 3178,\n",
       " 'ru': 5228,\n",
       " 'walkabout': 6585,\n",
       " 'hows': 3155,\n",
       " 'omg': 4413,\n",
       " 'ate': 1008,\n",
       " 'big': 1203,\n",
       " 'chic': 1607,\n",
       " 'declare': 1996,\n",
       " 'aslamalaikkum': 994,\n",
       " 'insha': 3306,\n",
       " 'allah': 842,\n",
       " 'tohar': 6199,\n",
       " 'beeen': 1160,\n",
       " 'muht': 4163,\n",
       " 'albi': 830,\n",
       " 'mufti': 4161,\n",
       " 'mahfuuz': 3888,\n",
       " 'meaning': 3968,\n",
       " 'ringtone': 5179,\n",
       " 'order': 4451,\n",
       " 'reference': 5052,\n",
       " 'x49': 6825,\n",
       " 'charged': 1569,\n",
       " 'tone': 6216,\n",
       " 'arrive': 973,\n",
       " 'services': 5400,\n",
       " '09065989182': 205,\n",
       " 'colour': 1716,\n",
       " 'red': 5047,\n",
       " 'txtstar': 6344,\n",
       " 'shall': 5422,\n",
       " 'bottle': 1303,\n",
       " 'wine': 6721,\n",
       " 'amused': 874,\n",
       " 'joking': 3443,\n",
       " 'aunt': 1031,\n",
       " 'nike': 4295,\n",
       " 'private': 4846,\n",
       " '2003': 317,\n",
       " 'statement': 5765,\n",
       " 'fone': 2627,\n",
       " 'shows': 5486,\n",
       " '800': 592,\n",
       " 'redeemed': 5049,\n",
       " 'points': 4722,\n",
       " '08715203656': 113,\n",
       " 'identifier': 3221,\n",
       " 'code': 1696,\n",
       " '42049': 443,\n",
       " 'expires': 2440,\n",
       " '26': 338,\n",
       " '04': 11,\n",
       " 'wan2': 6597,\n",
       " 'westlife': 6682,\n",
       " 'm8': 3857,\n",
       " 'currently': 1918,\n",
       " 'tour': 6249,\n",
       " 'unbreakable': 6376,\n",
       " 'untamed': 6420,\n",
       " 'unkempt': 6407,\n",
       " '83049': 619,\n",
       " '50p': 503,\n",
       " 'std': 5773,\n",
       " 'lucky': 3830,\n",
       " 'winner': 6724,\n",
       " '88600': 658,\n",
       " '1million': 304,\n",
       " 'ppt150x3': 4785,\n",
       " 'normal': 4326,\n",
       " 'rate': 4978,\n",
       " 'box403': 1319,\n",
       " 'w1t1jy': 6563,\n",
       " 'fancy': 2491,\n",
       " 'shag': 5416,\n",
       " 'interested': 3322,\n",
       " 'sextextuk': 5408,\n",
       " 'com': 1718,\n",
       " 'xxuk': 6837,\n",
       " 'suzy': 5934,\n",
       " '69876': 553,\n",
       " 'txts': 6343,\n",
       " 'tncs': 6189,\n",
       " 'website': 6646,\n",
       " 'frm': 2703,\n",
       " 'tht': 6139,\n",
       " 'unknown': 6408,\n",
       " 'ain': 815,\n",
       " 'answerin': 898,\n",
       " 'pretty': 4827,\n",
       " 'reasonable': 5016,\n",
       " 'hour': 3147,\n",
       " 'sleepy': 5567,\n",
       " 'accidentally': 727,\n",
       " 'left': 3654,\n",
       " 'silent': 5512,\n",
       " 'til': 6156,\n",
       " 'trying': 6302,\n",
       " 'chinese': 1622,\n",
       " 'place': 4674,\n",
       " 'days': 1970,\n",
       " 'euro2004': 2385,\n",
       " 'kickoff': 3524,\n",
       " 'kept': 3510,\n",
       " 'informed': 3294,\n",
       " 'news': 4278,\n",
       " 'results': 5147,\n",
       " 'daily': 1944,\n",
       " 'unsubscribe': 6419,\n",
       " 'euro': 2384,\n",
       " '83222': 621,\n",
       " 'moving': 4136,\n",
       " 'flat': 2593,\n",
       " 'arrange': 969,\n",
       " 'lamp': 3596,\n",
       " 'caroline': 1505,\n",
       " 'safe': 5259,\n",
       " 'trip': 6283,\n",
       " 'nigeria': 4288,\n",
       " 'wish': 6731,\n",
       " 'happiness': 2996,\n",
       " 'share': 5428,\n",
       " 'moments': 4103,\n",
       " 'half': 2968,\n",
       " '8th': 673,\n",
       " 'love': 3803,\n",
       " 'pocy': 4717,\n",
       " 'bell': 1176,\n",
       " 'shop': 5462,\n",
       " 'flirting': 2603,\n",
       " 'paperwork': 4533,\n",
       " 'called': 1455,\n",
       " 'texted': 6072,\n",
       " 'nervous': 4258,\n",
       " 'course': 1846,\n",
       " 'address': 761,\n",
       " 'boss': 1298,\n",
       " 'knowing': 3556,\n",
       " 'fired': 2575,\n",
       " 'sent': 5388,\n",
       " 'email': 2309,\n",
       " 'haven': 3015,\n",
       " 'dinner': 2101,\n",
       " 'heard': 3033,\n",
       " 'leg': 3656,\n",
       " 'hurts': 3188,\n",
       " 'musta': 4184,\n",
       " 'overdid': 4488,\n",
       " 'mon': 4105,\n",
       " 'mm': 4071,\n",
       " 'fun': 2733,\n",
       " 'forwarded': 2661,\n",
       " '21870000': 326,\n",
       " 'mailbox': 3891,\n",
       " 'messaging': 4009,\n",
       " 'sms': 5601,\n",
       " 'alert': 834,\n",
       " 'messages': 4008,\n",
       " '21': 325,\n",
       " 'matches': 3944,\n",
       " '09056242159': 159,\n",
       " 'retrieve': 5150,\n",
       " 'boy': 1325,\n",
       " 'sweet': 5943,\n",
       " 'words': 6775,\n",
       " 'sighs': 5503,\n",
       " 'studying': 5844,\n",
       " 'smart': 5585,\n",
       " 'week': 6655,\n",
       " 'quiz': 4946,\n",
       " '85222': 638,\n",
       " 'cs': 1895,\n",
       " 'winnersclub': 6725,\n",
       " 'po': 4703,\n",
       " '84': 628,\n",
       " 'm26': 3852,\n",
       " '3uz': 429,\n",
       " '16': 289,\n",
       " 'gbp1': 2785,\n",
       " 'congrats': 1777,\n",
       " '3g': 420,\n",
       " 'videophones': 6510,\n",
       " '09061744553': 187,\n",
       " 'videochat': 6509,\n",
       " 'wid': 6704,\n",
       " 'mates': 3946,\n",
       " 'java': 3404,\n",
       " 'games': 2761,\n",
       " 'dload': 2141,\n",
       " 'polyh': 4731,\n",
       " 'noline': 4315,\n",
       " 'rentl': 5103,\n",
       " 'bx420': 1433,\n",
       " 'ip4': 3346,\n",
       " '5we': 525,\n",
       " '150pm': 280,\n",
       " 'run': 5239,\n",
       " 'walk': 6584,\n",
       " 'slowly': 5580,\n",
       " 'amp': 868,\n",
       " 'kills': 3534,\n",
       " 'cool': 1814,\n",
       " 'ready': 5001,\n",
       " 'friendship': 2699,\n",
       " 'poem': 4719,\n",
       " 'fear': 2513,\n",
       " 'live': 3730,\n",
       " 'cheer': 1595,\n",
       " 'tear': 6022,\n",
       " 'ni8': 4281,\n",
       " 'forgot': 2651,\n",
       " 'smth': 5604,\n",
       " 'sections': 5357,\n",
       " 'clearer': 1662,\n",
       " 'men': 3995,\n",
       " 'lunch': 3835,\n",
       " 'lar': 3608,\n",
       " 'sis': 5532,\n",
       " 'arts': 977,\n",
       " 'invite': 3338,\n",
       " 'joined': 3437,\n",
       " 'trek': 6280,\n",
       " 'chance': 1558,\n",
       " '250': 335,\n",
       " 'wkly': 6743,\n",
       " '80878': 606,\n",
       " 'custcare': 1921,\n",
       " '08715705022': 119,\n",
       " '1x150p': 313,\n",
       " 'theyre': 6107,\n",
       " 'places': 4676,\n",
       " 'hospitals': 3140,\n",
       " 'medical': 3978,\n",
       " '07753741225': 25,\n",
       " '08715203677': 114,\n",
       " '42478': 445,\n",
       " '24': 331,\n",
       " 'cps': 1853,\n",
       " 'causing': 1528,\n",
       " 'outages': 4476,\n",
       " 'conserve': 1786,\n",
       " 'ya': 6845,\n",
       " 'ganesh': 2763,\n",
       " 'dress': 2205,\n",
       " 'helloooo': 3052,\n",
       " 'wake': 6581,\n",
       " 'welcomes': 6669,\n",
       " 'enjoy': 2339,\n",
       " 'joy': 3453,\n",
       " 'whats': 6687,\n",
       " 'matter': 3951,\n",
       " 'alibi': 840,\n",
       " 'cutting': 1932,\n",
       " 'hair': 2964,\n",
       " 'oops': 4426,\n",
       " 'haf': 2959,\n",
       " 'enuff': 2355,\n",
       " 'mom': 4101,\n",
       " 'tmrw': 6185,\n",
       " 'finishing': 2573,\n",
       " 'doors': 2180,\n",
       " 'handset': 2981,\n",
       " '750': 573,\n",
       " 'anytime': 910,\n",
       " 'network': 4266,\n",
       " 'rental': 5101,\n",
       " 'camcorder': 1467,\n",
       " '08000930705': 46,\n",
       " 'december': 1987,\n",
       " '11mths': 253,\n",
       " 'entitled': 2349,\n",
       " 'vco': 6490,\n",
       " '08002986906': 50,\n",
       " 'ard': 946,\n",
       " '515': 510,\n",
       " 'dat': 1960,\n",
       " 'salad': 5265,\n",
       " 'desert': 2047,\n",
       " 'beers': 1165,\n",
       " 'short': 5467,\n",
       " 'cute': 1928,\n",
       " 'person': 4611,\n",
       " 'prove': 4889,\n",
       " 've': 6492,\n",
       " 'version': 6500,\n",
       " 'project': 4870,\n",
       " 'funny': 2741,\n",
       " 'laugh': 3623,\n",
       " 'talk': 5983,\n",
       " 'spontaneously': 5720,\n",
       " 'feel': 2519,\n",
       " 'friends': 2697,\n",
       " 'goodevening': 2862,\n",
       " 'que': 4933,\n",
       " 'pases': 4556,\n",
       " 'buen': 1394,\n",
       " 'tiempo': 6150,\n",
       " '08719899230': 148,\n",
       " '41685': 441,\n",
       " '07': 17,\n",
       " '11': 247,\n",
       " '08712402779': 95,\n",
       " 'immediately': 3246,\n",
       " 'forfeit': 2645,\n",
       " 'starting': 5758,\n",
       " 'word': 6774,\n",
       " 'tscs': 6305,\n",
       " 'idew': 3222,\n",
       " 'skillgame': 5549,\n",
       " '1winaweek': 311,\n",
       " '150ppermesssubscription': 281,\n",
       " 'putting': 4923,\n",
       " 'fires': 2577,\n",
       " 'cash': 1513,\n",
       " 'balance': 1093,\n",
       " 'pounds': 4774,\n",
       " 'maximize': 3958,\n",
       " '86688': 643,\n",
       " '150p': 278,\n",
       " 'cc': 1532,\n",
       " '08718720201': 129,\n",
       " '114': 249,\n",
       " '14': 268,\n",
       " 'tcr': 6013,\n",
       " 'w1': 6557,\n",
       " 'hope': 3127,\n",
       " 'settled': 5405,\n",
       " 'wishin': 6733,\n",
       " 'gr8': 2885,\n",
       " 'todays': 6196,\n",
       " 'plan': 4677,\n",
       " 'dropped': 2217,\n",
       " 'em': 2308,\n",
       " 'omw': 4414,\n",
       " 'vodafone': 6540,\n",
       " 'computer': 1755,\n",
       " 'picked': 4648,\n",
       " '150': 276,\n",
       " 'easy': 2263,\n",
       " '09061743386': 183,\n",
       " 'wondering': 6764,\n",
       " 'smiling': 5594,\n",
       " 'coping': 1818,\n",
       " 'distance': 2128,\n",
       " 'loved': 3804,\n",
       " 'gal': 2755,\n",
       " 'propsd': 4885,\n",
       " 'bt': 1387,\n",
       " 'didnt': 2077,\n",
       " 'mind': 4033,\n",
       " 'gv': 2949,\n",
       " 'lv': 3843,\n",
       " 'lttrs': 3826,\n",
       " 'frnds': 2706,\n",
       " 'threw': 6132,\n",
       " 'thm': 6121,\n",
       " 'decided': 1990,\n",
       " 'aproach': 940,\n",
       " 'dt': 2227,\n",
       " 'truck': 6291,\n",
       " 'speeding': 5692,\n",
       " 'wn': 6749,\n",
       " 'hit': 3087,\n",
       " 'girl': 2823,\n",
       " 'ran': 4970,\n",
       " 'hell': 3049,\n",
       " 'saved': 5304,\n",
       " 'asked': 990,\n",
       " 'cn': 1688,\n",
       " 'replied': 5110,\n",
       " 'boost': 1289,\n",
       " 'secret': 5353,\n",
       " 'instantly': 3314,\n",
       " 'shouted': 5476,\n",
       " 'thy': 6145,\n",
       " 'lived': 3731,\n",
       " 'happily': 2995,\n",
       " '2gthr': 355,\n",
       " 'drinking': 2210,\n",
       " 'evrydy': 2409,\n",
       " 'moral': 4118,\n",
       " 'story': 5815,\n",
       " 'hv': 3191,\n",
       " 'msgs': 4148,\n",
       " 'erm': 2367,\n",
       " 'woodland': 6767,\n",
       " 'avenue': 1049,\n",
       " 'parish': 4545,\n",
       " 'magazine': 3881,\n",
       " 'telephone': 6035,\n",
       " 'rubber': 5230,\n",
       " 'jd': 3409,\n",
       " 'service': 5399,\n",
       " 'cum': 1912,\n",
       " 'accounts': 735,\n",
       " 'executive': 2423,\n",
       " 'details': 2055,\n",
       " 'aathi': 698,\n",
       " 'castor': 1519,\n",
       " 'idk': 3224,\n",
       " 'saying': 5310,\n",
       " 'moved': 4131,\n",
       " 'butting': 1424,\n",
       " 'heads': 3027,\n",
       " 'freedom': 2679,\n",
       " 'vs': 6554,\n",
       " 'responsibility': 5139,\n",
       " 'tired': 6167,\n",
       " 'deal': 1976,\n",
       " 'barely': 1110,\n",
       " 'keeping': 3507,\n",
       " 'gets': 2808,\n",
       " 'added': 759,\n",
       " 'looking': 3774,\n",
       " 'numbers': 4356,\n",
       " 'ending': 2325,\n",
       " '4882': 468,\n",
       " 'selected': 5367,\n",
       " 'receive': 5026,\n",
       " '350': 406,\n",
       " 'award': 1056,\n",
       " '09064019014': 199,\n",
       " 'crucify': 1890,\n",
       " 'told': 6204,\n",
       " 'reached': 4993,\n",
       " 'bathe': 1128,\n",
       " 'using': 6463,\n",
       " 'net': 4260,\n",
       " 'finishes': 2572,\n",
       " 'great': 2903,\n",
       " 'sleep': 5562,\n",
       " 'slave': 5561,\n",
       " 'pictures': 4653,\n",
       " 'bright': 1358,\n",
       " 'light': 3690,\n",
       " 'cell': 1544,\n",
       " 'seeing': 5361,\n",
       " 'marriage': 3930,\n",
       " 'function': 2734,\n",
       " 'dehydrated': 2012,\n",
       " 'possession': 4757,\n",
       " 'especially': 2379,\n",
       " 'offense': 4388,\n",
       " 'lost': 3789,\n",
       " 'rebooting': 5021,\n",
       " 'log': 3754,\n",
       " 'sdryb8i': 5343,\n",
       " 'hearin': 3034,\n",
       " 'different': 2087,\n",
       " 'evng': 2406,\n",
       " 'blank': 1236,\n",
       " 'lot': 3790,\n",
       " 'chikku': 1611,\n",
       " 'abt': 714,\n",
       " 'stopped': 5807,\n",
       " 'irritating': 3356,\n",
       " 'msging': 4144,\n",
       " 'fyi': 2748,\n",
       " 'usf': 6461,\n",
       " 'room': 5208,\n",
       " 'crab': 1855,\n",
       " 'running': 5240,\n",
       " 'sea': 5345,\n",
       " 'shore': 5466,\n",
       " 'waves': 6628,\n",
       " 'cleared': 1661,\n",
       " 'footprints': 2638,\n",
       " 'frnd': 2705,\n",
       " 'clearing': 1663,\n",
       " 'beautiful': 1152,\n",
       " 'fox': 2666,\n",
       " 'catch': 1522,\n",
       " 'thats': 6089,\n",
       " 'frndsship': 2709,\n",
       " 'lets': 3673,\n",
       " 'dwn': 2245,\n",
       " 'nyt': 4369,\n",
       " 'sad': 5256,\n",
       " ...}"
      ]
     },
     "execution_count": 24,
     "metadata": {},
     "output_type": "execute_result"
    }
   ],
   "source": [
    "ver.vocabulary_"
   ]
  },
  {
   "cell_type": "code",
   "execution_count": 25,
   "metadata": {},
   "outputs": [
    {
     "data": {
      "text/plain": [
       "6914"
      ]
     },
     "execution_count": 25,
     "metadata": {},
     "output_type": "execute_result"
    }
   ],
   "source": [
    "len(ver.vocabulary_)"
   ]
  },
  {
   "cell_type": "code",
   "execution_count": 26,
   "metadata": {},
   "outputs": [],
   "source": [
    "## transform( ) the X_train and X_test array into a feature vector.\n",
    "X_train_transformed = ver.transform(X_train)\n",
    "X_test_transformed  = ver.transform(X_test)"
   ]
  },
  {
   "cell_type": "code",
   "execution_count": 27,
   "metadata": {},
   "outputs": [
    {
     "name": "stdout",
     "output_type": "stream",
     "text": [
      "  (0, 3114)\t1\n",
      "  (1, 733)\t1\n",
      "  (1, 4355)\t1\n",
      "  (2, 1630)\t1\n",
      "  (2, 1733)\t1\n",
      "  (2, 2076)\t1\n",
      "  (2, 2673)\t1\n",
      "  (2, 6112)\t1\n",
      "  (2, 6409)\t1\n",
      "  (2, 6438)\t1\n",
      "  (2, 6797)\t1\n",
      "  (3, 2849)\t1\n",
      "  (3, 3897)\t1\n",
      "  (3, 4080)\t1\n",
      "  (3, 4837)\t1\n",
      "  (3, 6866)\t1\n",
      "  (4, 393)\t1\n",
      "  (4, 1306)\t1\n",
      "  (4, 1736)\t1\n",
      "  (4, 2051)\t1\n",
      "  (4, 2251)\t1\n",
      "  (4, 2812)\t1\n",
      "  (4, 2848)\t1\n",
      "  (4, 3023)\t1\n",
      "  (4, 3028)\t1\n",
      "  :\t:\n",
      "  (3895, 5099)\t1\n",
      "  (3895, 5857)\t1\n",
      "  (3895, 6033)\t1\n",
      "  (3895, 6195)\t1\n",
      "  (3895, 6428)\t1\n",
      "  (3896, 1486)\t1\n",
      "  (3896, 1709)\t1\n",
      "  (3896, 1938)\t1\n",
      "  (3896, 2879)\t1\n",
      "  (3896, 3661)\t1\n",
      "  (3897, 1591)\t1\n",
      "  (3897, 2903)\t1\n",
      "  (3897, 3417)\t1\n",
      "  (3897, 3474)\t1\n",
      "  (3897, 4052)\t1\n",
      "  (3897, 4113)\t1\n",
      "  (3897, 5010)\t1\n",
      "  (3897, 5361)\t1\n",
      "  (3898, 2253)\t1\n",
      "  (3898, 3430)\t1\n",
      "  (3898, 3774)\t1\n",
      "  (3898, 5964)\t1\n",
      "  (3899, 757)\t1\n",
      "  (3899, 3016)\t1\n",
      "  (3899, 5172)\t1\n",
      "  (0, 3281)\t1\n",
      "  (0, 4033)\t1\n",
      "  (0, 5807)\t1\n",
      "  (0, 5950)\t1\n",
      "  (0, 6309)\t1\n",
      "  (1, 1708)\t1\n",
      "  (1, 2697)\t1\n",
      "  (1, 3529)\t1\n",
      "  (1, 4203)\t1\n",
      "  (1, 4543)\t1\n",
      "  (1, 5338)\t1\n",
      "  (1, 5618)\t1\n",
      "  (1, 5928)\t1\n",
      "  (1, 6580)\t1\n",
      "  (2, 99)\t1\n",
      "  (2, 293)\t1\n",
      "  (2, 335)\t1\n",
      "  (2, 631)\t1\n",
      "  (2, 1491)\t1\n",
      "  (2, 1718)\t1\n",
      "  (2, 1735)\t1\n",
      "  (2, 1920)\t1\n",
      "  (2, 2344)\t1\n",
      "  (2, 2352)\t1\n",
      "  (2, 2678)\t1\n",
      "  :\t:\n",
      "  (1665, 6782)\t1\n",
      "  (1666, 1055)\t1\n",
      "  (1666, 3114)\t1\n",
      "  (1666, 3543)\t1\n",
      "  (1666, 3803)\t1\n",
      "  (1666, 3812)\t1\n",
      "  (1667, 897)\t1\n",
      "  (1667, 3803)\t1\n",
      "  (1667, 4997)\t1\n",
      "  (1668, 3474)\t1\n",
      "  (1668, 5564)\t1\n",
      "  (1668, 5925)\t1\n",
      "  (1669, 1486)\t1\n",
      "  (1669, 1938)\t1\n",
      "  (1669, 4546)\t1\n",
      "  (1670, 2152)\t1\n",
      "  (1670, 2501)\t1\n",
      "  (1670, 2568)\t1\n",
      "  (1670, 3474)\t1\n",
      "  (1670, 3555)\t1\n",
      "  (1670, 3960)\t1\n",
      "  (1670, 4820)\t1\n",
      "  (1671, 903)\t1\n",
      "  (1671, 990)\t1\n",
      "  (1671, 1941)\t1\n"
     ]
    }
   ],
   "source": [
    "print(X_train_transformed)\n",
    "print(X_test_transformed)"
   ]
  },
  {
   "cell_type": "code",
   "execution_count": 28,
   "metadata": {},
   "outputs": [
    {
     "data": {
      "text/plain": [
       "scipy.sparse.csr.csr_matrix"
      ]
     },
     "execution_count": 28,
     "metadata": {},
     "output_type": "execute_result"
    }
   ],
   "source": [
    "type(X_test_transformed)"
   ]
  },
  {
   "cell_type": "code",
   "execution_count": 29,
   "metadata": {},
   "outputs": [
    {
     "name": "stdout",
     "output_type": "stream",
     "text": [
      "int64\n",
      "int64\n"
     ]
    }
   ],
   "source": [
    "### checking dtype of y_train and y_test\n",
    "print(y_train.dtype)\n",
    "print(y_test.dtype)"
   ]
  },
  {
   "cell_type": "markdown",
   "metadata": {},
   "source": [
    "- No need to fix these"
   ]
  },
  {
   "cell_type": "markdown",
   "metadata": {},
   "source": [
    "### 2. Building and Evaluating the Model"
   ]
  },
  {
   "cell_type": "code",
   "execution_count": 30,
   "metadata": {},
   "outputs": [],
   "source": [
    "## importing libraries\n",
    "from sklearn.naive_bayes import MultinomialNB"
   ]
  },
  {
   "cell_type": "code",
   "execution_count": 31,
   "metadata": {},
   "outputs": [],
   "source": [
    "## Instantiating an object of the model class\n",
    "mnb = MultinomialNB()\n"
   ]
  },
  {
   "cell_type": "code",
   "execution_count": 32,
   "metadata": {},
   "outputs": [
    {
     "data": {
      "text/plain": [
       "MultinomialNB()"
      ]
     },
     "execution_count": 32,
     "metadata": {},
     "output_type": "execute_result"
    }
   ],
   "source": [
    "## fitting X_train into the object\n",
    "mnb.fit(X_train_transformed,y_train)"
   ]
  },
  {
   "cell_type": "code",
   "execution_count": 33,
   "metadata": {},
   "outputs": [],
   "source": [
    "## making predictions on class\n",
    "y_pred_class = mnb.predict(X_test_transformed)"
   ]
  },
  {
   "cell_type": "code",
   "execution_count": 34,
   "metadata": {},
   "outputs": [
    {
     "data": {
      "text/plain": [
       "array([0, 0, 1, ..., 0, 0, 0])"
      ]
     },
     "execution_count": 34,
     "metadata": {},
     "output_type": "execute_result"
    }
   ],
   "source": [
    "y_pred_class"
   ]
  },
  {
   "cell_type": "markdown",
   "metadata": {},
   "source": [
    "- For Predicting class lables, the sckit model assumes some threshold and based on that assigns lables for a class.\n",
    "- Remember that generally , we do this exercise manually, where we assume some probability as a threshold based on optimal value obtained from precision,recall,ROC curve and then give lables."
   ]
  },
  {
   "cell_type": "code",
   "execution_count": 35,
   "metadata": {},
   "outputs": [],
   "source": [
    "## making predictions on probability\n",
    "y_pred_prob = mnb.predict_proba(X_test_transformed)"
   ]
  },
  {
   "cell_type": "code",
   "execution_count": 36,
   "metadata": {
    "scrolled": true
   },
   "outputs": [
    {
     "data": {
      "text/plain": [
       "array([[9.94506584e-01, 5.49341623e-03],\n",
       "       [9.98778526e-01, 1.22147350e-03],\n",
       "       [5.76808295e-14, 1.00000000e+00],\n",
       "       ...,\n",
       "       [9.99909918e-01, 9.00817460e-05],\n",
       "       [9.99950582e-01, 4.94176966e-05],\n",
       "       [9.91602665e-01, 8.39733459e-03]])"
      ]
     },
     "execution_count": 36,
     "metadata": {},
     "output_type": "execute_result"
    }
   ],
   "source": [
    "y_pred_prob"
   ]
  },
  {
   "cell_type": "markdown",
   "metadata": {},
   "source": [
    "- Here [9.94506584e-01, 5.49341623e-03] means that the probability of 0 is 9.94506584e-01 and the probability of 1 is  5.49341623e-03"
   ]
  },
  {
   "cell_type": "code",
   "execution_count": 37,
   "metadata": {},
   "outputs": [
    {
     "data": {
      "text/plain": [
       "MultinomialNB()"
      ]
     },
     "execution_count": 37,
     "metadata": {},
     "output_type": "execute_result"
    }
   ],
   "source": [
    "# note that alpha=1 is used by default for Lapalce smoothing\n",
    "mnb"
   ]
  },
  {
   "cell_type": "markdown",
   "metadata": {},
   "source": [
    "### Model Evaluation"
   ]
  },
  {
   "cell_type": "code",
   "execution_count": 38,
   "metadata": {},
   "outputs": [],
   "source": [
    "## importing libraries\n",
    "from sklearn.metrics import accuracy_score\n",
    "from sklearn.metrics import confusion_matrix"
   ]
  },
  {
   "cell_type": "code",
   "execution_count": 39,
   "metadata": {},
   "outputs": [
    {
     "data": {
      "text/plain": [
       "0.9844497607655502"
      ]
     },
     "execution_count": 39,
     "metadata": {},
     "output_type": "execute_result"
    }
   ],
   "source": [
    "## checking accuracy\n",
    "accuracy_score(y_test,y_pred_class)"
   ]
  },
  {
   "cell_type": "code",
   "execution_count": 40,
   "metadata": {},
   "outputs": [
    {
     "data": {
      "text/plain": [
       "array([[1438,   10],\n",
       "       [  16,  208]])"
      ]
     },
     "execution_count": 40,
     "metadata": {},
     "output_type": "execute_result"
    }
   ],
   "source": [
    "## making confusion matrix\n",
    "confusion_matrix(y_test,y_pred_class)"
   ]
  },
  {
   "cell_type": "markdown",
   "metadata": {},
   "source": [
    "### To calculate metrics like specificity, sensitivityb etc, we will write little code"
   ]
  },
  {
   "cell_type": "code",
   "execution_count": 41,
   "metadata": {},
   "outputs": [
    {
     "name": "stdout",
     "output_type": "stream",
     "text": [
      "[[1438   10]\n",
      " [  16  208]]\n"
     ]
    }
   ],
   "source": [
    "confusion = confusion_matrix(y_test,y_pred_class)\n",
    "TN = confusion[0,0]\n",
    "FP = confusion[0,1]\n",
    "FN = confusion[1,0]\n",
    "TP = confusion[1,1]\n",
    "print(confusion)"
   ]
  },
  {
   "cell_type": "code",
   "execution_count": 42,
   "metadata": {},
   "outputs": [
    {
     "name": "stdout",
     "output_type": "stream",
     "text": [
      "Sensitivity 0.9285714285714286\n"
     ]
    }
   ],
   "source": [
    "## calculating sensitivity\n",
    "sensitivity = TP/(TP+FN)\n",
    "print('Sensitivity',sensitivity)"
   ]
  },
  {
   "cell_type": "code",
   "execution_count": 43,
   "metadata": {},
   "outputs": [
    {
     "name": "stdout",
     "output_type": "stream",
     "text": [
      "Specificity 0.9930939226519337\n"
     ]
    }
   ],
   "source": [
    "## calculating specificity\n",
    "specificity = TN/(TN+FP)\n",
    "print('Specificity',specificity)"
   ]
  },
  {
   "cell_type": "markdown",
   "metadata": {},
   "source": [
    "### Measuring other indicators"
   ]
  },
  {
   "cell_type": "code",
   "execution_count": 44,
   "metadata": {},
   "outputs": [],
   "source": [
    "## importing libraries\n",
    "from sklearn.metrics import precision_score, recall_score, f1_score"
   ]
  },
  {
   "cell_type": "code",
   "execution_count": 45,
   "metadata": {},
   "outputs": [
    {
     "name": "stdout",
     "output_type": "stream",
     "text": [
      "PRECISION SCORE : 0.9541284403669725\n",
      "RECALL SCORE : 0.9285714285714286\n",
      "F1 SCORE : 0.9411764705882353\n"
     ]
    }
   ],
   "source": [
    "print(\"PRECISION SCORE :\",precision_score(y_test, y_pred_class))\n",
    "print(\"RECALL SCORE :\", recall_score(y_test, y_pred_class))\n",
    "print(\"F1 SCORE :\",f1_score(y_test, y_pred_class))"
   ]
  },
  {
   "cell_type": "markdown",
   "metadata": {},
   "source": [
    "### Creating ROC curve"
   ]
  },
  {
   "cell_type": "code",
   "execution_count": 46,
   "metadata": {},
   "outputs": [],
   "source": [
    "## importing libraries\n",
    "from sklearn.metrics import roc_curve,auc\n",
    "import matplotlib.pyplot as plt "
   ]
  },
  {
   "cell_type": "code",
   "execution_count": 47,
   "metadata": {},
   "outputs": [
    {
     "data": {
      "text/plain": [
       "array([5.49341623e-03, 1.22147350e-03, 1.00000000e+00, ...,\n",
       "       9.00817460e-05, 4.94176966e-05, 8.39733459e-03])"
      ]
     },
     "execution_count": 47,
     "metadata": {},
     "output_type": "execute_result"
    }
   ],
   "source": [
    "y_pred_prob[:,1]"
   ]
  },
  {
   "cell_type": "code",
   "execution_count": 48,
   "metadata": {},
   "outputs": [],
   "source": [
    "## getting values for ROC curve\n",
    "false_positive_rate, true_positive_rate, thresholds = roc_curve(y_test, y_pred_prob[:,1])"
   ]
  },
  {
   "cell_type": "markdown",
   "metadata": {},
   "source": [
    "- y_pred_prob[:,1] gives the prob for y=1 i.e `'spam'`"
   ]
  },
  {
   "cell_type": "code",
   "execution_count": 49,
   "metadata": {},
   "outputs": [
    {
     "data": {
      "text/plain": [
       "(1672, 2)"
      ]
     },
     "execution_count": 49,
     "metadata": {},
     "output_type": "execute_result"
    }
   ],
   "source": [
    "y_pred_prob.shape"
   ]
  },
  {
   "cell_type": "code",
   "execution_count": 50,
   "metadata": {},
   "outputs": [],
   "source": [
    "## calculating area under ROC\n",
    "roc_auc = auc(false_positive_rate, true_positive_rate)"
   ]
  },
  {
   "cell_type": "code",
   "execution_count": 51,
   "metadata": {},
   "outputs": [
    {
     "data": {
      "text/plain": [
       "0.9862556728492502"
      ]
     },
     "execution_count": 51,
     "metadata": {},
     "output_type": "execute_result"
    }
   ],
   "source": [
    "roc_auc"
   ]
  },
  {
   "cell_type": "markdown",
   "metadata": {},
   "source": [
    "### Making a dataframe for values returned from  roc_curve(  )"
   ]
  },
  {
   "cell_type": "code",
   "execution_count": 52,
   "metadata": {},
   "outputs": [
    {
     "data": {
      "text/html": [
       "<div>\n",
       "<style scoped>\n",
       "    .dataframe tbody tr th:only-of-type {\n",
       "        vertical-align: middle;\n",
       "    }\n",
       "\n",
       "    .dataframe tbody tr th {\n",
       "        vertical-align: top;\n",
       "    }\n",
       "\n",
       "    .dataframe thead th {\n",
       "        text-align: right;\n",
       "    }\n",
       "</style>\n",
       "<table border=\"1\" class=\"dataframe\">\n",
       "  <thead>\n",
       "    <tr style=\"text-align: right;\">\n",
       "      <th></th>\n",
       "      <th>Threshold</th>\n",
       "      <th>TPR</th>\n",
       "      <th>FPR</th>\n",
       "    </tr>\n",
       "  </thead>\n",
       "  <tbody>\n",
       "    <tr>\n",
       "      <th>0</th>\n",
       "      <td>2.000000e+00</td>\n",
       "      <td>0.000000</td>\n",
       "      <td>0.000000</td>\n",
       "    </tr>\n",
       "    <tr>\n",
       "      <th>1</th>\n",
       "      <td>1.000000e+00</td>\n",
       "      <td>0.308036</td>\n",
       "      <td>0.000000</td>\n",
       "    </tr>\n",
       "    <tr>\n",
       "      <th>2</th>\n",
       "      <td>1.000000e+00</td>\n",
       "      <td>0.321429</td>\n",
       "      <td>0.000000</td>\n",
       "    </tr>\n",
       "    <tr>\n",
       "      <th>3</th>\n",
       "      <td>1.000000e+00</td>\n",
       "      <td>0.330357</td>\n",
       "      <td>0.000000</td>\n",
       "    </tr>\n",
       "    <tr>\n",
       "      <th>4</th>\n",
       "      <td>1.000000e+00</td>\n",
       "      <td>0.339286</td>\n",
       "      <td>0.000000</td>\n",
       "    </tr>\n",
       "    <tr>\n",
       "      <th>...</th>\n",
       "      <td>...</td>\n",
       "      <td>...</td>\n",
       "      <td>...</td>\n",
       "    </tr>\n",
       "    <tr>\n",
       "      <th>172</th>\n",
       "      <td>4.922197e-14</td>\n",
       "      <td>1.000000</td>\n",
       "      <td>0.979282</td>\n",
       "    </tr>\n",
       "    <tr>\n",
       "      <th>173</th>\n",
       "      <td>4.592807e-14</td>\n",
       "      <td>1.000000</td>\n",
       "      <td>0.980663</td>\n",
       "    </tr>\n",
       "    <tr>\n",
       "      <th>174</th>\n",
       "      <td>2.489572e-14</td>\n",
       "      <td>1.000000</td>\n",
       "      <td>0.981354</td>\n",
       "    </tr>\n",
       "    <tr>\n",
       "      <th>175</th>\n",
       "      <td>1.595609e-14</td>\n",
       "      <td>1.000000</td>\n",
       "      <td>0.982735</td>\n",
       "    </tr>\n",
       "    <tr>\n",
       "      <th>176</th>\n",
       "      <td>2.348108e-82</td>\n",
       "      <td>1.000000</td>\n",
       "      <td>1.000000</td>\n",
       "    </tr>\n",
       "  </tbody>\n",
       "</table>\n",
       "<p>177 rows × 3 columns</p>\n",
       "</div>"
      ],
      "text/plain": [
       "        Threshold       TPR       FPR\n",
       "0    2.000000e+00  0.000000  0.000000\n",
       "1    1.000000e+00  0.308036  0.000000\n",
       "2    1.000000e+00  0.321429  0.000000\n",
       "3    1.000000e+00  0.330357  0.000000\n",
       "4    1.000000e+00  0.339286  0.000000\n",
       "..            ...       ...       ...\n",
       "172  4.922197e-14  1.000000  0.979282\n",
       "173  4.592807e-14  1.000000  0.980663\n",
       "174  2.489572e-14  1.000000  0.981354\n",
       "175  1.595609e-14  1.000000  0.982735\n",
       "176  2.348108e-82  1.000000  1.000000\n",
       "\n",
       "[177 rows x 3 columns]"
      ]
     },
     "execution_count": 52,
     "metadata": {},
     "output_type": "execute_result"
    }
   ],
   "source": [
    "pd.DataFrame({'Threshold':thresholds,'TPR': true_positive_rate,'FPR':false_positive_rate})"
   ]
  },
  {
   "cell_type": "markdown",
   "metadata": {},
   "source": [
    "- We plot the ROC curve between FPR at x-axis and TPR at y_axis for different values of threshold correspond to each TPR and FPR."
   ]
  },
  {
   "cell_type": "markdown",
   "metadata": {},
   "source": [
    "### Plotting the ROC curve"
   ]
  },
  {
   "cell_type": "code",
   "execution_count": 57,
   "metadata": {},
   "outputs": [
    {
     "data": {
      "image/png": "[encoded data removed]",
      "text/plain": [
       "<Figure size 432x288 with 1 Axes>"
      ]
     },
     "metadata": {
      "needs_background": "light"
     },
     "output_type": "display_data"
    }
   ],
   "source": [
    "%matplotlib inline\n",
    "plt.ylabel('True Positive Rate')\n",
    "plt.xlabel('False Positive Rate')\n",
    "plt.title(\"ROC Curve\")\n",
    "plt.plot(false_positive_rate,true_positive_rate)\n",
    "plt.show()\n"
   ]
  }
 ],
 "metadata": {
  "anaconda-cloud": {},
  "kernelspec": {
   "display_name": "Python 3",
   "language": "python",
   "name": "python3"
  },
  "language_info": {
   "codemirror_mode": {
    "name": "ipython",
    "version": 3
   },
   "file_extension": ".py",
   "mimetype": "text/x-python",
   "name": "python",
   "nbconvert_exporter": "python",
   "pygments_lexer": "ipython3",
   "version": "3.8.5"
  }
 },
 "nbformat": 4,
 "nbformat_minor": 1
}

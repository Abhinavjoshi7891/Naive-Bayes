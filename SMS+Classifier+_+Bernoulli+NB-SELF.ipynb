{
 "cells": [
  {
   "cell_type": "markdown",
   "metadata": {},
   "source": [
    "## SMS Spam Classifier: Bernoulli Naive Bayes\n",
    "\n",
    "The notebook is divided into the following sections:\n",
    "1. Importing and preprocessing data\n",
    "2. Building the model: Bernoulli Naive Bayes"
   ]
  },
  {
   "cell_type": "markdown",
   "metadata": {},
   "source": [
    "## Importing and Preprocessing the data "
   ]
  },
  {
   "cell_type": "markdown",
   "metadata": {},
   "source": [
    "### Importing the libraries"
   ]
  },
  {
   "cell_type": "code",
   "execution_count": 1,
   "metadata": {},
   "outputs": [],
   "source": [
    "import pandas as pd\n",
    "import numpy as np\n",
    "import matplotlib.pyplot as plt"
   ]
  },
  {
   "cell_type": "markdown",
   "metadata": {},
   "source": [
    "### Importing the file\n",
    "- The file is not in `'.csv'` format. So we will use pd.read_table( )"
   ]
  },
  {
   "cell_type": "code",
   "execution_count": 2,
   "metadata": {},
   "outputs": [],
   "source": [
    "docs = pd.read_table('SMSSpamCollection',header=None, names=['Class','sms'])"
   ]
  },
  {
   "cell_type": "code",
   "execution_count": 3,
   "metadata": {},
   "outputs": [
    {
     "data": {
      "text/html": [
       "<div>\n",
       "<style scoped>\n",
       "    .dataframe tbody tr th:only-of-type {\n",
       "        vertical-align: middle;\n",
       "    }\n",
       "\n",
       "    .dataframe tbody tr th {\n",
       "        vertical-align: top;\n",
       "    }\n",
       "\n",
       "    .dataframe thead th {\n",
       "        text-align: right;\n",
       "    }\n",
       "</style>\n",
       "<table border=\"1\" class=\"dataframe\">\n",
       "  <thead>\n",
       "    <tr style=\"text-align: right;\">\n",
       "      <th></th>\n",
       "      <th>Class</th>\n",
       "      <th>sms</th>\n",
       "    </tr>\n",
       "  </thead>\n",
       "  <tbody>\n",
       "    <tr>\n",
       "      <th>0</th>\n",
       "      <td>ham</td>\n",
       "      <td>Go until jurong point, crazy.. Available only ...</td>\n",
       "    </tr>\n",
       "    <tr>\n",
       "      <th>1</th>\n",
       "      <td>ham</td>\n",
       "      <td>Ok lar... Joking wif u oni...</td>\n",
       "    </tr>\n",
       "    <tr>\n",
       "      <th>2</th>\n",
       "      <td>spam</td>\n",
       "      <td>Free entry in 2 a wkly comp to win FA Cup fina...</td>\n",
       "    </tr>\n",
       "    <tr>\n",
       "      <th>3</th>\n",
       "      <td>ham</td>\n",
       "      <td>U dun say so early hor... U c already then say...</td>\n",
       "    </tr>\n",
       "    <tr>\n",
       "      <th>4</th>\n",
       "      <td>ham</td>\n",
       "      <td>Nah I don't think he goes to usf, he lives aro...</td>\n",
       "    </tr>\n",
       "  </tbody>\n",
       "</table>\n",
       "</div>"
      ],
      "text/plain": [
       "  Class                                                sms\n",
       "0   ham  Go until jurong point, crazy.. Available only ...\n",
       "1   ham                      Ok lar... Joking wif u oni...\n",
       "2  spam  Free entry in 2 a wkly comp to win FA Cup fina...\n",
       "3   ham  U dun say so early hor... U c already then say...\n",
       "4   ham  Nah I don't think he goes to usf, he lives aro..."
      ]
     },
     "execution_count": 3,
     "metadata": {},
     "output_type": "execute_result"
    }
   ],
   "source": [
    "## checking docs\n",
    "docs.head()"
   ]
  },
  {
   "cell_type": "code",
   "execution_count": 4,
   "metadata": {},
   "outputs": [
    {
     "data": {
      "text/plain": [
       "(5572, 2)"
      ]
     },
     "execution_count": 4,
     "metadata": {},
     "output_type": "execute_result"
    }
   ],
   "source": [
    "docs.shape"
   ]
  },
  {
   "cell_type": "markdown",
   "metadata": {},
   "source": [
    "### Checking for class imbalances"
   ]
  },
  {
   "cell_type": "code",
   "execution_count": 10,
   "metadata": {},
   "outputs": [
    {
     "data": {
      "text/plain": [
       "ham     4825\n",
       "spam     747\n",
       "Name: Class, dtype: int64"
      ]
     },
     "execution_count": 10,
     "metadata": {},
     "output_type": "execute_result"
    }
   ],
   "source": [
    "x = docs['Class'].value_counts()\n",
    "x"
   ]
  },
  {
   "cell_type": "code",
   "execution_count": 9,
   "metadata": {
    "scrolled": true
   },
   "outputs": [
    {
     "name": "stdout",
     "output_type": "stream",
     "text": [
      "Spam % is 13.406317300789663\n"
     ]
    }
   ],
   "source": [
    "## calculating the % of spam manually\n",
    "a = 747/(747+4825)*100\n",
    "print('Spam % is',a)"
   ]
  },
  {
   "cell_type": "code",
   "execution_count": 12,
   "metadata": {},
   "outputs": [
    {
     "name": "stdout",
     "output_type": "stream",
     "text": [
      "4825\n",
      "747\n"
     ]
    }
   ],
   "source": [
    "print(x[0])\n",
    "print(x[1])"
   ]
  },
  {
   "cell_type": "code",
   "execution_count": 13,
   "metadata": {},
   "outputs": [
    {
     "name": "stdout",
     "output_type": "stream",
     "text": [
      "Spam % is 13.406317300789663\n"
     ]
    }
   ],
   "source": [
    "## calculating spam% through code\n",
    "spam_percent = x[1]/(x[0]+x[1])*100\n",
    "print('Spam % is',spam_percent)"
   ]
  },
  {
   "cell_type": "markdown",
   "metadata": {},
   "source": [
    "- This value indicates no Class-Imbalance"
   ]
  },
  {
   "cell_type": "markdown",
   "metadata": {},
   "source": [
    "### Converting Class labels to binary"
   ]
  },
  {
   "cell_type": "code",
   "execution_count": 14,
   "metadata": {},
   "outputs": [
    {
     "data": {
      "text/html": [
       "<div>\n",
       "<style scoped>\n",
       "    .dataframe tbody tr th:only-of-type {\n",
       "        vertical-align: middle;\n",
       "    }\n",
       "\n",
       "    .dataframe tbody tr th {\n",
       "        vertical-align: top;\n",
       "    }\n",
       "\n",
       "    .dataframe thead th {\n",
       "        text-align: right;\n",
       "    }\n",
       "</style>\n",
       "<table border=\"1\" class=\"dataframe\">\n",
       "  <thead>\n",
       "    <tr style=\"text-align: right;\">\n",
       "      <th></th>\n",
       "      <th>Class</th>\n",
       "      <th>sms</th>\n",
       "    </tr>\n",
       "  </thead>\n",
       "  <tbody>\n",
       "    <tr>\n",
       "      <th>0</th>\n",
       "      <td>0</td>\n",
       "      <td>Go until jurong point, crazy.. Available only ...</td>\n",
       "    </tr>\n",
       "    <tr>\n",
       "      <th>1</th>\n",
       "      <td>0</td>\n",
       "      <td>Ok lar... Joking wif u oni...</td>\n",
       "    </tr>\n",
       "    <tr>\n",
       "      <th>2</th>\n",
       "      <td>1</td>\n",
       "      <td>Free entry in 2 a wkly comp to win FA Cup fina...</td>\n",
       "    </tr>\n",
       "    <tr>\n",
       "      <th>3</th>\n",
       "      <td>0</td>\n",
       "      <td>U dun say so early hor... U c already then say...</td>\n",
       "    </tr>\n",
       "    <tr>\n",
       "      <th>4</th>\n",
       "      <td>0</td>\n",
       "      <td>Nah I don't think he goes to usf, he lives aro...</td>\n",
       "    </tr>\n",
       "  </tbody>\n",
       "</table>\n",
       "</div>"
      ],
      "text/plain": [
       "   Class                                                sms\n",
       "0      0  Go until jurong point, crazy.. Available only ...\n",
       "1      0                      Ok lar... Joking wif u oni...\n",
       "2      1  Free entry in 2 a wkly comp to win FA Cup fina...\n",
       "3      0  U dun say so early hor... U c already then say...\n",
       "4      0  Nah I don't think he goes to usf, he lives aro..."
      ]
     },
     "execution_count": 14,
     "metadata": {},
     "output_type": "execute_result"
    }
   ],
   "source": [
    "## using map fucntion to convert spam to 1 and ham to 0\n",
    "docs['Class']= docs['Class'].map({'ham':0,'spam':1})\n",
    "docs.head()"
   ]
  },
  {
   "cell_type": "markdown",
   "metadata": {},
   "source": [
    "### Creating X and y labels"
   ]
  },
  {
   "cell_type": "code",
   "execution_count": 15,
   "metadata": {},
   "outputs": [],
   "source": [
    "## X and y\n",
    "X = docs['sms']\n",
    "y = docs['Class']"
   ]
  },
  {
   "cell_type": "code",
   "execution_count": 18,
   "metadata": {},
   "outputs": [
    {
     "name": "stdout",
     "output_type": "stream",
     "text": [
      "0       Go until jurong point, crazy.. Available only ...\n",
      "1                           Ok lar... Joking wif u oni...\n",
      "2       Free entry in 2 a wkly comp to win FA Cup fina...\n",
      "3       U dun say so early hor... U c already then say...\n",
      "4       Nah I don't think he goes to usf, he lives aro...\n",
      "                              ...                        \n",
      "5567    This is the 2nd time we have tried 2 contact u...\n",
      "5568                 Will ü b going to esplanade fr home?\n",
      "5569    Pity, * was in mood for that. So...any other s...\n",
      "5570    The guy did some bitching but I acted like i'd...\n",
      "5571                           Rofl. Its true to its name\n",
      "Name: sms, Length: 5572, dtype: object\n",
      "0       0\n",
      "1       0\n",
      "2       1\n",
      "3       0\n",
      "4       0\n",
      "       ..\n",
      "5567    1\n",
      "5568    0\n",
      "5569    0\n",
      "5570    0\n",
      "5571    0\n",
      "Name: Class, Length: 5572, dtype: int64\n"
     ]
    }
   ],
   "source": [
    "print(X)\n",
    "print(y)"
   ]
  },
  {
   "cell_type": "code",
   "execution_count": 19,
   "metadata": {},
   "outputs": [
    {
     "data": {
      "text/plain": [
       "(5572,)"
      ]
     },
     "execution_count": 19,
     "metadata": {},
     "output_type": "execute_result"
    }
   ],
   "source": [
    "X.shape"
   ]
  },
  {
   "cell_type": "code",
   "execution_count": 20,
   "metadata": {},
   "outputs": [
    {
     "data": {
      "text/plain": [
       "(5572,)"
      ]
     },
     "execution_count": 20,
     "metadata": {},
     "output_type": "execute_result"
    }
   ],
   "source": [
    "y.shape"
   ]
  },
  {
   "cell_type": "code",
   "execution_count": 21,
   "metadata": {},
   "outputs": [
    {
     "data": {
      "text/plain": [
       "dtype('int64')"
      ]
     },
     "execution_count": 21,
     "metadata": {},
     "output_type": "execute_result"
    }
   ],
   "source": [
    "## cheking dtype of y\n",
    "y.dtype"
   ]
  },
  {
   "cell_type": "markdown",
   "metadata": {},
   "source": [
    "- Already int, no need to change"
   ]
  },
  {
   "cell_type": "markdown",
   "metadata": {},
   "source": [
    "### Creating train and test datasets"
   ]
  },
  {
   "cell_type": "code",
   "execution_count": 22,
   "metadata": {},
   "outputs": [],
   "source": [
    "## importing libraries\n",
    "from sklearn.model_selection import train_test_split"
   ]
  },
  {
   "cell_type": "code",
   "execution_count": 23,
   "metadata": {},
   "outputs": [],
   "source": [
    "## splitting the data\n",
    "X_train,X_test,y_train,y_test = train_test_split(X,y,train_size=0.7,random_state=100)"
   ]
  },
  {
   "cell_type": "code",
   "execution_count": 24,
   "metadata": {},
   "outputs": [
    {
     "data": {
      "text/plain": [
       "(3900,)"
      ]
     },
     "execution_count": 24,
     "metadata": {},
     "output_type": "execute_result"
    }
   ],
   "source": [
    "X_train.shape"
   ]
  },
  {
   "cell_type": "markdown",
   "metadata": {},
   "source": [
    "### Creating Bag of Words Representation"
   ]
  },
  {
   "cell_type": "markdown",
   "metadata": {},
   "source": [
    "- We will follow the normal cycle:\n",
    "    - First, we will instantiate an object of CountVectorizer( ) class. This object is contained in the library sklearn.feature_extraction.text ( as we are basically extracting features from text.\n",
    "    - And then, we will fit( ) the X_train array into the object.\n",
    "    - Finally, we will transform( ) the X_train array and X_test array into a feature vector.\n",
    "    - Remeber, while working on the test data, we will never use fit( ) method of any class, as in real life we never/rarely have test data!\n",
    "    - So, for test data we only use the transform( )."
   ]
  },
  {
   "cell_type": "code",
   "execution_count": 26,
   "metadata": {},
   "outputs": [],
   "source": [
    "## importing libraries\n",
    "from sklearn.feature_extraction.text import CountVectorizer"
   ]
  },
  {
   "cell_type": "code",
   "execution_count": 30,
   "metadata": {},
   "outputs": [],
   "source": [
    "## instatiating object\n",
    "vect = CountVectorizer(stop_words='english')"
   ]
  },
  {
   "cell_type": "code",
   "execution_count": 31,
   "metadata": {},
   "outputs": [
    {
     "data": {
      "text/plain": [
       "CountVectorizer(stop_words='english')"
      ]
     },
     "execution_count": 31,
     "metadata": {},
     "output_type": "execute_result"
    }
   ],
   "source": [
    "## fitting X_tarin into object\n",
    "vect.fit(X_train)"
   ]
  },
  {
   "cell_type": "code",
   "execution_count": 33,
   "metadata": {},
   "outputs": [
    {
     "data": {
      "text/plain": [
       "6914"
      ]
     },
     "execution_count": 33,
     "metadata": {},
     "output_type": "execute_result"
    }
   ],
   "source": [
    "len(vect.vocabulary_)"
   ]
  },
  {
   "cell_type": "code",
   "execution_count": 34,
   "metadata": {},
   "outputs": [
    {
     "name": "stdout",
     "output_type": "stream",
     "text": [
      "{'home': 3114, 'account': 733, 'number': 4355, 'wow': 6797, 'didn': 2076, 'think': 6112, 'common': 1733, 'ur': 6438, 'freak': 2673, 'unless': 6409, 'chop': 1630, 'yes': 6866, 'princess': 4837, 'going': 2849, 'make': 3897, 'moan': 4080, 'looks': 3775, 'like': 3693, 'wil': 6712, 'getting': 2812, 'headstart': 3028, 'im': 3236, 'leaving': 3651, 'bout': 1306, '30ish': 393, 'desperate': 2051, 'company': 1736, 'head': 3023, 'earlier': 2251, 'goin': 2848, 'meet': 3982, 'rummer': 5237, 'dont': 2172, 'know': 3555, 'bring': 1361, 'food': 2631, 'save': 5303, 'money': 4108, 'wedding': 6649, 'lingerie': 3712, 'www': 6822, 'bridal': 1354, 'petticoatdreams': 4623, 'uk': 6363, 'choose': 1628, 'superb': 5909, 'selection': 5368, 'national': 4222, 'delivery': 2024, 'brought': 1379, 'weddingfriend': 6650, 'sorry': 5654, 'll': 3737, 'later': 3619, 'havent': 3016, 'got': 2875, 'urself': 6451, 'jacket': 3387, 'ah': 807, 'ugh': 6357, 'hopefully': 3130, 'asus': 1007, 'ppl': 4781, 'randomly': 4972, 'reformat': 5058, 'prasanth': 4795, 'ettans': 2383, 'mother': 4125, 'passed': 4559, 'away': 1058, 'night': 4290, 'just': 3474, 'pray': 4798, 'family': 2486, 'did': 2075, 'wot': 6791, 'say': 5307, 'dust': 2242, 'time': 6159, 'come': 1724, 'tomorrow': 6214, 'alright': 851, 'set': 5402, 'text': 6067, 'man': 3907, 'type': 6349, 'stuff': 5846, 'sing': 5523, 'urgent': 6442, '2nd': 368, 'attempt': 1017, 'contact': 1792, '900': 675, 'prize': 4848, 'yesterday': 6868, 'awaiting': 1054, 'collection': 1712, 'claim': 1646, '09061702893': 182, 'oh': 4398, 'fuck': 2721, 'sake': 5264, 'tallahassee': 5988, 'affidavit': 788, 'says': 5311, 'lt': 3825, 'gt': 2928, 'twiggs': 6330, 'st': 5739, 'division': 2134, 'courtroom': 1848, 'double': 2186, 'check': 1587, 'sleeping': 5564, 'haha': 2960, 'spys': 5731, 'wat': 6614, 'online': 4419, 'checking': 1591, 'replying': 5112, 'mails': 3892, 'lor': 3782, 'sura': 5922, 'sun': 5898, 'tv': 6327, 'lol': 3762, 'letters': 3675, 'copy': 1820, 'cos': 1827, 'message': 4006, 'speak': 5681, 'soon': 5646, 'mobile': 4082, 'awarded': 1057, '2000': 316, 'guaranteed': 2930, '09061790121': 188, 'land': 3597, 'line': 3708, '3030': 391, 'valid': 6477, '12hrs': 263, '150ppm': 282, 'takes': 5978, 'little': 3729, 'child': 1612, 'afraid': 790, 'dark': 1953, 'teenager': 6030, 'wants': 6603, 'stay': 5768, 'dare': 1952, 'ask': 988, 'luck': 3828, 'sorting': 5658, 'car': 1486, 'new': 4273, 'mobiles': 4083, '2004': 318, 'txt': 6335, 'nokia': 4311, '89545': 665, 'collect': 1709, 'today': 6195, 'tc': 6012, 'biz': 1230, '2optout': 370, '087187262701': 133, '50gbp': 502, 'mtmsg18': 4155, 'txtauction': 6339, 'yar': 6852, 'actually': 754, 'quite': 4944, 'fast': 2498, 'da': 1938, 'ge': 2789, 'slow': 5579, 'hamster': 2975, 'dead': 1975, 'hey': 3071, 'tmr': 6184, '1pm': 305, 'orchard': 4450, 'mrt': 4141, 'ok': 4402, 'takin': 5979, 'linear': 3709, 'algebra': 838, 'use': 6455, 'msn': 4149, 'valued': 6481, 'customer': 1923, 'pleased': 4693, 'advise': 779, 'following': 2625, 'recent': 5030, 'review': 5160, 'mob': 4081, '1500': 277, 'bonus': 1280, '09066364589': 213, 'hai': 2962, 'ana': 876, 'tomarrow': 6209, 'coming': 1730, 'morning': 4122, 'decimal': 1992, 'ill': 3232, 'sathy': 5294, 'rto': 5227, 'office': 4393, 'reply': 5111, 'came': 1468, 'shb': 5432, 'thanx': 6086, 'wahala': 6572, 'remember': 5086, 'friend': 2696, 'need': 4246, 'dun': 2236, 'pick': 4647, 'gf': 2814, 'local': 3746, 'dates': 1964, 'area': 947, 'lots': 3792, 'people': 4598, 'registered': 5068, 'date': 1962, 'start': 5756, '18': 293, 'flirtparty': 2604, 'replys150': 5113, 'die': 2078, 'want': 6600, 'stuffs': 5850, 'read': 4997, 'shame': 5423, 'tell': 6037, 'runs': 5241, 'blame': 1235, 'really': 5010, 'long': 3767, 'plans': 4683, 'stone': 5797, 'free': 2678, 'msg': 4142, 'single': 5526, 'partner': 4551, '1000s': 237, 'real': 5002, 'waiting': 6580, 'chat': 1578, 'send': 5380, '62220cncl': 535, 'stopcs': 5806, '08717890890': 126, '50': 496, 'aight': 814, 'work': 6776, 'thanks': 6082, 'gorgeous': 2872, 'good': 2861, 'babe': 1073, 'squishy': 5735, 'mwahs': 4191, 'fever': 2534, 'vomitin': 6546, 'sounds': 5665, 'better': 1193, 'evening': 2392, 'doing': 2160, 'costume': 1833, 'sure': 5923, 'finish': 2569, 'end': 2323, 'lara': 3609, 'said': 5263, 'loan': 3743, 'treat': 6275, 'yeah': 6857, 'couple': 1844, 'minutes': 4045, 'track': 6253, 'wallet': 6591, 'hi': 3075, 'dude': 2231, 'hw': 3194, 'realy': 5012, 'mising': 4050, 'questions': 4939, 'mistake': 4062, 'drink': 2208, 'pa': 4503, 'srs': 5736, 'model': 4093, 'pls': 4698, 'mail': 3890, 'id': 3216, 'late': 3616, 'way': 6629, 'swing': 5952, 'special': 5683, 'shit': 5452, 'wasn': 6611, 'surprised': 5929, 'went': 6674, 'spent': 5697, 'french': 2688, 'guy': 2947, 'met': 4013, 'town': 6250, 'fooled': 2633, 'bit': 1224, 'let': 3672, 'jus': 3473, 'rite': 5186, 'smile': 5590, 'crucial': 1889, 'things': 6111, 'life': 3685, 'makes': 3898, 'forget': 2646, 'gud': 2932, 'noon': 4319, 'yup': 6898, 'wait': 6577, 'rain': 4960, 'stop': 5801, 'city': 1644, 'break': 1343, 'win': 6716, '200': 315, 'summer': 5895, 'shopping': 5464, 'spree': 5727, 'wk': 6739, 'store': 5811, '88039': 654, 'skilgme': 5548, 'tscs087147403231winawk': 6307, 'age16': 799, '50perwksub': 505, 'general': 2795, 'price': 4832, 'oz': 4502, 'try': 6300, 'making': 3901, 'butt': 1422, 'tog': 6198, 'probably': 4853, 'tonight': 6222, 'iouri': 3345, 'gave': 2779, 'wylie': 6823, 'ryan': 5248, 'yo': 6874, 'dear': 1980, 'mood': 4116, 'drive': 2212, 'brother': 1377, 'wont': 6766, 'play': 4686, 'driving': 2214, 'clas': 1651, 'hear': 3032, 'loud': 3798, 'scream': 5336, 'cause': 1526, 'gyno': 2954, 'shoving': 5478, 'don': 2169, 'belong': 1178, 'fact': 2463, 'leave': 3649, 'addie': 760, 'goes': 2845, 'school': 5323, 'tues': 6313, 'wed': 6647, 'care': 1491, 'understand': 6386, 'sense': 5384, 'btw': 1388, 'carlos': 1503, 'difficult': 2088, 'guys': 2948, 'gonna': 2859, 'smoke': 5596, 'second': 5351, 'batch': 1126, 'gas': 2774, 'drug': 2221, 'dealer': 1977, 'impatient': 3249, 'nope': 4322, 'watching': 6618, 'bored': 1293, '10': 233, 'mths': 4153, 'update': 6425, 'latest': 3620, 'camera': 1469, 'video': 6508, 'phones': 4638, 'extra': 2452, 'mins': 4042, 'texts': 6077, 'wrc': 6798, 'rally': 4968, 'lucozade': 3831, 'energy': 2332, 'le': 3642, '61200': 533, '25p': 337, 'packs': 4507, 'itcould': 3369, 'deus': 2056, 'ex': 2410, 'change': 1560, 'germany': 2805, 'pence': 4593, 'minute': 4044, 'fixed': 2585, 'access': 723, '0844': 56, '861': 641, '85': 634, 'prepayment': 4813, 'direct': 2106, 'attend': 1019, 'lesson': 3670, 'times': 6160, 'day': 1969, 'plus': 4700, 'grinule': 2913, 'greet': 2907, 'phone': 4634, 'callon': 1462, 'friday': 2693, 'assume': 1000, 'won': 6759, 'year': 6858, 'xmas': 6831, 'iscoming': 3359, '500': 497, 'cd': 1535, 'gift': 2819, 'vouchers': 6551, 'entry': 2352, '100': 234, 'weekly': 6659, 'draw': 2200, 'music': 4181, '87066': 646, 'tnc': 6188, 'ldew': 3639, 'com1win150ppmx3age16subscription': 1720, 'hack': 2958, 'backdoor': 1082, '121': 256, 'rooms': 5211, 'fraction': 2668, 'cost': 1829, 'neo69': 4257, '09050280520': 157, 'subscribe': 5861, 'pm': 4702, 'dps': 2195, 'bcm': 1141, 'box': 1310, '8027': 602, 'ldn': 3640, 'wc1n3xx': 6633, 'engin': 2336, 'god': 2843, 'college': 1714, 'self': 5369, 'near': 4235, 'kalainar': 3489, 'thenampet': 6100, 'best': 1189, 'watch': 6615, 'drunk': 2223, 'motherfucker': 4126, 'fine': 2566, 'sends': 5383, 'greetings': 2909, 'baby': 1076, 'tho': 6124, 'sooner': 5647, 'gary': 2773, 'fix': 2583, 'thinks': 6116, 'knows': 3558, 'doesn': 2152, 'far': 2495, 'ptbo': 4901, 'bucks': 1391, 'cheaper': 1583, 'hand': 2976, 'machines': 3869, 'right': 5172, 'took': 6226, 'tablets': 5967, 'reaction': 4996, 'dunno': 2238, 'lei': 3661, 'thk': 6119, 'mum': 4167, 'lazy': 3637, 'neva': 4269, 'point': 4721, 'hangin': 2984, 'mr': 4139, 'makin': 3900, 'happy': 2997, 'mrng': 4140, 'hav': 3012, 'nice': 4283, 'hello': 3051, 'hun': 3178, 'ru': 5228, 'walkabout': 6585, 'hows': 3155, 'omg': 4413, 'ate': 1008, 'big': 1203, 'chic': 1607, 'declare': 1996, 'aslamalaikkum': 994, 'insha': 3306, 'allah': 842, 'tohar': 6199, 'beeen': 1160, 'muht': 4163, 'albi': 830, 'mufti': 4161, 'mahfuuz': 3888, 'meaning': 3968, 'ringtone': 5179, 'order': 4451, 'reference': 5052, 'x49': 6825, 'charged': 1569, 'tone': 6216, 'arrive': 973, 'services': 5400, '09065989182': 205, 'colour': 1716, 'red': 5047, 'txtstar': 6344, 'shall': 5422, 'bottle': 1303, 'wine': 6721, 'amused': 874, 'joking': 3443, 'aunt': 1031, 'nike': 4295, 'private': 4846, '2003': 317, 'statement': 5765, 'fone': 2627, 'shows': 5486, '800': 592, 'redeemed': 5049, 'points': 4722, '08715203656': 113, 'identifier': 3221, 'code': 1696, '42049': 443, 'expires': 2440, '26': 338, '04': 11, 'wan2': 6597, 'westlife': 6682, 'm8': 3857, 'currently': 1918, 'tour': 6249, 'unbreakable': 6376, 'untamed': 6420, 'unkempt': 6407, '83049': 619, '50p': 503, 'std': 5773, 'lucky': 3830, 'winner': 6724, '88600': 658, '1million': 304, 'ppt150x3': 4785, 'normal': 4326, 'rate': 4978, 'box403': 1319, 'w1t1jy': 6563, 'fancy': 2491, 'shag': 5416, 'interested': 3322, 'sextextuk': 5408, 'com': 1718, 'xxuk': 6837, 'suzy': 5934, '69876': 553, 'txts': 6343, 'tncs': 6189, 'website': 6646, 'frm': 2703, 'tht': 6139, 'unknown': 6408, 'ain': 815, 'answerin': 898, 'pretty': 4827, 'reasonable': 5016, 'hour': 3147, 'sleepy': 5567, 'accidentally': 727, 'left': 3654, 'silent': 5512, 'til': 6156, 'trying': 6302, 'chinese': 1622, 'place': 4674, 'days': 1970, 'euro2004': 2385, 'kickoff': 3524, 'kept': 3510, 'informed': 3294, 'news': 4278, 'results': 5147, 'daily': 1944, 'unsubscribe': 6419, 'euro': 2384, '83222': 621, 'moving': 4136, 'flat': 2593, 'arrange': 969, 'lamp': 3596, 'caroline': 1505, 'safe': 5259, 'trip': 6283, 'nigeria': 4288, 'wish': 6731, 'happiness': 2996, 'share': 5428, 'moments': 4103, 'half': 2968, '8th': 673, 'love': 3803, 'pocy': 4717, 'bell': 1176, 'shop': 5462, 'flirting': 2603, 'paperwork': 4533, 'called': 1455, 'texted': 6072, 'nervous': 4258, 'course': 1846, 'address': 761, 'boss': 1298, 'knowing': 3556, 'fired': 2575, 'sent': 5388, 'email': 2309, 'haven': 3015, 'dinner': 2101, 'heard': 3033, 'leg': 3656, 'hurts': 3188, 'musta': 4184, 'overdid': 4488, 'mon': 4105, 'mm': 4071, 'fun': 2733, 'forwarded': 2661, '21870000': 326, 'mailbox': 3891, 'messaging': 4009, 'sms': 5601, 'alert': 834, 'messages': 4008, '21': 325, 'matches': 3944, '09056242159': 159, 'retrieve': 5150, 'boy': 1325, 'sweet': 5943, 'words': 6775, 'sighs': 5503, 'studying': 5844, 'smart': 5585, 'week': 6655, 'quiz': 4946, '85222': 638, 'cs': 1895, 'winnersclub': 6725, 'po': 4703, '84': 628, 'm26': 3852, '3uz': 429, '16': 289, 'gbp1': 2785, 'congrats': 1777, '3g': 420, 'videophones': 6510, '09061744553': 187, 'videochat': 6509, 'wid': 6704, 'mates': 3946, 'java': 3404, 'games': 2761, 'dload': 2141, 'polyh': 4731, 'noline': 4315, 'rentl': 5103, 'bx420': 1433, 'ip4': 3346, '5we': 525, '150pm': 280, 'run': 5239, 'walk': 6584, 'slowly': 5580, 'amp': 868, 'kills': 3534, 'cool': 1814, 'ready': 5001, 'friendship': 2699, 'poem': 4719, 'fear': 2513, 'live': 3730, 'cheer': 1595, 'tear': 6022, 'ni8': 4281, 'forgot': 2651, 'smth': 5604, 'sections': 5357, 'clearer': 1662, 'men': 3995, 'lunch': 3835, 'lar': 3608, 'sis': 5532, 'arts': 977, 'invite': 3338, 'joined': 3437, 'trek': 6280, 'chance': 1558, '250': 335, 'wkly': 6743, '80878': 606, 'custcare': 1921, '08715705022': 119, '1x150p': 313, 'theyre': 6107, 'places': 4676, 'hospitals': 3140, 'medical': 3978, '07753741225': 25, '08715203677': 114, '42478': 445, '24': 331, 'cps': 1853, 'causing': 1528, 'outages': 4476, 'conserve': 1786, 'ya': 6845, 'ganesh': 2763, 'dress': 2205, 'helloooo': 3052, 'wake': 6581, 'welcomes': 6669, 'enjoy': 2339, 'joy': 3453, 'whats': 6687, 'matter': 3951, 'alibi': 840, 'cutting': 1932, 'hair': 2964, 'oops': 4426, 'haf': 2959, 'enuff': 2355, 'mom': 4101, 'tmrw': 6185, 'finishing': 2573, 'doors': 2180, 'handset': 2981, '750': 573, 'anytime': 910, 'network': 4266, 'rental': 5101, 'camcorder': 1467, '08000930705': 46, 'december': 1987, '11mths': 253, 'entitled': 2349, 'vco': 6490, '08002986906': 50, 'ard': 946, '515': 510, 'dat': 1960, 'salad': 5265, 'desert': 2047, 'beers': 1165, 'short': 5467, 'cute': 1928, 'person': 4611, 'prove': 4889, 've': 6492, 'version': 6500, 'project': 4870, 'funny': 2741, 'laugh': 3623, 'talk': 5983, 'spontaneously': 5720, 'feel': 2519, 'friends': 2697, 'goodevening': 2862, 'que': 4933, 'pases': 4556, 'buen': 1394, 'tiempo': 6150, '08719899230': 148, '41685': 441, '07': 17, '11': 247, '08712402779': 95, 'immediately': 3246, 'forfeit': 2645, 'starting': 5758, 'word': 6774, 'tscs': 6305, 'idew': 3222, 'skillgame': 5549, '1winaweek': 311, '150ppermesssubscription': 281, 'putting': 4923, 'fires': 2577, 'cash': 1513, 'balance': 1093, 'pounds': 4774, 'maximize': 3958, '86688': 643, '150p': 278, 'cc': 1532, '08718720201': 129, '114': 249, '14': 268, 'tcr': 6013, 'w1': 6557, 'hope': 3127, 'settled': 5405, 'wishin': 6733, 'gr8': 2885, 'todays': 6196, 'plan': 4677, 'dropped': 2217, 'em': 2308, 'omw': 4414, 'vodafone': 6540, 'computer': 1755, 'picked': 4648, '150': 276, 'easy': 2263, '09061743386': 183, 'wondering': 6764, 'smiling': 5594, 'coping': 1818, 'distance': 2128, 'loved': 3804, 'gal': 2755, 'propsd': 4885, 'bt': 1387, 'didnt': 2077, 'mind': 4033, 'gv': 2949, 'lv': 3843, 'lttrs': 3826, 'frnds': 2706, 'threw': 6132, 'thm': 6121, 'decided': 1990, 'aproach': 940, 'dt': 2227, 'truck': 6291, 'speeding': 5692, 'wn': 6749, 'hit': 3087, 'girl': 2823, 'ran': 4970, 'hell': 3049, 'saved': 5304, 'asked': 990, 'cn': 1688, 'replied': 5110, 'boost': 1289, 'secret': 5353, 'instantly': 3314, 'shouted': 5476, 'thy': 6145, 'lived': 3731, 'happily': 2995, '2gthr': 355, 'drinking': 2210, 'evrydy': 2409, 'moral': 4118, 'story': 5815, 'hv': 3191, 'msgs': 4148, 'erm': 2367, 'woodland': 6767, 'avenue': 1049, 'parish': 4545, 'magazine': 3881, 'telephone': 6035, 'rubber': 5230, 'jd': 3409, 'service': 5399, 'cum': 1912, 'accounts': 735, 'executive': 2423, 'details': 2055, 'aathi': 698, 'castor': 1519, 'idk': 3224, 'saying': 5310, 'moved': 4131, 'butting': 1424, 'heads': 3027, 'freedom': 2679, 'vs': 6554, 'responsibility': 5139, 'tired': 6167, 'deal': 1976, 'barely': 1110, 'keeping': 3507, 'gets': 2808, 'added': 759, 'looking': 3774, 'numbers': 4356, 'ending': 2325, '4882': 468, 'selected': 5367, 'receive': 5026, '350': 406, 'award': 1056, '09064019014': 199, 'crucify': 1890, 'told': 6204, 'reached': 4993, 'bathe': 1128, 'using': 6463, 'net': 4260, 'finishes': 2572, 'great': 2903, 'sleep': 5562, 'slave': 5561, 'pictures': 4653, 'bright': 1358, 'light': 3690, 'cell': 1544, 'seeing': 5361, 'marriage': 3930, 'function': 2734, 'dehydrated': 2012, 'possession': 4757, 'especially': 2379, 'offense': 4388, 'lost': 3789, 'rebooting': 5021, 'log': 3754, 'sdryb8i': 5343, 'hearin': 3034, 'different': 2087, 'evng': 2406, 'blank': 1236, 'lot': 3790, 'chikku': 1611, 'abt': 714, 'stopped': 5807, 'irritating': 3356, 'msging': 4144, 'fyi': 2748, 'usf': 6461, 'room': 5208, 'crab': 1855, 'running': 5240, 'sea': 5345, 'shore': 5466, 'waves': 6628, 'cleared': 1661, 'footprints': 2638, 'frnd': 2705, 'clearing': 1663, 'beautiful': 1152, 'fox': 2666, 'catch': 1522, 'thats': 6089, 'frndsship': 2709, 'lets': 3673, 'dwn': 2245, 'nyt': 4369, 'sad': 5256, 'wife': 6707, 'nt': 4348, 'parents': 4543, 'kids': 3528, 'colleagues': 1708, 'entered': 2345, 'cabin': 1438, 'felt': 2529, 'askd': 989, 'invited': 3339, 'apartment': 914, 'bedroom': 1159, 'sed': 5359, 'sexy': 5410, 'minuts': 4046, 'latr': 3622, 'cake': 1441, 'kidz': 3529, 'screaming': 5338, 'surprise': 5928, 'sofa': 5618, 'naked': 4203, 'timing': 6162, 'machan': 3867, 'gym': 2951, 'goodnight': 2866, 'jay': 3405, 'brainy': 1335, 'cleaning': 1659, 'spirit': 5704, 'bb': 1135, 'congratulation': 1778, 'recpt': 5044, 'ordered': 4452, 'processed': 4860, 'thank': 6081, 'used': 6456, 'true': 6292, 'lov': 3801, 'nevr': 4272, 'unrecognized': 6414, 'somone': 5637, 'mistakes': 4063, 'valuing': 6483, 'definitly': 2008, 'undrstnd': 6390, 'missing': 4056, 'interesting': 3323, 'tampa': 5989, 'west': 6680, 'palm': 4519, 'happened': 2990, 'shirts': 5451, 'thing': 6110, 'wear': 6637, 'nudist': 4352, 'themed': 6097, 'mu': 4158, 'comp': 1735, '80086': 597, 'txttowin': 6346, 'ke': 3505, 'qi': 4928, 'izzit': 3383, 'suddenly': 5874, '09061743810': 185, 'landline': 3598, 'abta': 715, 'complimentary': 1750, 'tenerife': 6048, 'holiday': 3109, '5000': 498, 'await': 1053, 'sae': 5257, '326': 404, 'cw25wx': 1934, 'ppm': 4783, 'bad': 1083, 'lady': 3590, 'buy': 1425, 'okie': 4406, 'tacos': 5969, 'rajas': 4964, 'burrito': 1414, 'hostel': 3141, 'plz': 4701, 'class': 1653, 'hrishi': 3160, 'leh': 3660, 'mayb': 3959, 'meeting': 3984, 'convey': 1806, 'regards': 5066, 'lemme': 3663, 'newest': 4275, 'harry': 3005, 'potter': 4770, 'phoenix': 4633, 'book': 1282, 'answer': 896, 'readers': 4998, 'eat': 2264, 'reason': 5015, 'risk': 5185, 'hols': 3112, 'hairdressers': 2965, 'appointment': 931, 'shower': 5480, 'does': 2150, 'prob': 4852, 'problem': 4854, 'thts': 6140, 'able': 708, 'meds': 3980, 'hours': 3149, 'pain': 4513, 'spoken': 5718, 'anyways': 911, 'exam': 2413, 'lovely': 3806, 'suite': 5887, 'xavier': 6827, 'seconds': 5352, 'warning': 6607, 'samantha': 5275, 'playing': 4691, 'guitar': 2943, 'impress': 3257, 'doug': 2189, 'realizes': 5009, 'anymore': 906, 'england': 2337, 'macedonia': 3865, 'miss': 4052, 'goals': 2842, 'team': 6020, '87077': 648, 'wales': 6583, 'scotland': 5331, '4txt': 490, 'ú1': 6912, '20': 314, 'poboxox36504w45wq': 4715, 'knw': 3559, 'telugu': 6042, 'crave': 1862, 'ahmad': 811, 'saeed': 5258, 'al': 827, 'hallaq': 2971, 'valentine': 6475, 'game': 2760, 'dis': 2111, 'answers': 900, 'loves': 3811, 'ques': 4936, 'suits': 5890, 'rply': 5222, 'telling': 6038, 'shanghai': 5425, '21st': 327, 'instead': 3315, 'cya': 1935, 'receivea': 5027, 'reward': 5162, '09061701461': 180, 'kl341': 3547, '12': 255, 'huh': 3173, 'house': 3150, 'handed': 2977, 'player': 4688, 'movie': 4133, '89105': 663, 'films': 2557, 'apply': 929, 'yrs': 6891, 'si': 5497, 'oreo': 4456, 'truffles': 6294, 'reminder': 5092, 'downloaded': 2191, 'content': 1795, 'paid': 4512, 'goto': 2878, 'http': 3163, 'doit': 2161, 'mymoby': 4193, 'experience': 2437, 'american': 861, 'voice': 6542, 'checked': 1589, 'saw': 5306, 'available': 1042, 'spaces': 5675, 'embassy': 2314, 'oic': 4400, 'dad': 1941, 'sch': 5321, 'weird': 6664, 'shitstorm': 5456, 'attributed': 1025, 'hitter': 3091, 'yun': 6896, 'wkg': 6742, 'nus': 4359, 'sc': 5313, 'wana': 6598, 'specialise': 5686, 'wad': 6569, 'taxi': 6006, 'ing': 3296, 'tuesday': 6314, 'cinema': 1642, 'snow': 5613, 'kind': 3536, 'weather': 6640, 'brings': 1363, 'friendships': 2700, 'grow': 2920, 'names': 4207, 'penis': 4596, 'girls': 2825, 'add': 757, 'prolly': 4872, 'umma': 6370, 'vava': 6489, 'esplanade': 2380, 'fr': 2667, 'billion': 1209, 'classes': 1654, 'realized': 5008, 'embarassed': 2311, 'accomodations': 730, 'thought': 6126, 'liked': 3694, 'cave': 1529, 'offered': 4390, 'embarassing': 2312, 'ignorant': 3225, 'milk': 4027, 'jess': 3420, 'eve': 2390, 'xxx': 6838, 'yay': 6856, '09094100151': 224, 'calls': 1463, 'cast': 1518, '10p': 244, 'min': 4031, 'vary': 6486, 'provided': 4891, 'aom': 912, 'gbp5': 2786, 'month': 4113, 'box61': 1322, 'm60': 3856, '1er': 300, 'ages': 804, 'garden': 2769, 'bulbs': 1402, 'seeds': 5360, 'worth': 6790, '33': 405, 'scotsman': 5332, 'saturday': 5300, 'go2': 2840, 'notxt': 4341, 'gentleman': 2800, 'dignity': 2094, 'respect': 5133, 'cud': 1908, 'gona': 2857, 'l8': 3577, 'buses': 1417, 'gon': 2856, 'past': 4565, 'waitin': 6579, 'pete': 4620, 'b4': 1065, 'thursday': 6143, 'sat': 5292, 'nah': 4200, 'lives': 3733, 'gained': 2754, 'kg': 3519, 'blood': 1255, 'sugar': 5882, 'tests': 6064, 'pressure': 4822, 'limits': 3705, 'worries': 6785, 'pshew': 4897, 'board': 1268, 'working': 6780, 'issue': 3365, 'overheating': 4491, 'reslove': 5129, 'software': 5620, 'inst': 3309, 'pending': 4595, 'clock': 1669, 'supposed': 5919, 'happening': 2991, 'idea': 3217, 'pub': 4902, 'toot': 6230, 'fringe': 2702, 'sen': 5379, 'means': 3971, 'tm': 6182, 'laughs': 3626, 'stayin': 5770, 'trouble': 6288, 'stranger': 5821, 'dave': 1967, 'sorted': 5657, 'bloke': 1253, '2getha': 352, 'testing': 6063, 'card': 1487, 'gd': 2787, 'bathing': 1129, 'disturb': 2130, 'liao': 3677, 'depends': 2037, 'quality': 4931, 'boye': 1326, 'faded': 2466, 'glory': 2833, 'ralphs': 4969, 'maybe': 3960, 'prominent': 4873, 'bite': 1227, 'mark': 3924, 'cheek': 1594, 'dollar': 2165, 'pay': 4576, 'mid': 4020, 'february': 2516, 'nannys': 4211, 'dating': 1965, 'guess': 2936, '09058091854': 161, 'revealed': 5157, 'box385': 1317, 'm6': 3855, '6wu': 565, 'important': 3252, 'announcement': 890, 'freephone': 2685, '0800': 42, '542': 516, '0825': 55, 'abeg': 702, 'profit': 4866, 'sponsors': 5719, 'event': 2394, 'bot': 1300, 'notes': 4336, 'oredi': 4455, 'juz': 3480, 'rem': 5082, 'wif': 6706, 'buying': 1427, 'tix': 6175, 'rest': 5140, 'fredericksburg': 2677, 'sleepwell': 5566, 'finally': 2563, 'aftr': 795, 'decades': 1986, 'beer': 1163, 'petrol': 4622, 'goverment': 2881, 'expects': 2435, 'weekends': 6658, 'bought': 1304, 'test': 6062, 'exact': 2411, 'ovulate': 4493, '2u': 377, '3wks': 430, 'fret': 2691, 'worried': 6784, 'relax': 5075, 'history': 3086, 'garage': 2767, 'centre': 1546, 'exhaust': 2426, 'needs': 4250, 'replacing': 5109, 'taking': 5980, 'tomo': 6212, 'officially': 4395, 'market': 3925, 'freemsg': 2684, 'mini': 4035, 'digital': 2092, 'snap': 5607, 'quizclub': 4947, 'opt': 4439, '80122300p': 598, 'sp': 5673, 'rwm': 5247, 'ph': 4625, '08704050406': 72, 'pizza': 4672, 'meat': 3974, 'lovers': 3810, 'supreme': 5920, 'tried': 6282, 'offer': 4389, 'networks': 4268, 'unlimited': 6411, 'wondar': 6760, 'flim': 2599, 'payed': 4578, 'suganya': 5881, 'king': 3539, 'crying': 1894, 'building': 1400, 'map': 3918, 'imprtant': 3262, 'reach': 4991, 'tomorw': 6215, 'velly': 6496, 'snickering': 5610, 'tells': 6039, 'totally': 6244, 'fucking': 2724, 'chords': 1631, 'bitching': 1226, 'acted': 744, 'healthy': 3030, 'old': 4410, 'airport': 818, 'rd': 4990, 'dog': 2154, 'ass': 997, 'quick': 4940, 'befor': 1166, 'activities': 751, '077xxx': 29, '000': 1, 'caller': 1456, '02': 5, '06': 16, '03': 10, '09066362206': 209, 'asap': 982, 'box97n7qp': 1324, 'press': 4820, 'conference': 1768, 'gimme': 2821, 'lip': 3719, 'caveboy': 1530, 'skyped': 5558, 'wit': 6735, 'kz': 3576, 'pleasure': 4694, 'given': 2827, 'ultimatum': 6368, 'countin': 1840, 'aburo': 716, 'ago': 805, 'err': 2370, '8pm': 672, 'hmv': 3100, 'genuine': 2802, 'info': 3291, '100percent': 239, 'file': 2551, 'bag': 1087, 'rushing': 5244, 'rush': 5243, 'hungry': 3179, 'squeezed': 5734, 'sender': 5381, 'fullonsms': 2732, 'note': 4334, 'calling': 1461, 'asks': 993, 'disconnect': 2118, 'coz': 1851, 'iz': 3382, 'terrorist': 6058, 'sim': 5516, 'itz': 3377, 'confirmd': 1772, 'motorola': 4128, 'verified': 6497, 'cnn': 1690, 'ibn': 3205, 'yep': 6864, '30': 385, 'ice': 3210, 'age': 798, 'tau': 6002, 'sar': 5284, 'piah': 4645, 'bahamas': 1089, 'callfreefone': 1459, '08081560665': 54, 'operator': 4431, 'cruise': 1892, '07786200117': 28, 'marry': 3932, 'ned': 4245, 'toa': 6190, 'payoh': 4584, 'return': 5151, 'wan': 6596, 'september': 5394, 'yavnt': 6854, 'played': 4687, 'original': 4462, 'wishing': 6734, 'moji': 4098, 'speechless': 5689, 'easily': 2259, 'lengths': 3664, 'behalf': 1171, 'stunning': 5851, 'touch': 6246, 'roger': 5200, 'cl': 1645, 'sickness': 5501, 'round': 5215, 'ahhhh': 810, 'woken': 6755, 'dream': 2203, 'comedy': 1725, 'petey': 4621, 'whereare': 6694, 'friendsare': 2698, 'thekingshead': 6096, 'canlove': 1478, 'nic': 4282, 'onwards': 4422, 'charge': 1568, 'related': 5071, 'trade': 6255, 'arul': 979, 'wanna': 6599, 'missy': 4060, '2morro': 363, 'edison': 2275, 'rightly': 5174, 'fool': 2632, 'wise': 6730, 'viva': 6535, 'gm': 2835, 'gn': 2836, 'gnt': 2838, 'multimedia': 4164, 'sary': 5291, 'tim': 6158, 'bollox': 1275, 'hurt': 3186, 'tol': 6203, 'subscriber': 5864, 'delivered': 2022, 'door': 2179, 'exp': 2432, '30apr': 392, 'premier': 4808, 'purpose': 4915, '75': 572, 'homeowners': 3115, 'tenants': 6047, 'welcome': 6668, 'previously': 4831, 'refused': 5061, 'help': 3053, '1956669': 297, 'bus': 1415, 'aft': 792, 'lect': 3652, 'feeling': 2521, 'ripped': 5183, 'clubmoby': 1683, '08717509990': 125, 'poly': 4728, 'pix': 4670, 'ringtones': 5181, 'downloads': 2192, 'sooo': 5649, 'stand': 5747, 'wonder': 6762, 'theory': 6102, 'argument': 955, 'wins': 6727, 'situation': 5541, 'loses': 3786, 'argue': 953, 'kick': 3523, 'correct': 1822, 'case': 1512, 'grandma': 2893, 'parade': 4536, 'started': 5757, 'searching': 5347, 'job': 3430, 'potential': 4769, 'talent': 5981, 'sub': 5856, '1st': 306, 'subpoly': 5858, '81618': 610, '08718727870': 137, 'infernal': 3289, 'affairs': 784, 'sam': 5274, 'eachother': 2249, 'pull': 4905, 'spending': 5696, 'confidence': 1769, 'derek': 2044, 'taylor': 6009, 'management': 3911, 'green': 2906, 'quote': 4949, 'jerry': 3419, 'cartoon': 1511, 'irritates': 3355, 'vry': 6553, 'fails': 2471, 'express': 2448, 'information': 3293, 'birthday': 1222, 'loving': 3812, 'ar': 943, 'praveesh': 4797, 'face': 2461, 'delicious': 2020, 'hg': 3073, 'suite342': 5888, '2lands': 359, 'row': 5217, 'w1j6hl': 6561, 'afternoon': 794, 'buns': 1406, 'search': 5346, 'adore': 768, 'party': 4554, 'disappeared': 2113, 'sir': 5531, 'voda': 6539, '7634': 577, 'match': 3942, '08712300220': 88, 'quoting': 4950, '7684': 578, 'standard': 5748, 'rates': 4979, 'quit': 4943, 'santa': 5281, 'ones': 4416, '09077818151': 223, 'calls1': 1464, '50ppm': 508, '3mins': 425, '30s': 396, 'santacalling': 5282, 'tool': 6228, 'normally': 4327, 'hot': 3142, 'combine': 1723, 'dresser': 2207, 'china': 1619, 'ploughing': 4697, 'pile': 4660, 'ironing': 3353, 'staying': 5771, 'chinky': 1623, 'ujhhhhhhh': 6362, 'shipped': 5448, 'sandiago': 5278, 'parantella': 4539, 'lane': 3602, 'wtf': 6815, 'poop': 4739, 'meh': 3985, 'wanted': 6601, 'stash': 5763, 'dry': 2225, 'sunday': 5899, 'moves': 4132, '6hrs': 558, 'doctor': 2148, 'wah': 6571, 'hee': 3044, 'water': 6620, 'logging': 3756, 'geoenvironmental': 2803, 'implications': 3251, 'cancer': 1477, 'throat': 6133, 'answering': 899, 'everyones': 2400, 'babysitting': 1080, 'monday': 4106, 'avoid': 1051, 'missunderstding': 4059, 'beloved': 1181, 'present': 4818, 'write': 6803, 'sign': 5505, 'lasting': 3615, '3510i': 407, 'deliveredtomorrow': 2023, '300': 386, 'bags': 1088, 'blanket': 1238, 'paper': 4531, 'welp': 6670, 'sort': 5655, 'semiobscure': 5378, 'internet': 3327, 'disturbing': 2132, 'manage': 3908, 'jurong': 3472, 'crazy': 1865, 'bugis': 1398, 'world': 6782, 'la': 3579, 'buffet': 1396, 'cine': 1641, 'amore': 867, 'warwick': 6609, 'planned': 4681, 'concert': 1762, 'tmw': 6187, 'canceled': 1475, 'havn': 3020, 'seen': 5362, 'cup': 1913, 'mean': 3967, 'tot': 6242, 'nap': 4212, 'picking': 4649, 'shd': 5433, 'hr': 3159, 'oni': 4417, 'worry': 6786, 'busy': 1421, 'spend': 5695, 'lifetime': 3687, 'meaningless': 3970, 'rakhesh': 4967, 'nri': 4347, 'entertaining': 2348, 'hugh': 3171, 'laurie': 3628, 'stick': 5786, 'cream': 1868, 'oso': 4468, 'action': 747, '80608': 604, 'movietrivia': 4135, '08712405022': 100, 'roommate': 5209, 'dubsack': 2229, 'bringing': 1362, 'bloomberg': 1257, 'center': 1545, '447797706009': 453, 'future': 2745, 'careers': 1495, 'inside': 3308, 'outside': 4483, 'juswoke': 3479, 'bed': 1156, 'boatin': 1270, 'docks': 2146, 'slept': 5568, '25': 334, 'spinout': 5702, 'giv': 2826, 'gossip': 2874, 'l8r': 3578, 'tap': 5992, 'spile': 5701, 'seven': 5406, 'broad': 1370, 'canal': 1472, 'parts': 4553, 'strong': 5833, 'arms': 963, 'spjanuary': 5705, 'male': 3904, 'sale': 5268, 'gay': 2780, '08709222922': 82, '5p': 521, 'cheap': 1582, '8p': 671, 'peak': 4589, '08712460324': 101, 'station': 5766, 'significance': 5507, 'no1': 4305, 'txting': 6341, 'zed': 6903, 'pobox': 4705, '36504': 410, 'w45wq': 6564, 'norm150p': 4325, 'bishan': 1223, 'nearer': 4237, 'early': 2252, 'gotta': 2879, 'park': 4546, 'believe': 1174, 'incredible': 3276, 'learn': 3648, 'truly': 6295, 'amazing': 859, 'blow': 1258, 'o2fwd': 4374, '18p': 294, 'footie': 2637, 'phil': 4630, 'neville': 4271, 'holding': 3108, 'transfer': 6264, 'acc': 720, 'main': 3893, 'sources': 5669, 'unhappiness': 6395, 'accept': 722, 'comes': 1726, 'moment': 4102, 'pack': 4504, 'cereals': 1548, 'gari': 2771, '9ja': 688, 'broken': 1373, 'heart': 3036, 'infront': 3295, 'trust': 6297, '9t': 690, 'lover': 3808, 'slightly': 5572, 'disastrous': 2116, 'fav': 2507, 'darlings': 1957, 'coffee': 1697, 'wld': 6747, 'sick': 5500, 'nok': 4310, '87021': 645, 'txtin': 6340, 'hl': 3093, '4info': 480, 'outta': 4486, 'din': 2097, 'stripes': 5831, 'skirt': 5554, 'superior': 5910, 'telediscount': 6034, 'alrite': 852, 'checkin': 1590, 'goods': 2870, 'fri': 2692, 'drivin': 2213, 'den': 2028, 'shoppin': 5463, 'tt': 6310, '27': 341, 'final': 2561, '08714714011': 109, 'lions': 3718, 'lionm': 3716, 'mono': 4110, 'lionp': 3717, 'tones': 6217, '3gbp': 421, 'representative': 5116, '169': 291, '6031': 530, '10am': 242, '9pm': 689, '1000': 235, 'wrong': 6809, 'na': 4197, 'login': 3757, 'fetching': 2533, 'outstanding': 4485, 'commercial': 1731, 'hasbro': 3006, 'august': 1030, 'jump': 3467, 'hoops': 3125, 'lookatme': 3771, 'purchase': 4912, 'clip': 1668, '35p': 408, 'mmsto': 4076, '32323': 403, '09066362231': 210, '07xxxxxxxxx': 40, 'hotel': 3143, 'invitation': 3337, 'apologise': 920, 'cali': 1446, 'english': 2338, 'weddin': 6648, 'alter': 853, 'rcv': 4988, 'svc': 5935, 'hardcore': 2999, '69988': 555, 'verify': 6498, 'yr': 6890, 'ac': 718, 'blind': 1247, '4u': 491, 'rodds1': 5198, 'aberdeen': 703, 'united': 6403, 'kingdom': 3540, 'img': 3242, 'icmb3cktz8r7': 3214, 'hide': 3077, 'miserable': 4048, 'receipt': 5024, 'sound': 5663, 'coco': 1695, 'darling': 1956, 'tb': 6011, 'chgs': 1606, '1030': 241, 'basic': 1121, 'yoga': 6875, 'pilates': 4659, 'intro': 3332, 'miles': 4026, 'smiles': 5592, 'difference': 2085, 'keeps': 3508, 'shouldn': 5475, 'favourite': 2511, 'song': 5641, 'videos': 6511, 'shsex': 5490, 'netun': 4264, 'fgkslpopw': 2538, 'fgkslpo': 2537, 'birthdate': 1221, 'certificate': 1550, 'april': 939, 'publish': 4904, 'wishes': 6732, 'bar': 1108, 'barred': 1114, 'stores': 5812, 'twat': 6328, 'orange': 4448, 'dungerees': 2237, 'decking': 1995, 'punch': 4908, 'rock': 5195, 'vague': 6473, 'inform': 3292, 'accounting': 734, 'delayed': 2016, 'rent': 5100, 'discuss': 2122, 'housing': 3153, 'agency': 801, 'renting': 5102, 'usc': 6454, 'apologetic': 919, 'fallen': 2480, 'actin': 745, 'spoilt': 5716, 'caught': 1525, 'till': 6157, 'badly': 1085, 'cheers': 1596, 'cashbin': 1514, 'weekend': 6657, 'biggest': 1205, 'pouch': 4771, 'grand': 2891, 'prix': 4847, 'deleted': 2018, 'blogging': 1251, 'magicalsongs': 3885, 'blogspot': 1252, 'hvae': 3193, '09061701444': 179, 'acl03530150pm': 740, 'specially': 5687, 'flights': 2598, '0871277810810': 103, 'emigrated': 2317, 'hopeful': 3129, 'hang': 2982, 'join': 3436, 'jan': 3397, 'happen': 2988, 'hospital': 3139, 'data': 1961, 'analysis': 878, 'starts': 5759, 'thesis': 6105, 'finished': 2571, '0871277810910p': 104, 'xy': 6843, 'knew': 3551, 'giving': 2829, 'woul': 6794, 'lead': 3643, 'wanting': 6602, 'curfew': 1916, 'gibe': 2818, 'midnight': 4022, 'getsleep': 2809, 'studdying': 5838, 'ear': 2250, 'training': 6260, 'photoshop': 4642, 'shut': 5495, 'simple': 5517, 'habba': 2956, 'justthought': 3478, 'sayhey': 5308, 'doin': 2159, 'nearly': 4238, 'endof': 2327, 'offdam': 4387, 'nevamind': 4270, '2hook': 356, 'sn': 5605, 'uwant': 6472, 'lovejen': 3805, 'sell': 5373, 'wen': 6671, 'wrk': 6805, 'meetin': 3983, 'wiv': 6738, 'tonite': 6224, 'dabooks': 1940, 'hrs': 3161, 'nite': 4302, 'aren': 948, 'wtc': 6814, 'weiyi': 6667, 'kate': 3501, 'otside': 4471, '2morrow': 364, 'maga': 3880, 'inches': 3265, 'hurting': 3187, 'meaningful': 3969, 'lines': 3711, 'compromised': 1753, 'mornin': 4121, 'notice': 4338, 'weeks': 6660, 'hanging': 2985, 'thread': 6130, 'professional': 4862, 'sport': 5724, 'tiger': 6151, 'woods': 6768, '87239': 652, 'study': 5843, 'cardiff': 1488, 'uni': 6397, 'grl': 2914, 'hogolo': 3104, 'gold': 2851, 'chain': 1554, 'kodstini': 3562, 'agalla': 797, 'necklace': 4244, 'madstini': 3878, 'hogli': 3103, 'mutai': 4187, 'eerulli': 2282, 'kodthini': 3563, 'kano': 3496, 'download': 2190, 'fring': 2701, 'app': 922, 'question': 4937, 'sang': 5280, 'uptown': 6437, '80': 591, '83600': 626, 'response': 5138, 'sweets': 5947, 'having': 3019, 'worrying': 6787, 'appt': 937, 'missed': 4054, 'quizzes': 4948, 'popcorn': 4743, 'mmm': 4072, 'roast': 5191, 'drinks': 2211, 'indian': 3281, 'status': 5767, 'frequently': 2690, 'air': 817, 'resend': 5122, 'yest': 6867, 'elaine': 2299, 'confirmed': 1773, 'ktv': 3572, '07801543489': 31, 'latests': 3621, '40gb': 440, 'ipod': 3350, 'mp3': 4137, '83355': 623, 'llc': 3738, 'ny': 4366, 'usa': 6452, 'mt': 4150, 'msgrcvd18': 4146, 'boys': 1328, 'endowed': 2328, 'rose': 5212, 'tis': 6170, 'including': 3269, 'poor': 4740, 'relation': 5072, 'support': 5916, 'some1': 5627, 'luvs': 3840, 'praying': 4800, 'okay': 4403, 'drop': 2216, 'cards': 1490, 'tick': 6146, 'nooooooo': 4320, 'death': 1984, 'cable': 1439, 'outage': 4475, 'packing': 4506, 'scold': 5325, 'zhong': 6904, 'se': 5344, 'qing': 4929, 'act': 743, 'goodmorning': 2865, 'ga': 2751, 'evaporated': 2389, 'violated': 6520, 'privacy': 4845, 'stealing': 5776, 'employer': 2320, 'report': 5114, 'supervisor': 5911, 'look': 3770, 'lanre': 3604, 'fakeye': 2476, 'eckankar': 2270, 'paying': 4581, 'attention': 1021, 'perumbavoor': 4618, 'puttin': 4922, 'reading': 5000, 'habit': 2957, 'nan': 4209, 'bari': 1111, 'hudgi': 3167, 'yorge': 6878, 'pataistha': 4566, 'ertini': 2373, 'wonders': 6765, '7th': 588, '6th': 564, 'style': 5853, '5th': 523, '4th': 487, 'personality': 4613, '3rd': 428, 'nature': 4225, 'italian': 3368, 'panties': 4528, 'posible': 4754, 'dnt': 2142, 'century': 1547, 'cm': 1686, 'frwd': 2718, 'thnk': 6122, 'oi': 4399, 'ring': 5177, 'carry': 1507, 'radio': 4953, 'connection': 1781, 'coincidence': 1701, 'surely': 5924, 'random': 4971, 'sheets': 5435, 'textpod': 6076, 'pod': 4718, '84128': 631, 'ts': 6303, '08712405020': 99, 'john': 3435, 'lennon': 3665, 'playin': 4690, 'space': 5674, 'poker': 4723, 'congratulations': 1779, '08718726978': 135, 'sister': 5533, 'resuming': 5148, 'minimum': 4036, 'period': 4604, 'reapply': 5013, 'dismay': 2126, 'taken': 5977, 'teeth': 6031, 'paining': 4515, 'record': 5039, 'women': 6758, 'tension': 6050, 'waste': 6613, 'innocent': 3302, 'terror': 6057, 'cruel': 1891, 'romantic': 5205, 'lovable': 3802, 'decent': 1988, 'joker': 3440, 'lightly': 3691, 'custom': 1922, 'checkboxes': 1588, 'works': 6781, 'tescos': 6060, 'gone': 2858, 'request': 5117, 'melle': 3988, 'oru': 4465, 'minnaminunginte': 4040, 'nurungu': 4358, 'vettam': 6502, 'callertune': 1458, 'callers': 1457, 'thasa': 6087, 'messed': 4010, 'yeh': 6861, 'shudvetold': 5493, 'urgran': 6446, 'neway': 4274, 'illspeak': 3234, 'u2moro': 6352, 'asleep': 995, 'audrey': 1028, 'taxt': 6008, 'massage': 3937, 'tie': 6149, 'pos': 4752, 'argh': 952, 'lool': 3776, 'prof': 4861, 'papers': 4532, 'sem': 5376, 'student': 5839, 'enna': 2343, 'kalaachutaarama': 3488, 'changes': 1562, 'appendix': 925, 'range': 4975, 'impossible': 3255, 'chill': 1616, 'ic': 3208, 'yahoo': 6847, 'messenger': 4011, 'mode': 4092, 'sha': 5414, 'sac': 5251, 'score': 5328, 'batsman': 1130, 'adventuring': 777, 'wendy': 6672, 'boytoy': 1329, 'teasing': 6025, 'kiss': 3543, 'jamster': 3395, 'videosound': 6512, 'club': 1680, 'credits': 1874, 'videosounds': 6513, 'logos': 3760, 'musicnews': 4183, '09701213186': 232, 'gauti': 2778, 'sehwag': 5364, 'odi': 4385, 'series': 5396, 'jane': 3398, 'babes': 1074, 'lst': 3824, 'foned': 2628, 'cover': 1849, 'chuck': 1638, 'recovery': 5043, 'pass': 4557, 'cooped': 1815, 'lab': 3583, 'goggles': 2846, 'invoices': 3342, 'months': 4115, 'usual': 6465, 'ahold': 812, 'anybody': 905, 'throw': 6134, 'chase': 1575, 'crossing': 1886, 'street': 5823, 'fights': 2548, 'decide': 1989, 'easter': 2262, 'texting': 6074, 'tensed': 6049, 'diet': 2081, 'slices': 5569, 'semester': 5377, 'admirer': 765, 'reveal': 5156, '09058094599': 169, 'activate': 749, 'terms': 6053, 'conditions': 1765, 'visit': 6531, '07781482378': 27, 'remains': 5084, 'bro': 1369, 'bros': 1375, 'ish': 3360, 'cut': 1927, 'imma': 3244, 'flip': 2600, 'brand': 1336, 'agent': 802, 'loads': 3742, 'goodies': 2864, 'mat': 3941, 'film': 2556, '2day': 348, '6pm': 563, 'popping': 4745, 'ibuprofens': 3207, 'bcums': 1147, 'angry': 883, 'seriously': 5397, 'childish': 1613, 'showing': 5483, 'deep': 2000, 'affection': 785, 'luv': 3838, 'kettoda': 3514, 'manda': 3912, 'police': 4725, 'toilet': 6200, 'stolen': 5794, 'cops': 1819, 'bank': 1102, 'authorise': 1037, 'payment': 4582, 'alfie': 837, 'moon': 4117, 'children': 1615, 'm8s': 3858, 'charity': 1571, '8007': 595, 'nokias': 4314, 'polys': 4734, '08701417012': 67, 'pump': 4907, 'tirupur': 6169, 'aww': 1060, 'jez': 3424, 'todo': 6197, 'workand': 6778, 'whilltake': 6696, 'forever': 2643, 'lunchtime': 3836, 'organise': 4459, 'b4u': 1067, 'voucher': 6550, 'marsms': 3933, 'b4utele': 1068, 'discount': 2120, 'credit': 1872, '08717168528': 121, 'yetunde': 6869, 'forgive': 2648, '2nite': 369, 'annie': 887, 'dint': 2103, 'smsservices': 5603, 'yourinclusive': 6884, 'comuk': 1757, '3qxj9': 427, '08702840625': 71, '220': 329, 'cm2': 1687, '9ae': 686, 'fwiw': 2747, 'afford': 789, 'apparently': 923, 'happens': 2992, 'somebody': 5628, 'predicting': 4802, 'inch': 3264, 'accumulation': 736, 'sec': 5350, 'menu': 3999, 'fa': 2458, 'tkts': 6179, '2005': 319, '87121': 649, '08452810075over18': 62, 'famous': 2487, 'develop': 2057, 'ability': 705, 'listen': 3725, 'unconditionally': 6380, 'losing': 3787, 'temper': 6045, 'married': 3931, 'hiya': 3092, 'signal': 5506, 'unusual': 6421, 'hugs': 3172, 'snogs': 5611, 'aah': 696, 'bless': 1242, 'arm': 960, 'emailed': 2310, 'yifeng': 6870, 'flash': 2592, 'madam': 3875, 'glo': 2832, 'printing': 4841, 'handing': 2978, 'hmm': 3098, 'hype': 3196, 'plaza': 4692, '700': 567, 'studio': 5842, 'bedrm': 1158, 'willing': 6714, 'aptitude': 941, 'compliments': 1751, 'durban': 2240, 'faggot': 2467, 'linerental': 3710, 'bluetooth': 1263, 'mobileupd8': 4086, 'offers': 4392, '08000839402': 45, 'call2optout': 1450, 'lf56': 3676, 'guoyang': 2945, 'revealing': 5158, 'lmao': 3740, 'cancel': 1474, 'raining': 4961, '40': 432, 'cc100p': 1533, 'current': 1917, 'leading': 3645, 'bid': 1201, '151': 285, 'pause': 4574, 'auction': 1026, '08718726270': 132, 'rs': 5223, 'transfered': 6265, 'tom': 6208, 'mentionned': 3998, 'excellent': 2415, 'riley': 5176, 'dentists': 2032, 'jap': 3401, 'flight': 2597, 'broke': 1372, 'list': 3723, 'reasons': 5017, 'sarcastic': 5288, 'faggy': 2468, 'luckily': 3829, 'starring': 5753, 'role': 5201, 'text82228': 6068, 'txt82228': 6338, 'joanna': 3429, 'freaking': 2675, 'looked': 3772, 'photos': 4641, 'asking': 992, 'myspace': 4195, 'logged': 3755, 'tyler': 6348, 'literally': 3728, 'glad': 2830, 'plenty': 4695, 'claire': 1649, 'dom': 2168, 'hmmm': 3099, 'field': 2540, 'quickly': 4941, 'administrator': 764, 'licks': 3681, 'tootsie': 6232, 'pop': 4742, 'konw': 3565, 'waht': 6576, 'rael': 4955, 'gving': 2950, 'yuo': 6897, 'exmpel': 2429, 'jsut': 3460, 'ese': 2377, 'tihs': 6154, 'evrey': 2408, 'splleing': 5713, 'wrnog': 6808, 'sitll': 5537, 'raed': 4954, 'wihtuot': 6710, 'ayn': 1064, 'mitsake': 4065, 'dreams': 2204, 'returned': 5152, '2mro': 365, 'upstairs': 6435, 'hectic': 3043, 'birds': 1217, 'fell': 2527, 'swoop': 5956, 'fucks': 2726, 'heavy': 3042, 'num': 4354, '98321561': 683, 'familiar': 2485, 'cts': 1902, 'employee': 2319, 'mah': 3886, 'prefer': 4804, 'workin': 6779, 'nightnight': 4292, 'noooooooo': 4321, 'stress': 5824, 'fair': 2473, 'urination': 6447, 'fighting': 2546, 'lose': 3784, 'fightng': 2547, 'close': 1671, 'dificult': 2090, 'needy': 4251, 'pouts': 4777, 'stomps': 5796, 'feet': 2526, 'stoners': 5798, 'truth': 6299, 'gravity': 2898, 'carefully': 1497, 'feels': 2524, 'leaves': 3650, 'popped': 4744, 'tonght': 6221, 'plumbers': 4699, 'tape': 5993, 'wrench': 6800, 'borrow': 1297, 'call09050000327': 1449, 'europe': 2387, '10th': 246, 'sept': 5393, '09050000555': 151, 'ba128nnfwfly150ppm': 1070, 'tee': 6029, 'dick': 2073, 'facebook': 2462, 'sup': 5907, 'hate': 3009, 'messaged': 4007, '09061209465': 175, 'suprman': 5921, 'matrix3': 3950, 'starwars3': 5762, 'aiyah': 821, 'nydc': 4368, 'wheellock': 6691, 'tok': 6201, 'laptop': 3607, 'ela': 2297, 'il': 3230, 'everybody': 2397, 'speed': 5690, 'aint': 816, 'complaining': 1741, 'dorothy': 2183, 'kiefer': 3530, 'granite': 2894, 'issues': 3366, 'explosive': 2445, 'members': 3991, 'nasdaq': 4214, 'symbol': 5959, 'cdgt': 1536, '00': 0, 'uncles': 6379, 'atlanta': 1010, 'pink': 4663, 'furniture': 2743, 'matric': 3949, '7250i': 569, '86021': 640, 'w1jhl': 6562, 'high': 3079, 'sterm': 5784, 'resolved': 5131, 'fab': 2459, 'nights': 4293, 'knackered': 3548, 'dreading': 2202, 'thou': 6125, 'upto': 6436, 'advance': 775, 'pongal': 4735, 'someday': 5629, 'dedicated': 1999, 'dedicate': 1998, 'valuable': 6479, 'alex': 836, 'propose': 4884, 'seing': 5365, 'bloody': 1256, 'funky': 2740, 'asssssholeeee': 999, 'lord': 3783, 'rings': 5178, 'lotr': 3791, 'june': 3469, 'soundtrack': 5666, 'cds': 1537, 'stdtxtrate': 5774, 'costa': 1830, 'del': 2014, 'sol': 5622, '09050090044': 156, 'toclaim': 6194, 'tcs': 6014, 'pobox334': 4709, 'stockport': 5793, 'sk38xh': 5546, 'max10mins': 3957, 'relieved': 5079, 'westonzoyland': 6683, 'behave': 1172, 'theatre': 6093, 'applebees': 926, 'shortly': 5471, 'kadeem': 3484, 'hasn': 3007, 'selling': 5374, 'paranoid': 4538, 'performance': 4601, 'calculated': 1444, 'webadres': 6643, 'geting': 2807, 'salary': 5267, 'slip': 5573, 'unique': 6402, 'deserve': 2048, 'tight': 6152, 'tightly': 6153, 'sry': 5738, 'siva': 5543, 'tats': 6000, 'library': 3679, 'sentence': 5389, 'concentrate': 1758, 'educational': 2278, 'career': 1494, 'thinking': 6115, 'smoking': 5599, 'lark': 3612, '125': 259, 'freeentry': 2680, 'xt': 6833, 'com1win150ppmx3age16': 1719, 'regarding': 5065, 'commit': 1732, 'responding': 5137, 'diwali': 2136, 'died': 2079, 'daddy': 1942, 'fetch': 2532, 'department': 2035, 'waheed': 6573, 'fathima': 2504, 'conform': 1774, 'doc': 2144, 'woot': 6770, 'celebrate': 1540, 'stuffing': 5849, '08000776320': 44, 'improved': 3261, 'sex': 5407, 'dogging': 2156, 'unnecessarily': 6412, 'affectionate': 786, 'narcotics': 4213, 'accidant': 725, 'tookplace': 6227, 'ghodbandar': 2815, 'traffic': 6257, 'slovely': 5578, 'intrepid': 3331, 'duo': 2239, 'apeshit': 916, 'brownie': 1380, 'install': 3310, 'browse': 1382, 'artists': 976, 'law': 3631, 'alive': 841, 'freaky': 2676, 'usually': 6466, 'body': 1272, 'doesnt': 2153, 'progress': 4869, 'continue': 1799, 'despite': 2052, 'cramps': 1859, 'delete': 2017, 'tag': 5970, 'messy': 4012, 'wednesday': 6651, 'clean': 1658, 'skype': 5557, 'laundry': 3627, 'underwear': 6389, 'bras': 1337, 'strewn': 5827, 'pillows': 4661, 'floor': 2606, 'veggie': 6494, 'created': 1869, 'web': 6641, 'page': 4509, 'asjesus': 987, 'wrote': 6811, 'opinions': 4433, '3000': 387, '08712402050': 94, '10ppm': 245, 'ag': 796, 'promo': 4877, '09066358361': 207, 'y87': 6844, 'iphone': 3349, 'enjoyed': 2340, '61610': 534, '08712400602450p': 92, 'tones2you': 6219, 'strict': 5828, 'teacher': 6017, 'bcoz': 1144, 'teaches': 6018, 'conducts': 1766, 'lessons': 3671, 'protect': 4888, 'threats': 6131, 'sib': 5499, 'sensitive': 5387, 'passwords': 4564, 'atm': 1012, 'pin': 4662, 'password': 4563, 'chosen': 1633, '09066364311': 211, 'train': 6258, 'worc': 6773, 'foregate': 2641, 'shrub': 5489, 'hill': 3080, 'holla': 3110, 'excuse': 2419, 'creep': 1875, 'sarasota': 5286, 'membership': 3992, 'jackpot': 3388, '81010': 607, 'dbuk': 1973, 'lccltd': 3638, '4403ldnw1a7rw18': 451, 'parked': 4547, 'sunroof': 5903, 'sux': 5933, 'begging': 1169, '087147123779am': 105, '7pm': 587, 'roommates': 5210, 'include': 3267, 'mcfly': 3964, 'ab': 699, 'sara': 5285, 'jorge': 3449, 'shock': 5458, 'smith': 5595, 'switch': 5954, 'follow': 2622, 'instructions': 3317, 'thinkin': 6114, 'unable': 6374, 'cal': 1443, 'bhaskar': 1199, 'bak': 1091, 'isnt': 3364, 'xx': 6835, '1000call': 236, '09071512432': 220, '300603t': 389, 'csbcm4235wc1n3xx': 1896, 'callcost150ppmmobilesvary': 1453, 'max': 3956, 'denying': 2034, 'restaurant': 5141, 'legs': 3659, 'neck': 4243, 'killing': 3533, 'amigos': 863, 'hoping': 3133, 'burn': 1411, 'tex': 6065, 'mecause': 3976, 'werebored': 6676, 'okden': 4404, 'hunny': 3180, 'uin': 6361, 'likeyour': 3697, 'havin': 3018, 'gr8fun': 2886, 'updat': 6424, 'countinlots': 1841, 'loveme': 3807, 'xxxxx': 6840, 'nvm': 4363, 'upgrdcentre': 6429, 'upgrade': 6427, 'loyalty': 3820, '0207': 6, '153': 286, '9153': 676, 'ends': 2329, '26th': 340, 'july': 3466, 'shoot': 5461, 'significant': 5508, 'probs': 4857, 'obviously': 4379, 'catching': 1524, 'prospects': 4887, 'bleak': 1240, 'filled': 2553, 'philosophy': 4631, 'yijue': 6871, 'gek1510': 2793, 'tantrum': 5991, 'cock': 1694, 'hubby': 3166, 'satisfy': 5297, '89938': 668, 'strings': 5830, 'rec': 5022, '50ea': 501, 'otbox': 4469, '731': 571, 'la1': 3580, '7ws': 589, 'mate': 3945, 'honey': 3118, 'ave': 1046, 'gimmi': 2822, 'goss': 2873, 'sonathaya': 5639, 'soladha': 5623, 'subscribed': 5863, '83435': 625, 'helpline': 3059, '08706091795': 75, 'drinkin': 2209, 'pages': 4510, 'figures': 2550, 'plm': 4696, 'textcomp': 6071, 'follows': 2626, 'subsequent': 5868, 'wks': 6745, 'loneliness': 3765, 'successful': 5870, 'rugby': 5232, 'soz': 5672, 'imat': 3240, 'mums': 4171, '2moro': 361, 'baaaaabe': 1072, 'misss': 4058, 'youuuuu': 6886, 'teach': 6016, 'entrepreneurs': 2350, 'inconvenient': 3274, '4mths': 483, 'mobilesdirect': 4084, '08000938767': 47, 'or2stoptxt': 4446, '1hr': 301, 'gam': 2758, 'innings': 3301, 'movies': 4134, 'amy': 875, 'sending': 5382, 'adult': 773, 'parties': 4550, 'ukp': 6364, '09061790125': 189, 'raise': 4962, 'feb': 2515, 'abiola': 706, 'fancies': 2490, '09058097218': 172, 'ls15hb': 3823, 'eating': 2267, 'closer': 1674, 'confirm': 1771, 'deny': 2033, 'wats': 6624, 'talks': 5986, 'uncle': 6378, 'dollars': 2166, '2years': 383, 'strain': 5819, 'dime': 2095, 'gives': 2828, 'expect': 2433, 'practical': 4789, 'cld': 1657, 'nosh': 4332, 'nxt': 4365, 'matthew': 3953, '09063440451': 191, 'lux': 3841, 'ppm150': 4784, 'box334': 1315, 'soiree': 5621, 'supports': 5917, 'srt': 5737, 'ps3': 4896, 'usb': 6453, 'accenture': 721, '86888': 644, 'subscribe6gbp': 5862, 'mnth': 4077, '3hrs': 422, 'txtstop': 6345, 'gamb': 2759, 'recieve': 5036, '24hrs': 332, 'channel': 1564, 'teletext': 6036, 'pg': 4624, 'partnership': 4552, 'screamed': 5337, 'bath': 1127, 'buzy': 1428, 'cultures': 1911, 'module': 4095, 'tel': 6033, 'gap': 2765, 'fingers': 2568, 'fills': 2555, 'gaps': 2766, 'profile': 4864, 'bpo': 1330, 'jumpers': 3468, 'hat': 3008, 'belt': 1182, 'cribbs': 1878, 'aiyar': 822, 'payments': 4583, 'fedex': 2518, 'exactly': 2412, 'chechi': 1586, 'aiya': 820, 'captain': 1484, 'sao': 5283, 'difficulties': 2089, 'sipix': 5529, '09061221066': 178, 'fromm': 2714, '28': 342, 'update_now': 6426, '12mths': 264, '400mins': 434, 'j5q': 3384, 'gentle': 2799, 'foreign': 2642, 'stamps': 5746, 'country': 1842, 'definitely': 2007, 'restock': 5142, 'thanksgiving': 6083, 'fb': 2512, 'jaykwon': 3407, 'thuglyfe': 6141, 'falconerf': 2478, 'user': 6459, '0796xxxxxx': 38, 'urawinner': 6439, 'fantastic': 2493, 'prizeawaiting': 4849, 'loverboy': 3809, 'sweetie': 5946, 'aiyo': 823, 'sleepin': 5563, 'murder': 4175, 'howz': 3156, 'ystrday': 6892, 'medicine': 3979, 'refund': 5060, 'awake': 1055, 'ttyl': 6311, 'karnan': 3499, 'directly': 2107, 'randy': 4973, 'female': 2530, 'netcollex': 4261, '08700621170150p': 64, 'campus': 1471, 'lodge': 3752, '09050003091': 155, 'c52': 1437, 'valid12hrs': 6478, 'eh': 2291, 'apps': 936, 'prescribed': 4815, 'morphine': 4123, 'med': 3977, 'arabian': 944, 'steed': 5779, 'mmmmmm': 4075, 'yummy': 6895, 'heading': 3026, 'prediction': 4803, 'loans': 3744, 'noworriesloans': 4345, '08717111821': 120, 'dictionary': 2074, 'screen': 5339, 'gently': 2801, 'remove': 5095, 'noe': 4307, 'ben': 1183, 'ideas': 3219, 'donno': 2171, 'scorable': 5327, 'steak': 5775, 'ended': 2324, 'sunny': 5901, 'rays': 4984, 'blue': 1262, 'bay': 1134, 'jeans': 3412, 'neshanth': 4259, 'complete': 1744, 'calm': 1465, 'reassurance': 5018, 'scrounge': 5341, 'gudnite': 2934, 'practice': 4790, 'reaching': 4994, 'mahal': 3887, 'darren': 1958, 'sian': 5498, 'portal': 4749, 'explain': 2442, 'photo': 4640, 'turn': 6322, 'heater': 3040, 'degrees': 2011, 'court': 1847, '0789xxxxxxx': 36, '2find': 351, 'filthy': 2559, 'stories': 5813, 'reunion': 5155, 'cann': 1479, 'asa': 981, 'wkend': 6740, 'journey': 3452, 'terrible': 6055, 'huge': 3169, 'marking': 3927, 'yoyyooo': 6889, 'permissions': 4607, 'mac': 3864, 'convincing': 1809, 'refilled': 5056, 'successfully': 5871, 'inr': 3305, 'keralacircle': 3512, 'prepaid': 4810, 'transaction': 6263, 'kr': 3571, 'goal': 2841, 'polyphonic': 4733, 'super': 5908, '87131': 650, 'pobox202': 4708, 'nr31': 4346, '7zs': 590, 'subscription': 5866, '450pw': 461, 'longer': 3768, 'crowd': 1887, 'advice': 778, '44': 449, '7732584351': 580, 'mall': 3905, 'supply': 5915, 'choice': 1626, 'enter': 2344, 'subs16': 5860, '1win150ppmx3': 310, 'freezing': 2686, 'craving': 1863, 'fml': 2619, 'walls': 6593, 'hearts': 3038, 'cares': 1499, 'goodnoon': 2868, 'schedule': 5322, 'smoothly': 5600, 'hoped': 3128, 'bother': 1301, 'bills': 1210, 'settle': 5404, 'challenging': 1556, '7ish': 586, 'greatness': 2905, 'boo': 1281, 'exams': 2414, 'housewives': 3151, '0871750': 123, '77': 579, 'landlines': 3599, 'wud': 6818, 'storming': 5814, 'lift': 3689, 'phne': 4632, 'wt': 6813, 'margaret': 3921, 'girlfrnd': 2824, 'grahmbell': 2888, 'invnted': 3341, 'telphone': 6041, '4get': 477, 'hiding': 3078, 'fortune': 2657, 'miracle': 4047, 'travel': 6272, '65': 541, 'british': 1367, 'hotels': 3144, 'dial': 2067, 'bx526': 1434, 'sw73ss': 5936, 'starve': 5760, 'pound': 4772, 'telly': 6040, 'brdget': 1341, 'jones': 3446, 'genes': 2797, 'fink': 2574, '09099726553': 230, 'promised': 4875, 'carlie': 1501, 'minmobsmore': 4037, 'lkpobox177hp51fl': 3736, 'pieces': 4656, 'cloth': 1677, 'zogtorius': 6907, 'staring': 5752, 'deciding': 1991, 'challenge': 1555, 'nutter': 4361, 'cutter': 1931, 'ctter': 1904, 'cttergg': 1905, 'cttargg': 1903, 'ctargg': 1900, 'ctagg': 1899, 'inconsiderate': 3272, 'nag': 4198, 'recession': 5033, 'askin': 991, 'ahead': 809, 'eggs': 2289, 'pert': 4617, 'potato': 4768, 'str': 5816, 'painting': 4516, 'sucks': 5872, 'di': 2066, 'piece': 4655, 'priscilla': 4844, 'bowl': 1308, 'stuffed': 5848, 'pig': 4658, 'bleh': 1241, 'writhing': 6804, 'bw': 1431, 'reality': 5006, 'sane': 5279, 'constantly': 1791, 'isn': 3363, 'helping': 3058, 'interflora': 3324, 'flowers': 2610, 'christmas': 1636, '505060': 499, 'speaking': 5682, 'expression': 2449, 'naughty': 4226, 'sentiment': 5391, 'rowdy': 5218, 'ful': 2730, 'attitude': 1022, 'shy': 5496, 'attractive': 1024, 'anythiing': 908, 'salam': 5266, 'alaikkum': 828, 'pride': 4834, 'tea': 6015, 'qatar': 4926, 'respectful': 5134, 'ps': 4895, 'grown': 2922, 'awesome': 1059, 'restocked': 5143, 'comin': 1729, 'wisdom': 6729, 'hidden': 3076, 'textand': 6069, '08002988890': 51, 'zoe': 6906, 'shitin': 5453, 'defo': 2009, 'hardest': 3001, '2morow': 362, 'millions': 4029, 'lekdog': 3662, 'hard': 2998, 'step': 5780, 'foward': 2664, 'fall': 2479, 'ruin': 5233, 'holder': 3107, 'lounge': 3799, 'passes': 4560, '08704439680': 73, 'booking': 1285, 'afternon': 793, 'interviews': 3329, 'passionate': 4561, 'varaya': 6484, 'elaya': 2300, 'gals': 2757, 'ecstasy': 2272, 'basically': 1122, '600': 529, '400': 433, 'inclusive': 3270, 'deltomorrow': 2025, '08002888812': 49, 'fantasy': 2494, 'football': 2635, 'sky': 5555, 'gamestar': 2762, 'active': 750, '250k': 336, 'scoring': 5330, 'register': 5067, '88088': 656, 'cheesy': 1598, 'songs': 5642, 'frosty': 2716, 'snowman': 5615, 'repair': 5105, 'wall': 6590, 'boltblue': 1276, 'poly3': 4729, 'cha': 1551, 'slide': 5570, 'jamz': 3396, 'toxic': 6251, '2geva': 353, 'jackson': 3389, 'standing': 5749, 'opinion': 4432, 'jada': 3391, 'kusruthi': 3574, 'spl': 5707, 'character': 1566, 'matured': 3954, 'stylish': 5855, 'feathery': 2514, 'bowa': 1307, 'funk': 2739, 'tones2u': 6218, 'chatting': 1581, '30th': 397, 'areyouunique': 950, 'casualty': 1520, 'stuff42moro': 5847, 'includes': 3268, 'explicitly': 2444, 'nora': 4323, 'fishrman': 2580, 'woke': 6754, 'waited': 6578, 'sack': 5253, 'stones': 5799, 'strtd': 5835, 'throwin': 6135, 'in2': 3263, 'atlast': 1011, '1stone': 308, 'diamonds': 2071, 'battery': 1132, 'low': 3815, '08715203652': 112, '42810': 446, '29': 345, 'bruce': 1383, 'fowler': 2665, '4the': 488, '2007': 321, 'vip': 6523, 'tickets': 6148, 'pre': 4801, '81303': 609, 'trackmarque': 6254, 'vipclub4u': 6524, 'fake': 2475, 'reffering': 5055, 'member': 3990, 'link': 3713, 'vl': 6538, 'credited': 1873, 'getiing': 2806, 'exorcism': 2430, 'emily': 2318, 'approx': 935, '07808726822': 33, '09': 149, '0871': 84, '872': 651, '9758': 682, 'box95qu': 1323, 'jst': 3458, 'nw': 4364, 'dine': 2098, 'repairs': 5106, 'guide': 2939, 'ovulation': 4494, 'followin': 2624, 'easiest': 2258, 'barcelona': 1109, 'starshine': 5755, 'ache': 738, 'sips': 5530, 'cappuccino': 1483, 'teaching': 6019, 'lecture': 3653, 'damn': 1945, 'shining': 5446, 'meant': 3972, 'signing': 5510, 'reserve': 5125, 'ticket': 6147, 'chennai': 1599, 'thirunelvali': 6118, 'tirunelvali': 6168, 'tackle': 5968, 'sitting': 5540, 'fried': 2695, 'essential': 2382, 'spares': 5678, 'idiot': 3223, 'looovvve': 3778, 'slippers': 5574, '2marrow': 360, 'aha': 808, 'display': 2127, 'internal': 3326, 'subs': 5859, 'extract': 2453, 'blake': 1234, 'forwarding': 2662, 'proof': 4881, 'doggy': 2157, 'nelson': 4256, 'expecting': 2434, 'contacted': 1793, '09064017305': 197, 'pobox75ldns7': 4713, 'james': 3394, 'farting': 2497, 'panren': 4525, 'paru': 4555, '7250': 568, 'talking': 5985, 'walked': 6586, 'thx': 6144, 'fren': 2687, 'muz': 4189, 'maggi': 3882, 'mee': 3981, 'roads': 5190, 'slippery': 5575, 'loxahatchee': 3818, 'tree': 6279, 'burning': 1412, 'stars': 5754, '09064019788': 200, 'box42wr29c': 1320, '449071512431': 456, '1250': 260, '09071512433': 221, '050703': 14, 'callcost': 1452, 'mobilesvary': 4085, 'reassuring': 5019, '09066612661': 218, 'complementary': 1743, 'wa14': 6567, '2px': 373, 'hol': 3105, 'posted': 4765, 'saibaba': 5262, 'colany': 1704, 'anna': 886, 'nagar': 4199, 'prone': 4880, 'falls': 2482, 'intend': 3320, 'iwas': 3380, 'marine': 3923, 'itried2tell': 3374, 'urmom': 6449, 'careabout': 1492, 'bread': 1342, 'turning': 6324, 'moms': 4104, 'hire': 3085, 'hitman': 3089, 'weigh': 6661, 'breathe': 1349, 'easier': 2257, 'regret': 5069, 'kicks': 3525, 'pissed': 4667, 'ubi': 6356, '67441233': 546, 'irene': 3352, 'ere': 2364, 'bus8': 1416, '22': 328, '61': 532, '66': 543, '382': 415, 'cres': 1877, 'tech': 6026, '6ph': 562, '5wkg': 526, 'èn': 6911, 'loosu': 3781, 'careless': 1498, 'stalk': 5743, 'profiles': 4865, 'respond': 5136, 'collected': 1710, 'simply': 5519, 'mix': 4067, '85069': 637, 'usher': 6462, 'britney': 1368, '5249': 512, 'mk17': 4069, '92h': 677, '450ppw': 460, 'covers': 1850, 'trends': 6281, 'pros': 4886, 'cons': 1783, 'brief': 1357, 'description': 2046, 'nuclear': 4351, 'fusion': 2744, 'iter': 3371, 'jet': 3422, 'inever': 3286, 'exciting': 2418, 'hunting': 3182, 'gotto': 2880, '220cm2': 330, 'belive': 1175, 'jesus': 3421, 'likely': 3695, 'mittelschmertz': 4066, 'google': 2871, 'paracetamol': 4534, 'railway': 4959, 'escape': 2376, 'kavalan': 3502, 'reache': 4992, 'honesty': 3117, 'road': 5189, 'tough': 6248, 'decisions': 1994, 'unclaimed': 6377, '09066368327': 214, 'closingdate04': 1676, 'claimcode': 1647, 'm39m51': 3854, '50pmmorefrommobile2bremoved': 507, 'mobypobox734ls27yf': 4091, 'somethin': 5633, '2waxsto': 379, 'insurance': 3318, 'deliver': 2021, 'major': 3896, 'bday': 1148, 'virgin': 6526, 'sumfing': 5894, 'nyc': 4367, 'audiitions': 1027, 'relocate': 5080, 'jazz': 3408, 'yogasana': 6876, 'passport': 4562, 'lousy': 3800, 'horse': 3138, 'racing': 4952, 'chicken': 1608, 'rice': 5168, 'spell': 5693, 'season': 5348, 'ummifying': 6371, 'bye': 1436, 'tessy': 6061, 'favor': 2509, 'nimya': 4297, 'shijas': 5444, 'maangalyam': 3862, 'alaipayuthe': 829, 'small': 5583, 'kid': 3526, 'jiayin': 3426, 'ma': 3860, 'praps': 4794, 'goodo': 2869, 'blowing': 1259, 'dealing': 1978, 'kisses': 3544, 'figure': 2549, 'suppose': 5918, '448712404000': 455, '08712404000': 98, 'notified': 4339, 'marketing': 3926, '84122': 630, '08450542832': 59, 'couldn': 1838, 'worse': 6788, 'wined': 6722, 'dined': 2099, 'promise': 4874, 'bet': 1191, 'humans': 3177, 'natural': 4224, 'mushy': 4180, 'embarrassed': 2313, 'rv': 5245, 'rvx': 5246, '786': 582, 'unredeemed': 6415, '08719181259': 143, '05': 13, '0808': 53, '145': 270, '4742': 465, '9am': 687, '11pm': 254, 'jolt': 3445, 'ym': 6872, 'expired': 2439, 'monoc': 4111, 'monos': 4112, 'polyc': 4730, 'stream': 5822, '0871212025016': 87, 'whens': 6693, 'billy': 1211, 'jogging': 3434, 'tms': 6186, 'widelive': 6705, 'index': 3279, 'wml': 6748, '1b6a5ecef91ff9': 298, '37819': 414, 'true18': 6293, '0430': 12, 'jul': 3463, 'approve': 934, 'panalam': 4521, 'posts': 4767, 'realize': 5007, 'years': 6859, 'thousands': 6128, 'ladies': 3589, 'tattoos': 6001, 'certainly': 1549, 'puts': 4921, 'perspective': 4616, 'o2': 4373, 'wnt': 6751, 'tlk': 6180, 'badrith': 1086, 'competition': 1740, 'engalnd': 2335, 'mia': 4018, 'elliot': 2305, 'kissing': 3545, 'cheque': 1600, 'science': 5324, 'chocolate': 1625, 'melt': 3989, 'sunlight': 5900, 'loss': 3788, 'maid': 3889, 'murderer': 4177, 'murdered': 4176, 'th': 6079, 'january': 3400, 'public': 4903, 'govt': 2882, 'instituitions': 3316, 'closed': 1673, 'post': 4762, 'checkmate': 1592, 'chess': 1601, 'persian': 4610, 'phrase': 4644, 'shah': 5417, 'maat': 3863, 'purity': 4914, 'musthu': 4185, 'uhhhhrmm': 6360, 'youre': 6883, 'hurry': 3185, 'soup': 5667, 'received': 5028, 'understood': 6388, 'ne': 4234, 'wknd': 6744, 'ow': 4495, 'hep': 3063, 'immunisation': 3247, 'swhrt': 5949, 'dey': 2062, 'ou': 4472, 'ibhltd': 3202, 'ldnw15h': 3641, 'mtmsgrcvd18': 4156, 'pic': 4646, 'salt': 5273, 'rub': 5229, 'open': 4427, 'wounds': 6796, 'gain': 2753, 'rights': 5175, 'demand': 2027, 'husband': 3189, 'earn': 2253, 'dizzamn': 2137, 'suitemates': 5889, 'geeee': 2791, 'remind': 5090, 'rob': 5192, 'mack': 3871, 'theater': 6092, 'surfing': 5925, 'sunshine': 5905, 'stamped': 5745, 'envelope': 2356, '113': 248, 'bray': 1339, 'wicklow': 6703, 'eire': 2295, 'unsub': 6418, 'horny': 3135, '69698': 550, 'loyal': 3819, 'customers': 1925, '09066380611': 216, 'joke': 3439, 'waheeda': 6574, 'explicit': 2443, 'secs': 5356, '02073162414': 8, 'costs': 1832, '20p': 324, 'solve': 5625, 'questioned': 4938, 'cook': 1810, 'cooking': 1813, 'gardener': 2770, 'vegetables': 6493, 'neighbour': 4255, 'arrested': 971, 'brilliant': 1359, 'receiving': 5029, 'triple': 6284, 'echo': 2269, '07742676969': 24, '08719180248': 142, '45239': 462, 'slurp': 5582, 'kilos': 3535, 'brah': 1331, 'haiyoh': 2966, 'jealous': 3411, 'million': 4028, 'prabha': 4786, 'soryda': 5660, 'sory': 5659, 'rearrange': 5014, 'dormitory': 2182, 'dirty': 2110, 'astronomer': 1006, 'starer': 5751, 'eyes': 2457, 'election': 2302, 'lies': 3684, 'recount': 5042, 'woman': 6756, 'hitler': 3088, '50s': 509, 'alot': 850, '88066': 655, '80488': 603, '31': 398, '09061221061': 177, '28days': 343, 'box177': 1313, 'm221bp': 3850, '2yr': 384, 'warranty': 6608, '99': 684, 'wetherspoons': 6685, 'printer': 4840, 'groovy': 2916, 'groovying': 2917, 'flippin': 2601, 'sh': 5413, 'listening': 3726, 'temple': 6046, 'church': 1640, 'yalru': 6849, 'lyfu': 3846, 'astne': 1004, 'innu': 3303, 'mundhe': 4173, 'lyf': 3845, 'ali': 839, 'halla': 2970, 'bilo': 1212, 'program': 4867, 'edhae': 2274, 'ovr': 4492, 'vargu': 6485, 'meow': 4000, 'fault': 2506, 'arguments': 956, 'fed': 2517, 'himso': 3082, '2go': 354, 'urgnt': 6444, 'wating': 6623, 'weirdo': 6665, 'shhhhh': 5443, '0578': 15, 'eatin': 2266, 'mountain': 4129, 'deer': 2002, 'animal': 884, 'buzz': 1429, 'grins': 2912, 'reminding': 5093, 'adoring': 769, 'slob': 5577, 'jetton': 3423, 'sony': 5643, 'ericsson': 2366, 'salesman': 5270, 'shuhui': 5494, 'considering': 1788, 'cedar': 1538, 'key': 3515, 'coast': 1691, 'haiz': 2967, 'valentines': 6476, 'rcvd': 4989, 'achan': 737, 'amma': 865, 'frens': 2689, 'converted': 1804, 'macho': 3870, 'budget': 1393, 'bold': 1274, 'art': 975, 'nauseous': 4227, 'planning': 4682, 'dieting': 2082, 'haunt': 3011, 'promoting': 4878, 'hex': 3070, 'wesley': 6678, '1450': 271, '09053750005': 158, '310303': 400, '08718725756': 131, '140ppm': 269, 'gauge': 2776, 'patty': 4573, 'clear': 1660, 'dvd': 2243, 'copies': 1817, 'connect': 1780, 'bbq': 1138, '6ish': 559, 'boston': 1299, 'changed': 1561, 'location': 3747, 'cuz': 1933, 'signin': 5509, 'geeeee': 2792, 'darlin': 1955, '125gift': 261, 'persons': 4615, 'volcanoes': 6544, 'erupt': 2374, 'tsunamis': 6309, 'arise': 958, 'hurricanes': 3183, 'sway': 5940, 'aroundn': 967, 'disasters': 2115, 'er': 2363, 'limping': 3706, 'followed': 2623, 'aa': 695, 'comprehensive': 1752, 'secretly': 5355, '09065394514': 203, 'datebox1282essexcm61xn': 1963, 'batt': 1131, 'impressively': 3259, 'sensible': 5386, 'boring': 1295, 'hme': 3097, 'tall': 5987, 'passable': 4558, 'phd': 4628, '5years': 527, '09064012103': 195, 'box334sk38ch': 1316, 'talents': 5982, 'prepare': 4811, 'preferably': 4805, 'pap': 4529, 'suntec': 5906, '09061213237': 176, 'luxury': 3842, 'canary': 1473, 'islands': 3362, '177': 292, 'm227xy': 3851, 'olowoyey': 4411, 'edu': 2276, 'argentina': 951, 'secretary': 5354, 'blessing': 1244, 'kitty': 3546, 'shaved': 5431, 'onion': 4418, 'somerset': 5631, 'xin': 6830, 'rupaul': 5242, 'interview': 3328, 'ft': 2720, 'combination': 1722, 'jabo': 3385, 'abi': 704, 'tomorro': 6213, 'symptoms': 5960, 'rajitha': 4966, 'raj': 4963, 'ranju': 4977, 'remain': 5083, 'unconvinced': 6383, 'elaborate': 2298, 'willpower': 6715, 'lock': 3750, 'locks': 3751, 'jenne': 3415, 'hearing': 3035, 'sliding': 5571, 'tahan': 5972, 'anot': 893, 'boooo': 1288, 'result': 5146, 'kallis': 3490, 'university': 6405, 'southern': 5671, 'california': 1448, '530': 514, 'method': 4014, 'calculation': 1445, 'farm': 2496, '5pm': 522, '95': 681, 'pax': 4575, 'deposit': 2038, 'official': 4394, 'flag': 2588, 'yer': 6865, 'tonights': 6223, '84199': 632, 'optout': 4444, 'eng': 2333, 'box39822': 1318, 'w111wx': 6558, 'os': 4466, 'ubandu': 6355, 'installing': 3312, 'disk': 2124, 'files': 2552, 'site': 5536, 'tp': 6252, 'alcohol': 832, 'weed': 6654, 'pattern': 4572, 'recently': 5031, 'crap': 1860, 'hooked': 3124, 'eurodisinc': 2386, 'trav': 6271, 'aco': 742, 'entry41': 2353, 'morefrmmob': 4119, 'shracomorsglsuplt': 5487, 'ls1': 3822, '3aj': 417, 'kotees': 3569, 'spoke': 5717, 'maneesha': 3915, 'satisfied': 5296, 'toll': 6207, '1225': 257, '50award': 500, '3100': 399, 'selflessness': 5372, 'greatest': 2904, 'courage': 1845, 'earth': 2256, 'bear': 1149, 'defeat': 2005, 'theoretically': 6101, '3miles': 424, 'group': 2919, 'waqt': 6605, 'pehle': 4591, 'naseeb': 4215, 'zyada': 6910, 'kisi': 3542, 'ko': 3560, 'kuch': 3573, 'nahi': 4201, 'milta': 4030, 'zindgi': 6905, 'wo': 6752, 'jo': 3428, 'hum': 3175, 'sochte': 5616, 'ham': 2973, 'jeetey': 3413, 'laid': 3594, 'airtel': 819, 'xuhui': 6834, 'ello': 2306, 'bud': 1392, 'jod': 3433, 'revision': 5161, 'keris': 3513, 'bin': 1214, 'smidgin': 5589, 'rct': 4987, 'thnq': 6123, 'adrian': 771, 'rgds': 5165, 'vatian': 6488, 'nuerologist': 4353, 'pics': 4650, 'rocking': 5196, 'ashes': 983, 'vomit': 6545, 'agents': 803, 'booked': 1283, 'experiment': 2438, 'ola': 4408, 'cars': 1509, 'bids': 1202, 'shipping': 5449, 'invest': 3335, 'reliant': 5078, 'tolerat': 6206, 'bcs': 1145, 'comfort': 1728, 'lie': 3683, 'tscs08714740323': 6306, '1winawk': 312, '50perweeksub': 504, 'walking': 6588, 'shijutta': 5445, 'peace': 4586, 'blessed': 1243, 'merry': 4003, 'hella': 3050, 'adventure': 776, 'galileo': 2756, 'tat': 5999, 'vid': 6507, 'finishd': 2570, 'memorable': 3993, '146tf150p': 272, 'brainless': 1333, 'doll': 2164, 'vehicle': 6495, 'sariyag': 5290, 'madoke': 3877, 'barolla': 1113, 'ouch': 4473, 'stayed': 5769, '08': 41, '4719': 464, '523': 511, 'stupid': 5852, 'cam': 1466, 'minor': 4041, 'crisis': 1882, 'delay': 2015, 'masters': 3940, 'hu': 3164, 'citizen': 1643, 'navigate': 4229, 'choosing': 1629, 'require': 5119, 'guidance': 2938, 'doubt': 2188, 'sip': 5528, 'fantasies': 2492, '08707500020': 77, 'ntt': 4349, '1327': 266, 'croydon': 1888, 'cr9': 1854, '5wb': 524, '0870': 63, 'bigger': 1204, 'begin': 1170, 'dhoni': 2064, 'rocks': 5197, 'exhausted': 2427, 'cuddle': 1909, 'arngd': 965, 'walkin': 6587, 'unfortuntly': 6394, 'snake': 5606, 'bites': 1228, 'dancing': 1949, 'frnt': 2711, 'sayin': 5309, 'birla': 1218, 'soft': 5619, 'spring': 5728, 'wet': 6684, 'warm': 6606, 'porn': 4746, 'recd': 5023, 'vat': 6487, 'yeesh': 6860, 'onum': 4421, 'seat': 5349, 'lower': 3816, 'jot': 3451, '447801259231': 454, '09058094597': 168, 'mapquest': 3919, 'dogwood': 2158, 'tiny': 6164, 'parking': 4548, 'filling': 2554, 'forms': 2656, '09095350301': 226, 'erotic': 2369, 'ecstacy': 2271, '60p': 531, 'nat': 4217, 'process': 4859, 'rang': 4974, 'ho': 3101, 'ans': 894, 'bslvyl': 1385, 'obedient': 4375, 'queen': 4934, 'steamboat': 5778, 'muhommad': 4162, 'penny': 4597, 'turns': 6325, 'annoying': 892, 'computerless': 1756, 'sarcasm': 5287, 'scarcasim': 5316, 'lido': 3682, '930': 678, 'thurs': 6142, 'appreciate': 933, 'formatting': 2655, 'ranjith': 4976, 'drpd': 2220, 'deeraj': 2003, 'deepak': 2001, '5min': 520, 'hold': 3106, 'auntie': 1032, 'huai': 3165, 'juan': 3461, 'weirdy': 6666, 'brownies': 1381, 'cookies': 1812, 'eastenders': 2261, 'flower': 2609, 'dot': 2185, 'compare': 1737, 'violet': 6522, 'tulip': 6318, 'lily': 3700, '84025': 629, 'wkent': 6741, '150p16': 279, 'responce': 5135, 'happend': 2989, '69669': 548, 'gprs': 2883, 'charges': 1570, 'mw': 4190, 'tuth': 6326, 'whore': 6698, 'unbelievable': 6375, 'wouldn': 6795, 'jerk': 3418, 'neighbors': 4254, 'star': 5750, 'ibiza': 3203, '09066364349': 212, 'box434sk38wp150ppm18': 1321, 'accordin': 731, 'discussed': 2123, 'kb': 3504, 'chillin': 1618, 'phone750': 4635, 'flatter': 2594, 'pints': 4664, 'carlin': 1502, 'chickened': 1609, 'woould': 6771, 'wun': 6821, 'plate': 4684, 'leftovers': 3655, 'released': 5077, 'cosign': 1828, 'option': 4443, '09094646899': 225, 'vu': 6556, 'bcm1896wc1n3xx': 1142, 'ami': 862, 'parchi': 4540, 'kicchu': 3522, 'kaaj': 3483, 'korte': 3568, 'iccha': 3209, 'korche': 3566, 'ta': 5964, 'tul': 6317, 'heaven': 3041, 'prince': 4835, '2hrs': 357, '07973788240': 39, '08715203649': 111, '40533': 439, 'stalking': 5744, 'kaila': 3486, 'attended': 1020, 'western': 6681, 'natalie': 4219, 'inviting': 3340, '165': 290, 'natalie2k9': 4220, '62468': 537, 'wlcome': 6746, 'eaten': 2265, 'lion': 3715, 'raiden': 4958, 'buff': 1395, 'financial': 2565, 'shell': 5437, 'unconsciously': 6382, 'avoiding': 1052, 'unhappy': 6396, 'smokes': 5598, 'burden': 1407, 'continent': 1798, 'shelf': 5436, 'egg': 2288, 'timi': 6161, 'height': 3046, 'throws': 6137, 'letter': 3674, 'brothers': 1378, 'whos': 6699, 'distract': 2129, 'isaiah': 3358, 'sometext': 5632, 'incomm': 3271, 'coimbatore': 1699, 'prices': 4833, 'bmw': 1267, 'urgently': 6443, 'shortage': 5468, 'lacs': 3587, 'source': 5668, 'arng': 964, 'amt': 873, 'technical': 6027, 'providing': 4892, 'assistance': 998, 'vijay': 6514, 'jaya': 3406, 'callback': 1451, 'orno': 4463, 'non': 4316, 'rahul': 4957, 'dengra': 2029, 'showered': 5481, 'ything': 6893, 'tease': 6024, 'grave': 2897, 'baaaaaaaabe': 1071, '08452810071': 60, '09058094507': 164, 'voicemail': 6543, '08719181513': 145, 'vote': 6548, 'guides': 2940, 'subscribers': 5865, 'accordingly': 732, 'repeat': 5107, 'imin': 3243, 'dontmatter': 2175, 'urgoin': 6445, 'outl8r': 4479, 'reallyneed': 5011, '2docd': 349, 'dontplease': 2176, 'dontignore': 2174, 'mycalls': 4192, 'thecd': 6094, 'isv': 3367, 'tome': 6210, '09058095201': 170, 'raji': 4965, 'favour': 2510, '3650': 409, '09066382422': 217, '300603': 388, 'bcm4284': 1143, 'tariffs': 5994, '2stoptxt': 376, 'pc': 4585, 'tlp': 6181, 'expressoffer': 2450, '80062': 594, 'attraction': 1023, 'thoughts': 6127, 'breath': 1348, 'named': 4206, 'sorrows': 5653, 'fight': 2545, 'craziest': 1864, 'proove': 4882, 'planet': 4679, 'singing': 5525, 'praises': 4793, 'curry': 1919, 'makiing': 3899, 'sambar': 5276, 'anand': 879, 'yor': 6877, 'tank': 5990, 'stressed': 5825, 'depressed': 2040, 'whr': 6700, 'error': 2371, 'dip': 2104, 'situations': 5542, 'loosing': 3780, 'celebrations': 1543, '2p': 371, '08448350055': 57, 'planettalkinstant': 4680, 'yellow': 6862, 'frndship': 2707, 'misscall': 4053, 'frndz': 2710, '6missed': 560, 'gdeve': 2788, 'watchin': 6617, 'versus': 6501, 'btwn': 1389, 'sum1': 5893, 'hands': 2980, 'monthly': 4114, '6months': 561, 'kaiez': 3485, 'tuition': 6316, 'gee': 2790, 'beta': 1192, 'yan': 6851, 'jiu': 3427, 'rhode': 5167, 'island': 3361, 'bong': 1279, 'completed': 1745, 'degree': 2010, 'joining': 3438, 'finance': 2564, 'twins': 6333, 'ron': 5207, 'burgundy': 1409, 'captaining': 1485, 'boat': 1269, 'lovly': 3814, 'weight': 6663, 'effect': 2283, 'aust': 1035, 'bk': 1231, 'frying': 2719, 'size': 5544, 'elephant': 2304, 'shove': 5477, 'um': 6369, 'fuckin': 2723, 'cancelled': 1476, 'sacked': 5254, '730': 570, 'correctly': 1824, 'nichols': 4284, 'escalator': 2375, 'onwords': 4423, 'mtnl': 4157, 'south': 5670, 'mumbai': 4168, 'alternative': 854, 'term': 6051, 'freefone': 2681, '08006344447': 52, 'dentist': 2031, 'consider': 1787, 'bunkers': 1405, 'peaceful': 4587, 'dependents': 2036, 'poyyarikatur': 4780, 'kolathupalayam': 3564, 'unjalur': 6406, 'erode': 2368, 'smaller': 5584, 'capacity': 1481, 'claims': 1648, 'dept': 2042, '13': 265, '08717507382': 124, '09063458130': 193, 'polyph': 4732, 'chez': 1605, 'jules': 3464, 'chasing': 1576, 'keen': 3506, 'borderline': 1292, 'connections': 1782, 'removed': 5096, 'goigng': 2847, 'perfume': 4603, 'brum': 1384, 'bluray': 1266, 'ffffuuuuuuu': 2536, 'gang': 2764, 'iam': 3199, 'torch': 6237, 'fujitsu': 2729, 'ibm': 3204, 'hp': 3157, 'toshiba': 6240, 'dessert': 2053, 'block': 1248, 'armenia': 962, 'swann': 5937, 'howard': 3154, 'sells': 5375, '4d': 474, 'closes': 1675, 'staff': 5741, 'noice': 4309, 'suffers': 5878, 'violence': 6521, 'silence': 5511, 'wahleykkum': 6575, 'sharing': 5430, 'grace': 2887, 'tayseer': 6010, 'tissco': 6171, 'inshah': 3307, 'visitor': 6532, 'india': 3280, 'cross': 1885, 'ntwk': 4350, '08001950382': 48, '674': 545, 'satsgettin': 5298, '47per': 466, 'listed': 3724, 'spiffing': 5700, 'workage': 6777, 'meatballs': 3975, 'reverse': 5159, 'cheating': 1585, 'mathematics': 3948, 'kfc': 3518, 'meals': 3966, 'gravy': 2899, 'drove': 2219, 'epi': 2359, 'lavender': 3630, 'rp176781': 5220, 'regalportfolio': 5063, '08717205546': 122, 'tagged': 5971, 'count': 1839, 'x29': 6824, '09065989180': 204, 'ground': 2918, 'amla': 864, 'nìte': 4372, 'ride': 5171, 'equally': 2362, 'uneventful': 6391, 'pesky': 4619, 'cyclists': 1936, 'seperated': 5392, '〨ud': 6913, 'totes': 6245, 'bhaji': 1198, 'cricketer': 1880, 'sachin': 5252, 'creative': 1870, 'diesel': 2080, 'textbuddy': 6070, 'postcode': 4764, 'gaytextbuddy': 2782, '89693': 667, '08715500022': 118, 'rpl': 5221, 'cnl': 1689, '8077': 605, 'getzed': 2813, 'requirements': 5120, 'malaria': 3902, 'handle': 2979, 'gastroenteritis': 2775, 'replace': 5108, 'temp': 6044, 'reduce': 5050, 'limiting': 3704, 'illness': 3233, 'completely': 1746, 'bcum': 1146, 'hon': 3116, 'audrie': 1029, 'autocorrect': 1039, 'ding': 2100, 'tai': 5973, 'feng': 2531, 'reservations': 5124, 'julianaland': 3465, 'oblivious': 4378, 'upset': 6434, 'mad': 3872, 'mei': 3986, 'bao': 1107, 'sugardad': 5883, 'agree': 806, 'ipad': 3347, '08718738001': 140, '49557': 471, 'pussy': 4920, 'perfect': 4600, 'windy': 6720, 'lik': 3692, 'resolution': 5130, 'frank': 2670, '85023': 636, 'savamob': 5302, 'pobox84': 4714, 'm263uz': 3853, 'mas': 3936, 'chachi': 1552, 'pl': 4673, 'tiz': 6176, 'kanagu': 3493, 'romcapspam': 5206, 'presence': 4817, 'outgoing': 4478, 'decision': 1993, 'simpler': 5518, 'magical': 3884, 'opener': 4429, 'snowboarding': 5614, 'affair': 783, 'prestige': 4823, 'identification': 3220, 'def': 2004, 'up4': 6422, 'payed2day': 4579, 'havbeen': 3013, 'rise': 5184, '4my': 484, 'havebeen': 3014, 'preschoolco': 4814, 'ordinator': 4453, '2i': 358, 'feelingood': 2522, 'mallika': 3906, 'sherawat': 5439, 'url': 6448, 'kerala': 3511, 'prepared': 4812, 'finalise': 2562, '09061790126': 190, 'resizing': 5128, 'payback': 4577, 'convinced': 1808, 'conversations': 1803, 'senses': 5385, 'overemphasise': 4490, 'ikno': 3229, 'doesdiscount': 2151, 'shitinnit': 5454, 'paris': 4544, '79': 583, '08704439680ts': 74, 'sum': 5892, 'lucyxx': 3832, 'waking': 6582, 'disagreeable': 2112, '80182': 601, '08452810073': 61, 'problems': 4855, 'battle': 1133, 'vivekanand': 6537, 'sd': 5342, 'uawake': 6354, 'feellikw': 2523, 'justfound': 3476, 'aletter': 835, 'thatmum': 6088, 'gotmarried': 2877, '4thnov': 489, 'ourbacks': 4474, 'fuckinnice': 2725, 'selfish': 5371, 'deviousbitch': 2060, 'tiwary': 6174, 'rcb': 4985, 'bang': 1099, 'kochi': 3561, 'hesitate': 3068, 'weakness': 6634, 'notebook': 4335, 'bookedthe': 1284, 'hut': 3190, 'topic': 6233, 'webpage': 6645, 'babyjontet': 1078, 'apo': 918, 'generally': 2796, 'uncountable': 6384, 'noun': 4342, 'research': 5121, 'opposed': 4436, 'drunken': 2224, '07008009200': 18, 'ay': 1063, 'contract': 1800, 'mnths': 4078, 'records': 5041, 'sore': 5651, 'scratches': 5335, 'aldrine': 833, 'rtm': 5226, 'east': 2260, 'antibiotic': 904, 'chest': 1602, 'abdomen': 701, 'gynae': 2953, 'infections': 3288, 'bone': 1278, 'honeybee': 3119, 'sweetest': 5944, 'laughed': 3624, 'havnt': 3021, 'crack': 1856, 'jokes': 3441, 'forgets': 2647, 'hint': 3083, 'forum': 2658, 'flaky': 2590, 'parent': 4542, 'snot': 5612, 'unintentional': 6400, 'nonetheless': 4317, 'baig': 1090, 'watches': 6616, 'touched': 6247, '09065171142': 201, 'stopsms': 5809, 'weekdays': 6656, 'nails': 4202, 'diff': 2083, 'gayle': 2781, 'poorly': 4741, 'punishment': 4910, 'worst': 6789, 'brb': 1340, 'kill': 3531, 'bluff': 1264, 'soul': 5662, 'spark': 5679, 'flame': 2591, 'rawring': 4982, 'xoxo': 6832, 'value': 6480, 'brisk': 1364, 'walks': 6589, 'drugs': 2222, 'dearly': 1983, 'portege': 4750, 'm100': 3849, 'relatives': 5074, 'indicate': 3283, 'compensation': 1739, 'accident': 726, 'reception': 5032, 'edge': 2273, 'samus': 5277, 'shoulders': 5474, 'reckon': 5037, 'transport': 6268, 'pookie': 4737, 'pie': 4654, 'prashanthettan': 4796, 'enufcredeit': 2354, 'tocall': 6193, 'ileave': 3231, 'evey': 2403, 'accessible': 724, '08709501522': 83, '139': 267, 'la3': 3581, '2wu': 382, 'sit': 5535, 'multiply': 4165, 'independently': 3278, 'push': 4917, 'showed': 5479, 'evenings': 2393, 'mids': 4023, 'wenever': 6673, 'vikky': 6516, 'shirt': 5450, 'rounds': 5216, 'appy': 938, 'fizz': 2587, 'contains': 1794, 'optin': 4442, 'bbc': 1136, 'charts': 1574, 'senthil': 5390, 'apnt': 917, 'errors': 2372, 'correction': 1823, 'sinco': 5522, 'payee': 4580, 'icicibank': 3212, 'urn': 6450, 'beware': 1197, 'frauds': 2672, 'disclose': 2117, 'owe': 4496, 'basket': 1123, 'gettin': 2811, '08715203694': 116, 'pple': 4782, 'fones': 2629, 'wild': 6713, 'stop2stop': 5803, 'armand': 961, 'computational': 1754, 'loooooool': 3777, 'couch': 1835, 'celebration': 1542, 'rents': 5104, 'wi': 6701, 'nz': 4371, 'players': 4689, 'unsold': 6417, 'limit': 3702, 'measure': 3973, 'power': 4778, 'boundaries': 1305, 'endless': 2326, 'blessings': 1245, 'manual': 3917, 'reset': 5127, 'troubleshooting': 6289, 'secured': 5358, 'unsecured': 6416, '195': 296, '6669': 544, 'robinson': 5193, 'zac': 6899, 'hooch': 3121, 'toaday': 6191, 'splat': 5710, 'grazed': 2901, 'knees': 3550, 'changing': 1563, 'diapers': 2072, 'owed': 4497, 'squeeeeeze': 5733, 'hug': 3168, 'frndshp': 2708, 'luvd': 3839, 'imagine': 3239, 'shorter': 5470, 'remembered': 5087, 'liverpool': 3732, 'ansr': 895, '82277': 614, 'tyrone': 6351, 'faster': 2499, 'attached': 1015, 'effects': 2284, 'birth': 1220, 'control': 1801, 'massive': 3938, 'gut': 2946, 'wrenching': 6801, 'entertain': 2347, 'ndship': 4233, 'needle': 4249, 'evn': 2405, '4few': 475, 'alwys': 857, 'conected': 1767, 'tke': 6177, 'disturbance': 2131, 'dlf': 2140, 'premarica': 4807, 'kindly': 3538, 'denis': 2030, 'mina': 4032, 'watts': 6625, 'landmark': 3600, 'bob': 1271, 'barry': 1117, '83738': 627, 'environment': 2357, 'terrific': 6056, 'hook': 3123, 'justbeen': 3475, 'overa': 4487, 'brains': 1334, 'mush': 4179, 'jenny': 3416, 'leanne': 3647, 'reserves': 5126, 'march': 3920, 'bootydelious': 1291, '32': 401, '434': 448, 'someplace': 5630, '08708800282': 81, '08715203685': 115, '4xx26': 495, 'teju': 6032, 'falling': 2481, 'force': 2640, 'smeone': 5588, '2006': 320, 'fifa': 2543, 'held': 3047, 'onbus': 4415, '4a': 472, 'meal': 3965, 'donyt': 2177, 'hes': 3066, 'latelyxxx': 3618, 'magic': 3883, 'loose': 3779, 'chart': 1573, 'heroes': 3064, 'wap': 6604, 'tips': 6166, 'xchat': 6828, 'creepy': 1876, 'lil': 3699, 'kinda': 3537, 'netflix': 4262, 'visa': 6529, 'gucci': 2931, 'summers': 5896, 'flirt': 2602, 'singles': 5527, 'matched': 3943, 'help08714742804': 3055, 'sexychat': 5411, 'jordan': 3448, 'voted': 6549, 'bomb': 1277, 'a30': 694, 'divert': 2133, 'wadebridge': 6570, 'natalja': 4221, '440': 450, 'nat27081980': 4218, '09061743811': 186, 'choices': 1627, 'toss': 6241, 'coin': 1700, 'becoz': 1155, 'gudni8': 2933, 'actual': 753, 'harder': 3000, 'nbme': 4231, 'items': 3370, '7cfca1a': 585, 'urfeeling': 6441, 'bettersn': 1194, 'probthat': 4858, 'overdose': 4489, 'careful': 1496, 'spk': 5706, '08707509020': 78, 'sorta': 5656, 'blown': 1260, 'perpetual': 4608, 'dd': 1974, 'fat': 2501, 'mesages': 4004, '09050000878': 152, 'pobox45w2tg150p': 4712, 'temales': 6043, 'wonderful': 6763, 'aeronautics': 781, 'professors': 4863, 'wer': 6675, 'calld': 1454, 'aeroplane': 782, 'plane': 4678, 'ws': 6812, 'students': 5840, 'hurried': 3184, 'datz': 1966, 'taka': 5975, 'balls': 1095, 'retired': 5149, 'univ': 6404, 'defer': 2006, 'admission': 766, 'allow': 847, 'ive': 3378, 'lotta': 3795, 'corvettes': 1826, 'lately': 3617, 'barring': 1116, 'sudden': 5873, 'influx': 3290, 'enjoyin': 2341, 'indians': 3282, 'mo': 4079, 'sall': 5271, 'hehe': 3045, 'shexy': 5442, 'wifi': 6709, 'blanked': 1237, 'textin': 6073, 'onluy': 4420, 'matters': 3952, 'offcampus': 4386, 'shrek': 5488, '3d': 418, 'opportunity': 4435, 'misplaced': 4051, 'mcat': 3963, 'thkin': 6120, 'nd': 4232, 'parco': 4541, 'nb': 4230, 'hop': 3126, 'bowls': 1309, 'hlday': 3094, 'horrible': 3137, 'camp': 1470, 'amrca': 870, 'serena': 5395, 'nationwide': 4223, 'auto': 1038, 'newport': 4276, 'outsider': 4484, 'performed': 4602, 'ooh': 4424, '4got': 478, 'belly': 1177, 'moseley': 4124, 'weds': 6652, 'cafe': 1440, 'swimsuit': 5951, 'allowed': 848, 'msgrcvdhg': 4147, 'cheyyamo': 1604, 'thinkthis': 6117, 'dangerous': 1950, 'business': 1419, 'picture': 4652, 'eye': 2455, 'bike': 1206, '07090298926': 20, 'ref': 5051, '9307622': 679, 'possible': 4761, '08712101358': 85, 'indyarocks': 3285, 'phonebook': 4636, 'calicut': 1447, 'eldest': 2301, 'bcaz': 1140, 'nasty': 4216, 'filthyguys': 2560, 'rude': 5231, 'bitch': 1225, 'slo': 5576, '4msgs': 482, 'dawns': 1968, 'refreshed': 5059, 'ajith': 824, 'feelin': 2520, 'wuld': 6819, 'nuther': 4360, 'blackberry': 1233, 'eh74rr': 2292, 'dippeditinadew': 2105, 'lovingly': 3813, 'itwhichturnedinto': 3375, 'gifted': 2820, 'tomeandsaid': 6211, 'convince': 1807, 'witot': 6736, 'simulate': 5521, 'readiness': 4999, 'buyers': 1426, '83039': 618, '62735': 538, '450': 458, 'accommodationvouchers': 728, 'mustprovide': 4186, '15541': 287, 'clover': 1679, 'stock': 5791, 'pai': 4511, 'seh': 5363, 'scared': 5317, 'lookin': 3773, '7548': 574, '4041': 437, 'burial': 1410, 'mojibiola': 4099, 'ceiling': 1539, 'cthen': 1901, 'conclusion': 1763, 'contents': 1797, 'references': 5053, 'breakfast': 1344, 'hamper': 2974, 'stomach': 5795, 'trauma': 6270, 'swear': 5942, 'cbe': 1531, 'simpsons': 5520, 'band': 1097, 'recorder': 5040, 'canname': 1480, 'capital': 1482, 'australia': 1036, 'mquiz': 4138, 'confuses': 1776, 'vewy': 6503, 'lubly': 3827, 'dusk': 2241, 'puzzles': 4925, 'unintentionally': 6401, 'trains': 6262, 'enc': 2322, 'buffy': 1397, 'qlynnbv': 4930, 'help08700621170150p': 3054, 'unni': 6413, 'recharge': 5034, 'crashed': 1861, 'cuddled': 1910, 'tunji': 6320, 'form': 2654, 'clark': 1650, 'utter': 6468, 'hardly': 3002, 'practicing': 4791, 'babies': 1075, 'liquor': 3722, 'flaked': 2589, 'loko': 3761, 'dear1': 1981, 'best1': 1190, 'clos1': 1670, 'lvblefrnd': 3844, 'jstfrnd': 3459, 'cutefrnd': 1929, 'lifpartnr': 3688, 'belovd': 1180, 'swtheart': 5958, 'bstfrnd': 1386, 'enemy': 2331, 'necessary': 4241, 'watever': 6621, 'shared': 5429, 'treats': 6277, 'decorating': 1997, '0776xxxxxxx': 26, '18yrs': 295, 'joys': 3454, 'lifeis': 3686, 'daywith': 1972, 'somewheresomeone': 5635, 'tosend': 6239, 'greeting': 2908, 'grr': 2924, 'prescription': 4816, 'pharmacy': 4626, 'bat': 1125, 'ad': 755, 'oooh': 4425, 'rats': 4980, 'themes': 6098, 'vday': 6491, 'parachute': 4535, 'coins': 1702, 'lasagna': 3613, 'vodka': 6541, 'hhahhaahahah': 3074, 'rofl': 5199, 'nig': 4287, 'leonardo': 3668, 'dose': 2184, 'tablet': 5966, 'ashley': 984, 'straight': 5818, 'useful': 6457, 'upping': 6432, 'grams': 2890, 'raviyog': 4981, 'peripherals': 4605, 'bhayandar': 1200, 'legal': 3657, 'split': 5712, 'evaluation': 2388, 'bein': 1173, 'woah': 6753, 'realising': 5005, 'recharged': 5035, 'safely': 5260, 'kvb': 3575, 'gender': 2794, '24m': 333, 'robs': 5194, 'avenge': 1047, 'gram': 2889, 'eighth': 2293, 'smarter': 5586, 'aunty': 1034, 'swatch': 5939, '116': 250, 'grinder': 2911, 'specific': 5688, 'jaklin': 3392, '09058094583': 166, '1172': 251, 'removal': 5094, '08708034412': 80, 'themob': 6099, 'premium': 4809, 'panther': 4527, 'sugababes': 5880, 'zebra': 6902, 'animation': 885, 'badass': 1084, 'hoody': 3122, 'wallpaper': 6592, 'tip': 6165, 'gloucesterroad': 2834, 'uup': 6470, 'hm': 3096, 'headache': 3024, 'lipo': 3720, 'bangbabes': 1101, 'bangb': 1100, 'total': 6243, 'converter': 1805, 'sue': 5876, 'lapdancer': 3606, '89555': 666, 'textoperator': 6075, 'g2': 2749, '1da': 299, '150ppmsg': 284, 'anthony': 903, 'fees': 2525, 'the4th': 6090, 'october': 4384, 'ignore': 3226, 'evr': 2407, 'drastic': 2199, 'dobby': 2143, 'maturity': 3955, 'understanding': 6387, 'ore': 4454, 'owo': 4499, 'wa': 6566, 'fro': 2712, 'waaaat': 6568, 'lololo': 3763, 'gumby': 2944, 'cheese': 1597, 'boyfriend': 1327, 'caring': 1500, 'losers': 3785, 'walmart': 6594, 'asthma': 1003, 'attack': 1016, 'pan': 4520, 'silly': 5514, 'sonyericsson': 5644, '4qf2': 485, 'northampton': 4329, '0906346330': 194, 'spanish': 5676, '47': 463, 'po19': 4704, '2ez': 350, 'virtual': 6528, 'oga': 4397, 'elvis': 2307, 'presleys': 4819, 'consent': 1785, 'eventually': 2396, 'build': 1399, 'tolerance': 6205, 'fucked': 2722, 'hits': 3090, 'skip': 5553, 'spun': 5730, 'wrld': 6807, 'nytho': 4370, 'tx': 6334, 'fonin': 2630, '2mwen': 367, 'frmcloud': 2704, 'spoil': 5714, 'hourish': 3148, 'club4mobiles': 1682, '87070': 647, 'club4': 1681, 'box1146': 1311, 'mk45': 4070, '2wt': 381, 'sigh': 5502, 'avatar': 1044, 'subtoitles': 5869, 'ha': 2955, 'yalrigu': 6848, 'heltini': 3061, 'iyo': 3381, 'kothi': 3570, 'uttered': 6469, 'trusting': 6298, 'clearly': 1664, 'nigh': 4289, 'hyde': 3195, 'mel': 3987, 'opps': 4438, 'confused': 1775, 'color': 1715, 'musical': 4182, 'recycling': 5046, 'twice': 6329, 'earning': 2254, 'needed': 4247, 'everyday': 2399, 'cheat': 1584, 'fatty': 2505, '0089': 2, 'digits': 2093, '09063442151': 192, 'admit': 767, 'forgiven': 2649, 'sparkling': 5680, 'breaks': 1347, '45': 457, '0121': 3, '2025050': 323, 'shortbreaks': 5469, 'org': 4458, 'sufficient': 5879, 'icic': 3211, 'uh': 6359, 'london': 3764, '02072069400': 7, 'bx': 1432, '526': 513, 'whatsup': 6688, 'mus': 4178, 'cold': 1705, 'vitamin': 6534, 'necessarily': 4240, 'headin': 3025, 'cartons': 1510, 'shelves': 5438, 'consistently': 1789, 'intelligent': 3319, 'practicum': 4792, 'links': 3714, 'ears': 2255, 'okey': 4405, 'doke': 2162, 'dressed': 2206, 'laying': 3635, 'charles': 1572, '8000930705': 593, 'mys': 4194, 'morn': 4120, 'cutie': 1930, 'hills': 3081, 'avent': 1048, 'killed': 3532, 'jokin': 3442, '88888': 661, '08701213186': 65, 'msgrcvd': 4145, 'customercare': 1924, '08715205273': 117, '08718738002': 141, '48922': 469, '09061701851': 181, 'k61': 3482, '12hours': 262, 'hahaha': 2961, 'brain': 1332, 'coat': 1692, 'lays': 3636, 'dump': 2235, 'heap': 3031, 'lowes': 3817, 'taste': 5997, 'fish': 2578, 'scenario': 5319, 'mmmm': 4073, 'lick': 3680, 'efficient': 2285, 'swt': 5957, 'nver': 4362, 'somtimes': 5638, 'occupy': 4381, 'mobsi': 4089, '391784': 416, 'virgins': 6527, '4fil': 476, 'sexual': 5409, 'theirs': 6095, '69911': 554, 'blimey': 1246, 'exercise': 2424, 'renewal': 5097, 'optimistic': 4441, 'improve': 3260, 'roles': 5202, 'community': 1734, 'outreach': 4481, 'shld': 5457, 'stretch': 5826, 'sonetimes': 5640, 'rough': 5214, 'av': 1040, 'recognise': 5038, 'forward': 2660, 'kanji': 3495, 'ideal': 3218, 'path': 4568, 'appear': 924, 'paths': 4569, 'blankets': 1239, 'epsilon': 2361, 'ams': 872, 'abroad': 711, 'lonely': 3766, 'xxsp': 6836, 'visionsms': 6530, 'stopcost': 5805, '08712400603': 93, 'nowadays': 4344, 'showrooms': 5485, 'shaping': 5427, 'flyng': 2617, 'horo': 3136, 'aries': 957, 'regular': 5070, 'designation': 2049, 'developer': 2058, '32000': 402, 'legitimat': 3658, 'efreefone': 2286, 'clever': 1665, 'guesses': 2937, 'leona': 3667, 'attach': 1014, 'exe': 2422, 'ashwini': 985, 'gonnamissu': 2860, 'postcard': 4763, 'buttheres': 1423, 'aboutas': 710, 'merememberin': 4002, 'asthere': 1002, 'ofsi': 4396, 'breakin': 1345, 'yaxx': 6855, '2mrw': 366, 'ninish': 4298, 'icky': 3213, 'freek': 2682, 'callin': 1460, 'jen': 3414, 'taught': 6003, 'becaus': 1154, 'verifying': 6499, 'prabu': 4787, 'pocked': 4716, 'dumb': 2234, 'concerned': 1761, 'pierre': 4657, 'cardin': 1489, 'infact': 3287, 'showers': 5482, 'possessiveness': 4759, 'poured': 4775, 'golden': 2853, 'en': 2321, 'nange': 4210, 'bakra': 1092, 'kalstiya': 3491, 'consensus': 1784, 'merely': 4001, 'relationship': 5073, 'wherevr': 6695, 'whenevr': 6692, 'forevr': 2644, 'gudnyt': 2935, 'thgt': 6108, 'clash': 1652, 'father': 2503, 'mb': 3961, 't4get2text': 5962, 'sathya': 5295, 'referin': 5054, 'rich': 5169, 'downstem': 2194, 'karaoke': 3498, 'debating': 1985, '15pm': 288, 'taunton': 6004, 'brison': 1365, 'language': 3603, 'rumour': 5238, 'young': 6881, 'abstract': 713, 'faith': 2474, 'foley': 2621, 'prizes': 4850, '82050': 611, 'bothering': 1302, 'ryder': 5249, 'gibbs': 2817, 'lim': 3701, 'token': 6202, 'liking': 3698, 'huiming': 3174, 'math': 3947, 'uploaded': 6431, 'hsbc': 3162, 'increase': 3275, 'winning': 6726, '09066358152': 206, 'personal': 4612, 'prompts': 4879, 'somewhr': 5636, 'crushes': 1893, 'owned': 4498, 'possessive': 4758, '645': 540, 'abj': 707, 'serving': 5401, 'chances': 1559, 'csh11': 1897, '87575': 653, '6days': 556, 'tsandcs': 6304, 'victoria': 6506, 'album': 831, 'guilty': 2942, 'arsenal': 974, 'dartboard': 1959, 'condition': 1764, 'doubles': 2187, 'trebles': 6278, 'ba': 1069, 'gua': 2929, 'faber': 2460, 'relaxing': 5076, '7am': 584, '5ish': 519, 'fan': 2488, 'dancin': 1948, 'arranging': 970, 'envy': 2358, '15': 275, 'yah': 6846, '____': 693, 'ths': 6138, 'iq': 3351, 'ias': 3200, 'arty': 978, 'collages': 1706, 'tryin': 6301, 'delhi': 2019, 'moby': 4090, 'w8in': 6565, '4utxt': 492, '82242': 613, 'hlp': 3095, '08712317606': 90, 'msg150p': 4143, '2rcv': 374, 'jos': 3450, '420': 442, 'placement': 4675, 'amrita': 871, 'chuckin': 1639, 'black': 1232, 'trainners': 6261, 'carryin': 1508, 'bac': 1081, 'lou': 3797, 'goodnite': 2867, 'gailxx': 2752, 'tiime': 6155, 'tears': 6023, 'allday': 844, 'piss': 4666, 'unfortunately': 6393, 'bridge': 1355, 'lager': 3593, 'hockey': 3102, 'elections': 2303, 'nokia6650': 4313, '81151': 608, '4t': 486, 'ctxt': 1906, 'mtmsg': 4154, 'humanities': 3176, 'modules': 4096, 'table': 5965, 'fran': 2669, 'anal': 877, '09066368470': 215, 'nosy': 4333, 'reacting': 4995, 'freaked': 2674, 'garments': 2772, 'multis': 4166, 'surgical': 5926, 'emergency': 2315, 'unfolds': 6392, 'remb': 5085, 'synced': 5961, 'shangela': 5424, 'dock': 2145, 'rolled': 5203, 'newscaster': 4279, 'dabbles': 1939, 'flute': 2614, 'wheel': 6690, 'rayman': 4983, 'golf': 2855, 'arcade': 945, 'settings': 5403, 'activ8': 748, 'termsapply': 6054, 'ultimately': 6367, 'tor': 6236, 'motive': 4127, 'tui': 6315, 'achieve': 739, 'korli': 3567, 'reg': 5062, 'pract': 4788, 'flung': 2613, 'alle': 845, 'mone': 4107, 'eppolum': 2360, 'pole': 4724, 'allalo': 843, 'jontin': 3447, 'oral': 4447, 'fave': 2508, 'position': 4755, 'suffering': 5877, 'dysentry': 2247, '07090201529': 19, 'ey': 2454, 'downon': 2193, 'theacusations': 6091, 'itxt': 3376, 'iwana': 3379, 'wotu': 6792, 'thew': 6106, 'haventcn': 3017, 'nething': 4263, 'fridge': 2694, 'wearing': 6638, 'shorts': 5472, 'foot': 2634, 'invaders': 3334, 'orig': 4461, 'console': 1790, 'alto18': 855, 'wave': 6626, 'asp': 996, '44345': 452, 'skyving': 5559, 'checkup': 1593, 'aka': 825, 'smear': 5587, 'bridgwater': 1356, 'banter': 1106, 'blu': 1261, 'november': 4343, '09061104276': 173, 'smsco': 5602, '75max': 575, 'basketball': 1124, 'outdoors': 4477, 'nose': 4331, 'essay': 2381, 'ure': 6440, 'gnarls': 2837, 'barkleys': 1112, '08718727870150ppm': 138, 'rows': 5219, 'costing': 1831, 'offering': 4391, 'okmail': 4407, '09061743806': 184, 'box326': 1314, 'mystery': 4196, 'solved': 5626, 'opened': 4428, 'pity': 4669, 'suggestions': 5886, 'operate': 4430, 'interfued': 3325, 'occurs': 4382, 'dai': 1943, 'drms': 2215, 'justify': 3477, 'ruining': 5234, 'apology': 921, 'skint': 5552, 'fancied': 2489, 'bevies': 1196, 'waz': 6631, 'othrs': 4470, 'spoon': 5722, 'watchng': 6619, 'comfey': 1727, 'bull': 1403, 'floating': 2605, 'ikea': 3228, 'mess': 4005, 'heat': 3039, 'applyed': 930, 'oil': 4401, 'lodging': 3753, 'garbage': 2768, 'jam': 3393, 'hannaford': 2987, 'wheat': 6689, 'chex': 1603, 'lk': 3735, 'jia': 3425, 'studies': 5841, 'anyones': 907, 'application': 928, 'broadband': 1371, 'installation': 3311, '08714712412': 108, 'banneduk': 1105, 'g696ga': 2750, 'monkeys': 4109, 'annoyin': 891, 'wasnt': 6612, 'phoned': 4637, 'jack': 3386, 'helpful': 3057, 'pretend': 4824, 'hypotheticalhuagauahahuagahyuhagga': 3198, 'real1': 5003, 'pushbutton': 4918, 'dontcha': 2173, 'babygoodbye': 1077, 'golddigger': 2852, 'webeburnin': 6644, '09058094594': 167, 'irritation': 3357, 'apples': 927, 'pairs': 4517, 'malarky': 3903, 'holy': 3113, 'living': 3734, 'christ': 1634, 'cashto': 1516, '08000407165': 43, 'getstop': 2810, '88222': 657, 'php': 4643, 'fuuuuck': 2746, 'pee': 4590, 'burns': 1413, 'smiled': 5591, 'answered': 897, 'gep': 2804, 'knocking': 3554, 'failed': 2470, 'showr': 5484, 'survey': 5931, '80160': 600, 'txt43': 6337, 'stitch': 5790, 'trouser': 6290, 'stereo': 5781, 'mi': 4017, 'coulda': 1837, 'brolly': 1374, 'franxx': 2671, 'weren': 6677, 'kidding': 3527, 'chit': 1624, 'logon': 3759, '8883': 660, '4217': 444, 'w1a': 6559, '6zf': 566, '118p': 252, '078': 30, 'skye': 5556, 'ffffffffff': 2535, 'hf8': 3072, '3750': 413, '08718726970': 134, 'fellow': 2528, 'middle': 4021, 'pours': 4776, 'scraped': 5334, 'barrel': 1115, 'social': 5617, 'misfits': 4049, 'bognor': 1273, 'splendid': 5711, 'beverage': 1195, 'pist': 4668, 'thanku': 6084, 'unlike': 6410, 'docs': 2147, 'patients': 4570, 'turkeys': 6321, 'mandy': 3914, 'sullivan': 5891, 'hotmix': 3146, 'fm': 2618, '09041940223': 150, 'transferred': 6266, 'shu': 5491, 'singapore': 5524, 'assumed': 1001, 'convenience': 1802, 'neglect': 4253, 'kane': 3494, 'shud': 5492, 'mite': 4064, 'wee': 6653, '6230': 536, '83383': 624, 'pobox114': 4706, '14tcr': 273, 'dorm': 2181, 'slacking': 5560, 'norm': 4324, 'saucy': 5301, 'daytime': 1971, 'busty': 1420, '09099726429': 229, 'janinexx': 3399, 'minmobsmorelkpobox177hp51fl': 4038, 'image': 3237, 'str8': 5817, 'classic': 1655, '200p': 322, 'tooth': 6231, 'or2optout': 4445, 'hv9d': 3192, 'absolutly': 712, 'frog': 2713, 'axel': 1062, 'akon': 826, 'eyed': 2456, 'pure': 4913, 'hearted': 3037, 'enemies': 2330, 'smiley': 5593, 'locations': 3748, 'largest': 3611, '69696': 549, 'ec2a': 2268, '3lp': 423, 'wining': 6723, '946': 680, 'splashmobile': 5709, 'subscrition': 5867, '300p': 390, 'youdoing': 6879, 'eightish': 2294, 'carpark': 1506, 'andrews': 881, 'bbd': 1137, 'dvg': 2244, 'vinobanagar': 6519, 'forgiveness': 2650, 'fruit': 2717, '08718723815': 130, 'importantly': 3253, '08712402972': 97, 'keypad': 3516, 'marvel': 3934, 'ultimate': 6366, 'spider': 5699, '83338': 622, '8ball': 670, '08714712388': 107, '28th': 344, 'teams': 6021, 'suggest': 5884, 'stays': 5772, 'ors': 4464, 'stool': 5800, '09065174042': 202, 'cust': 1920, '07821230901': 34, 'select': 5366, 'benefits': 1187, 'trained': 6259, 'advisors': 780, 'dialling': 2068, '402': 436, '08712402902': 96, 'unconscious': 6381, 'adults': 774, 'abnormally': 709, 'wondarfull': 6761, 'scenery': 5320, 'hotmail': 3145, 'zaher': 6900, 'dirt': 2109, 'windows': 6718, 'mouth': 4130, 'flowing': 2611, 'chores': 1632, 'exist': 2428, 'hail': 2963, 'mist': 4061, 'burger': 1408, 'footy': 2639, 'stadium': 5740, 'large': 3610, 'coca': 1693, 'cola': 1703, 'north': 4328, 'carolina': 1504, 'texas': 6066, 'gre': 2902, 'league': 3646, 'yourjob': 6885, 'llspeak': 3739, 'soonlots': 5648, 'xxxx': 6839, '09058097189': 171, 'likes': 3696, 'dislikes': 2125, 'chad': 1553, 'gymnastics': 2952, 'christians': 1635, 'silently': 5513, 'shesil': 5441, 'excused': 2420, 'crickiting': 1881, 'sitter': 5538, 'kaitlyn': 3487, 'dokey': 2163, 'beneath': 1185, 'pale': 4518, 'picsfree1': 4651, 'keyword': 3517, 'swollen': 5955, 'glands': 2831, 'sunoco': 5902, 'chastity': 1577, 'device': 2059, 'beatings': 1151, 'tortilla': 6238, 'yummmm': 6894, 'nighters': 4291, 'persevered': 4609, 'khelate': 3520, 'kintu': 3541, 'opponenter': 4434, 'dhorte': 2065, 'lage': 3592, 'rule': 5235, 'aaooooright': 697, 'remembrs': 5089, 'everytime': 2402, 'hanks': 2986, 'lotsly': 3793, 'thout': 6129, 'apart': 913, 'intrude': 3333, 'jobs': 3431, 'adewale': 762, 'egbon': 2287, 'ummmmmaah': 6373, 'returns': 5154, 'nhs': 4280, 'born': 1296, '2b': 346, 'terminated': 6052, 'inconvenience': 3273, 'gpu': 2884, 'gautham': 2777, 'hip': 3084, 'zoom': 6908, 'wnevr': 6750, 'fal': 2477, 'vth': 6555, 'books': 1287, 'fals': 2483, 'yen': 6863, 'madodu': 3876, 'nav': 4228, 'pretsorginta': 4825, 'nammanna': 4208, 'pretsovru': 4826, 'alwa': 856, 'eveb': 2391, 'scary': 5318, 'sumthin': 5897, 'brothas': 1376, 'priority': 4843, 'thinked': 6113, 'adjustable': 763, 'cooperative': 1816, 'allows': 849, 'skateboarding': 5547, 'thrown': 6136, 'winds': 6719, 'bandages': 1098, 'dance': 1947, 'river': 5188, 'logo': 3758, 'name1': 4204, 'name2': 4205, 'mobno': 4087, 'adam': 756, '07123456789': 21, 'pobox36504w45wq': 4710, 'txtno': 6342, 'ads': 772, 'wavering': 6627, 'individual': 3284, 'heal': 3029, 'fireplace': 2576, 'icon': 3215, 'mca': 3962, 'worlds': 6783, 'discreet': 2121, '83110': 620, 'balloon': 1094, 'excited': 2417, 'arnt': 966, 'xxxxxxxxxxxxxx': 6842, 'chinatown': 1620, 'porridge': 4747, 'claypot': 1656, 'yam': 6850, 'fishhead': 2579, 'beehoon': 1161, 'ups': 6433, '3days': 419, '2wks': 380, 'usps': 6464, 'lag': 3591, 'bribe': 1353, 'nipost': 4300, 'washob': 6610, 'nobbing': 4306, 'nickey': 4286, 'platt': 4685, 'allo': 846, 'braved': 1338, 'triumphed': 6287, 'jolly': 3444, 'jsco': 3457, '2channel': 347, 'leadership': 3644, 'skills': 5550, 'psychic': 4899, 'mobs': 4088, 'title': 6172, 'breathe1': 1350, 'titles': 6173, 'crazyin': 1866, 'sleepingwith': 5565, 'finest': 2567, 'ymca': 6873, 'pobox365o4w45wq': 4711, 'drama': 2197, 'struggling': 5836, 'strange': 5820, 'ego': 2290, 'necessity': 4242, 'reppurcussions': 5115, 'dearer': 1982, 'dem': 2026, '07734396839': 23, 'ibh': 3201, 'nokia6600': 4312, 'everyboy': 2398, 'xxxxxxxx': 6841, 'breathing': 1352, 'wrongly': 6810, '69855': 551, 'stopbcm': 5804, 'sf': 5412, 'grateful': 2896, 'happier': 2993, 'sweetheart': 5945, 'biola': 1215, '09058094455': 163, 'cozy': 1852, 'arguing': 954, '08712400200': 91, 'lacking': 3586, 'particular': 4549, 'dramastorm': 2198, 'spotty': 5726, 'province': 4893, 'sterling': 5783, 'sq825': 5732, 'arrival': 972, 'depression': 2041, 'mad1': 3873, 'mad2': 3874, 'gbp': 2784, 'funeral': 2738, 'shade': 5415, 'fundamentals': 2737, 'steam': 5777, 'manky': 3916, 'scouse': 5333, 'steve': 5785, 'travelling': 6273, 'inmind': 3300, 'recreation': 5045, 'needing': 4248, 'fainting': 2472, 'housework': 3152, 'cuppa': 1915, '08717898035': 127, 'perf': 4599, 'hont': 3120, 'puzzeles': 4924, 'nothin': 4337, 'hanger': 2983, 'dialogue': 2069, 'reltnship': 5081, 'wipe': 6728, 'resent': 5123, 'previous': 4830, 'queries': 4935, 'customersqueries': 1926, 'netvision': 4265, 'forgotten': 2652, '09058094454': 162, 'sts': 5837, 'necesity': 4239, 'witout': 6737, 'colleg': 1713, 'wth': 6816, 'functions': 2735, 'events': 2395, 'espe': 2378, 'cared': 1493, 'irritated': 3354, '4wrd': 494, 'wthout': 6817, 'takecare': 5976, 'click': 1666, 'laughing': 3625, 'tooo': 6229, 'knock': 3553, '80082': 596, 'tkls': 6178, 'stoptxtstop': 5810, '820554ad0a1705572711': 612, 'lobby': 3745, 'occasion': 4380, 'celebrated': 1541, 'reflection': 5057, 'values': 6482, 'desires': 2050, 'affections': 787, 'traditions': 6256, 'truro': 6296, 'ext': 2451, 'treadmill': 6274, 'craigslist': 1857, 'ingredients': 3297, 'sports': 5725, 'lyk': 3848, 'footbl': 2636, 'crckt': 1867, 'missin': 4055, 'managed': 3910, 'oxygen': 4500, 'resort': 5132, 'roller': 5204, '09066361921': 208, 'breather': 1351, 'granted': 2895, 'fulfil': 2731, 'gods': 2844, 'arr': 968, 'oscar': 4467, '4goten': 479, 'scammers': 5315, 'prem': 4806, 'nos': 4330, 'ericson': 2365, 'der': 2043, 'luks': 3833, 'modl': 4094, 'catches': 1523, 'concentration': 1759, 'pt2': 4900, '10k': 243, '09064018838': 198, 'cro1327': 1883, 'intentions': 3321, '09111032124': 231, 'pobox12n146tf150p': 4707, 'lastest': 3614, 'stereophonics': 5782, 'marley': 3928, 'dizzee': 2138, 'racal': 4951, 'libertines': 3678, 'strokes': 5832, 'nookii': 4318, 'bookmark': 1286, '82468': 616, 'prevent': 4828, 'dehydration': 2013, 'fluids': 2612, 'lindsay': 3707, 'bars': 1118, 'heron': 3065, 'compass': 1738, 'gnun': 2839, 'way2sms': 6630, 'lips': 3721, 'grumble': 2925, 'trash': 6269, 'dogbreath': 2155, 'sounding': 5664, 'pose': 4753, 'comb': 1721, 'dryer': 2226, 'flying': 2616, 'collecting': 1711, 'configure': 1770, 'breaking': 1346, 'cstore': 1898, 'polo': 4727, '373': 412, 'w1j': 6560, '6hl': 557, '07808247860': 32, '08719899229': 147, '40411': 438, 'shitload': 5455, '60': 528, '400thousad': 435, '9996': 685, '14thmarch': 274, 'availa': 1041, 'opposite': 4437, 'slp': 5581, 'muah': 4159, 'inpersonation': 3304, 'flea': 2595, 'forums': 2659, 'sabarish': 5250, 'thangam': 6080, 'positions': 4756, 'kama': 3492, 'sutra': 5932, 'hugging': 3170, 'grumpy': 2926, 'lying': 3847, 'cough': 1836, 'shot': 5473, 'grandfather': 2892, '2price': 372, '100txt': 240, 'mth': 4152, 'd3wv': 1937, 'atten': 1018, 'vibrate': 6504, 'acting': 746, 'nit': 4301, 'wright': 6802, 'fly': 2615, 'florida': 2608, 'cat': 1521, 'collapsed': 1707, 'eerie': 2281, 'dracula': 2196, 'ghost': 2816, 'addamsfa': 758, 'munsters': 4174, 'exorcist': 2431, 'twilight': 6331, 'print': 4838, 'outs': 4482, 'u4': 6353, 'knickers': 3552, 'beg': 1167, '01223585236': 4, 'nikiyu4': 4296, 'tmorrow': 6183, 'accomodate': 729, 'impressed': 3258, 'funs': 2742, 'mental': 3996, 'surly': 5927, 'grooved': 2915, 'tarot': 5995, '85555': 639, 'enjoying': 2342, 'spoiled': 5715, 'qet': 4927, 'expensive': 2436, 'dao': 1951, 'pressies': 4821, 'helens': 3048, 'princes': 4836, 'ship': 5447, 'apes': 915, 'taj': 5974, 'lesser': 3669, 'known': 3557, 'facts': 2465, 'mumtaz': 4172, 'shahjahan': 5418, 'wifes': 6708, 'arises': 959, 'hari': 3003, 'weighed': 6662, 'woohoo': 6769, 'oranges': 4449, 'upd8': 6423, 'exposed': 2446, 'vomiting': 6547, 'fiting': 2582, 'load': 3741, 'mj': 4068, 'requests': 5118, '1stchoice': 307, '08707808226': 79, 'aunts': 1033, 'anniversary': 888, 'tarpon': 5996, 'springs': 5729, 'immed': 3245, 'rewarding': 5163, 'chillaxin': 1617, 'haul': 3010, 'paragon': 4537, 'avalarr': 1043, 'hollalater': 3111, 'quiteamuzing': 4945, 'scool': 5326, 'probpop': 4856, 'cu': 1907, 'satthen': 5299, '4brekkie': 473, 'psxtra': 4898, 'lrg': 3821, 'portions': 4751, 'xclusive': 6829, 'clubsaisai': 1684, 'speciale': 5684, 'zouk': 6909, 'roses': 5213, '07946746291': 37, '07880867867': 35, 'pisces': 4665, 'aquarius': 942, 'fit': 2581, 'soo': 5645, 'muchxxlove': 4160, 'locaxx': 3749, 'ax': 1061, 'thankyou': 6085, 'permission': 4606, 'leo': 3666, 'hor': 3134, 'investigate': 3336, 'costumes': 1834, 'yowifes': 6888, 'vijaykanth': 6515, 'painful': 4514, 'maintaining': 3895, 'instant': 3313, '08715203028': 110, '9th': 691, 'gaze': 2783, 'kappa': 3497, 'package': 4505, 'programs': 4868, 'ringtoneking': 5180, '84484': 633, 'cashed': 1515, 'announced': 889, 'blog': 1250, 'returning': 5153, 'orh': 4460, 'byatch': 1435, 'whassup': 6686, '09050001808': 153, 'm95': 3859, 'rightio': 5173, '48': 467, 'arent': 949, 'chapel': 1565, 'frontierville': 2715, 'olave': 4409, 'mandara': 3913, 'trishul': 6286, 'dan': 1946, 'reminded': 5091, 'sporadically': 5723, 'bc': 1139, 'studyn': 5845, 'sittin': 5539, 'wind': 6717, 'drops': 2218, 'ambrith': 860, 'madurai': 3879, 'arun': 980, 'dha': 2063, 'marrge': 3929, 'remembr': 5088, '08719181503': 144, 'nearby': 4236, 'cliffs': 1667, '2u2': 378, 'anythin': 909, 'supose': 5913, 'babysit': 1079, 'manageable': 3909, 'involve': 3343, 'imposed': 3254, 'suggestion': 5885, 'lands': 3601, 'helps': 3060, 'forgt': 2653, '09058094565': 165, 'stairs': 5742, 'phews': 4629, 'initiate': 3298, 'rgent': 5166, 'newquay': 4277, '1im': 302, 'talkin': 5984, 'flies': 2596, 'childporn': 1614, 'realise': 5004, 'web2mobile': 6642, 'txt250': 6336, 'box139': 1312, 'la32wu': 3582, 'txtx': 6347, 'printed': 4839, '09071517866': 222, '150ppmpobox10183bhamb64xe': 283, '09064017295': 196, 'k52': 3481, 'phony': 4639, 'topped': 6235, 'bubbletext': 1390, 'tgxxrz': 6078, 'enters': 2346, 'banks': 1103, 'differ': 2084, 'networking': 4267, 'incident': 3266, 'christmassy': 1637, 'dub': 2228, 'je': 3410, 'banned': 1104, '09061104283': 174, '50pm': 506, 'pen': 4592, 'biro': 1219, 'fixes': 2586, 'spelling': 5694, 'eek': 2280, '09096102316': 227, 'minmoremobsemspobox45po139wa': 4039, 'mention': 3997, 'served': 5398, 'ibored': 3206, 'bears': 1150, 'nick': 4285, 'types': 6350, 'upload': 6430, '08718730666': 139, 'disconnected': 2119, 'prayers': 4799, 'speedchat': 5691, '80155': 599, 'swap': 5938, 'chatter': 1580, 'chat80155': 1579, 'rcd': 4986, 'punish': 4909, 'ignoring': 3227, 'strongly': 5834, 'sacrifice': 5255, 'promises': 4876, 'creativity': 1871, 'stifled': 5788, 'oclock': 4383, 'bash': 1120, 'postponed': 4766, 'stocked': 5792, 'pounded': 4773, 'macha': 3866, 'mindset': 4034, 'smoked': 5597, 'aids': 813, 'patent': 4567, 'bits': 1229, 'hppnss': 3158, 'sorrow': 5652, 'goodfriend': 2863, 'reboot': 5020, 'brin': 1360, 'properly': 4883, 'sheet': 5434, 'japanese': 3402, 'proverb': 4890, 'strike': 5829, '123': 258, '09050002311': 154, 'b4280703': 1066, '08718727868': 136, 'uniform': 6399, 'youi': 6880, 'lul': 3834, 'juicy': 3462, 'nurses': 4357, 'shes': 5440, 'obese': 4376, 'oyea': 4501, '08702490080': 70, 'hdd': 3022, 'casing': 1517, 'bec': 1153, 'rules': 5236, 'bend': 1184, 'thia': 6109, 'inlude': 3299, 'previews': 4829, 'machi': 3868, 'mila': 4025, 'age23': 800, 'blonde': 1254, 'mtalk': 4151, '69866': 552, '30pp': 395, '5free': 518, 'increments': 3277, 'help08718728876': 3056, 'excuses': 2421, 'famamus': 2484, 'maaaan': 3861, 'cupboard': 1914, 'eviction': 2404, 'spiral': 5703, 'michael': 4019, 'riddance': 5170, 'ilol': 3235, 'personally': 4614, 'wuldnt': 6820, '30pm': 394, 'engagement': 2334, 'fixd': 2584, 'shocking': 5459, 'njan': 4304, 'vilikkam': 6517, 'sudn': 5875, 'astrology': 1005, 'gokila': 2850, 'white': 6697, '82324': 615, 'gota': 2876, 'port': 4748, 'dolls': 2167, 'patrick': 4571, 'swayze': 5941, 'corporation': 1821, 'base': 1119, 'sales': 5269, 'timings': 6163, '8am': 669, 'stated': 5764, '850': 635, '650': 542, 'olympics': 4412, 'crammed': 1858, 'kent': 3509, 'vale': 6474, 'gsex': 2927, '2667': 339, 'wc1n': 6632, '3xx': 431, '54': 515, 'resubmit': 5145, 'expiry': 2441, 'weaknesses': 6635, 'pushes': 4919, 'knee': 3549, 'exposes': 2447, 'pulls': 4906, 'wicked': 6702, 'el': 2296, 'nino': 4299, '09066649731from': 219, 'sk3': 5545, '8wp': 674, 'limited': 3703, '2stoptx': 375, 'mary': 3935, 'dodgey': 2149, 'rip': 5182, 'uterus': 6467, 'hopeso': 3132, 'amnow': 866, 'ithink': 3372, 'tonsolitusaswell': 6225, 'layin': 3634, 'bedreal': 1157, 'lotsof': 3794, 'kay': 3503, 'ducking': 2230, 'chinchillas': 1621, 'everyso': 2401, 'panicks': 4524, 'nigro': 4294, 'floppy': 2607, 'snappy': 5608, 'abbey': 700, 'derp': 2045, 'complaint': 1742, 'abusers': 717, 't91': 5963, '09057039994': 160, 'fifth': 2544, 'woozles': 6772, 'weasels': 6639, 'exeter': 2425, 'borin': 1294, '09099725823': 228, 'draws': 2201, 'vivek': 6536, 'snatch': 5609, 'purse': 4916, 'blur': 1265, 'pansy': 4526, 'jungle': 3470, 'panic': 4523, 'surrender': 5930, 'prsn': 4894, 'saves': 5305, 'quiet': 4942, 'uks': 6365, 'fastest': 2500, 'growing': 2921, '83021': 617, 'hypertension': 3197, 'dull': 2233, '88800': 659, '89034': 662, '08718711108': 128, 'beerage': 1164, 'papa': 4530, 'ccna': 1534, 'shola': 5460, 'academic': 719, 'sagamu': 5261, 'lautech': 3629, 'vital': 6533, 'completes': 1747, 'education': 2277, 'zealand': 6901, 'rt': 5224, 'pro': 4851, '08701237397': 66, 'redeemable': 5048, 'fudge': 2727, 'oreos': 4457, 'chik': 1610, 'filth': 2558, 'saristar': 5289, 'e14': 2248, '9yt': 692, '08701752560': 69, '450p': 459, 'stop2': 5802, 'wikipedia': 6711, 'jp': 3455, 'mofo': 4097, 'colours': 1717, 'darker': 1954, 'styling': 5854, 'gray': 2900, 'listn': 3727, 'watevr': 6622, 'starving': 5761, 'cooked': 1811, 'hopeing': 3131, 'sisters': 5534, '08712103738': 86, 'guild': 2941, 'bristol': 1366, '087123002209am': 89, '49': 470, 'bundle': 1404, 'deals': 1979, 'avble': 1045, 'mf': 4015, 'ritten': 5187, 'fold': 2620, 'youphone': 6882, 'athome': 1009, 'youwanna': 6887, 'donate': 2170, 'unicef': 6398, 'asian': 986, 'tsunami': 6308, 'disaster': 2114, 'fund': 2736, '864233': 642, 'peach': 4588, 'tasts': 5998, 'lush': 3837, 'belongs': 1179, 'fated': 2502, 'shoranur': 5465, 'fuelled': 2728, 'concern': 1760, 'prior': 4842, 'grief': 2910, 'womdarfull': 6757, 'actor': 752, 'rg21': 5164, '4jx': 481, 'turned': 6323, 'cakes': 1442, 'notixiquating': 4340, 'laxinorficated': 3632, 'bambling': 1096, 'entropication': 2351, 'oblisingately': 4377, 'opted': 4440, 'masteriastering': 3939, 'amplikater': 869, 'fidalfication': 2539, 'champlaxigating': 1557, 'atrocious': 1013, 'wotz': 6793, 'junna': 3471, 'tunde': 6319, 'swell': 5948, '0721072': 22, 'built': 1401, 'lonlines': 3769, 'lotz': 3796, 'memories': 3994, 'coherently': 1698, 'andre': 880, 'virgil': 6525, 'complexities': 1749, 'freely': 2683, 'taxes': 6005, 'outrageous': 4480, 'bird': 1216, 'antelope': 902, 'toplay': 6234, 'fieldof': 2541, 'selfindependence': 5370, 'contention': 1796, 'screwd': 5340, 'specialisation': 5685, 'labor': 3584, 'shakara': 5419, 'beggar': 1168, 'receipts': 5025, 'pendent': 4594, 'twinks': 6332, 'scallies': 5314, 'skins': 5551, 'jocks': 3432, '08712466669': 102, 'somewhat': 5634, 'laden': 3588, 'wrecked': 6799, 'satanic': 5293, 'imposter': 3256, 'destiny': 2054, 'stil': 5789, 'tobed': 6192, '430': 447, '630': 539, 'sos': 5661, 'quarter': 4932, 'factory': 2464, 'nitros': 4303, 'resubbing': 5144, '08719839835': 146, 'mgs': 4016, 'billed': 1207, '89123': 664, 'miiiiiiissssssssss': 4024, 'xam': 6826, '1thing': 309, 'answr': 901, 'pandy': 4522, '4w': 493, 'technologies': 6028, 'wesleys': 6679, 'vpod': 6552, 'shanil': 5426, 'exchanged': 2416, 'uncut': 6385, 'diamond': 2070, 'dino': 2102, 'emerging': 2316, 'fiend': 2542, 'impede': 3250, 'hesitant': 3067, 'lakhs': 3595, 'dying': 2246, '1mega': 303, 'pixels': 4671, '3optical': 426, '5digital': 517, 'dooms': 2178, 'hall': 2969, 'hesitation': 3069, 'intha': 3330, 'ponnungale': 4736, 'ipaditan': 3348, 'lay': 3633, 'bimbo': 1213, 'ugo': 6358, 'mokka': 4100, 'swimming': 5950, 'pool': 4738, 'jacuzzi': 3390, 'uses': 6460, 'stops': 5808, 'appointments': 932, 'ummma': 6372, 'useless': 6458, 'splash': 5708, 'genius': 2798, 'uv': 6471, 'causes': 1527, 'mutations': 4188, 'sunscreen': 5904, 'thesedays': 6104, 'africa': 791, 'avin': 1050, 'silver': 5515, '100p': 238, 'hunt': 3181, 'wrkin': 6806, 'mmmmm': 4074, 'sooooo': 5650, 'devouring': 2061, 'sayy': 5312, 'solihull': 5624, 'neft': 4252, 'beneficiary': 1186, '0870737910216yrs': 76, 'goldviking': 2854, '762': 576, 'mummy': 4170, 'noi': 4308, 'js': 3456, 'busetop': 1418, 'walsall': 6595, 'tue': 6312, 'terry': 6059, '69101': 547, 'rtf': 5225, 'sphosting': 5698, 'powerful': 4779, 'weapon': 6636, 'henry': 3062, 'scores': 5329, 'yards': 6853, 'bergkamp': 1188, 'margin': 3922, '78': 581, 'clothes': 1678, 'missionary': 4057, 'dudette': 2232, 'spook': 5721, 'halloween': 2972, '08701417012150p': 68, 'trips': 6285, 'mint': 4043, 'grownup': 2923, 'lap': 3605, 'phasing': 4627, 'fourth': 2663, 'dimension': 2096, 'treated': 6276, 'digi': 2091, 'coupla': 1843, 'raglan': 4956, 'edward': 2279, 'cricket': 1879, 'closeby': 1672, 'mumhas': 4169, 'beendropping': 1162, 'theplace': 6103, 'adress': 770, 'involved': 3344, '08714712379': 106, 'dled': 2139, 'imp': 3248, 'possibility': 4760, 'andros': 882, 'spare': 5677, 'supplies': 5914, 'sticky': 5787, 'faglord': 2469, 'salon': 5272, 'happiest': 2994, 'characters': 1567, 'differences': 2086, 'harish': 3004, 'transfred': 6267, 'acnt': 741, 'shaking': 5421, 'booty': 1290, 'divorce': 2135, 'poet': 4720, 'imagination': 3238, 'swiss': 5953, 'directors': 2108, 'lac': 3585, 'crore': 1884, 'deposited': 2039, 'taxless': 6007, 'village': 6518, 'suply': 5912, 'projects': 4871, 'imf': 3241, 'blocked': 1249, 'politicians': 4726, 'corrupt': 1825, 'itna': 3373, 'karo': 3500, 'ki': 3521, 'pura': 4911, 'padhe': 4508, 'buzzzz': 1430, 'vibrator': 6505, 'shake': 5420, 'completing': 1748, 'sight': 5504, 'maintain': 3894, 'jas': 3403, 'tonexs': 6220, 'renewed': 5098, 'clubzed': 1685, 'billing': 1208, 'amanda': 858, 'regard': 5064, 'renewing': 5099, 'upgrading': 6428, '0845': 58, '021': 9, '3680': 411, 'subject': 5857, 'jeremiah': 3417}\n"
     ]
    }
   ],
   "source": [
    "print(vect.vocabulary_)"
   ]
  },
  {
   "cell_type": "code",
   "execution_count": 37,
   "metadata": {},
   "outputs": [
    {
     "data": {
      "text/plain": [
       "['00',\n",
       " '000',\n",
       " '0089',\n",
       " '0121',\n",
       " '01223585236',\n",
       " '02',\n",
       " '0207',\n",
       " '02072069400',\n",
       " '02073162414',\n",
       " '021',\n",
       " '03',\n",
       " '04',\n",
       " '0430',\n",
       " '05',\n",
       " '050703',\n",
       " '0578',\n",
       " '06',\n",
       " '07',\n",
       " '07008009200',\n",
       " '07090201529',\n",
       " '07090298926',\n",
       " '07123456789',\n",
       " '0721072',\n",
       " '07734396839',\n",
       " '07742676969',\n",
       " '07753741225',\n",
       " '0776xxxxxxx',\n",
       " '07781482378',\n",
       " '07786200117',\n",
       " '077xxx',\n",
       " '078',\n",
       " '07801543489',\n",
       " '07808247860',\n",
       " '07808726822',\n",
       " '07821230901',\n",
       " '07880867867',\n",
       " '0789xxxxxxx',\n",
       " '07946746291',\n",
       " '0796xxxxxx',\n",
       " '07973788240',\n",
       " '07xxxxxxxxx',\n",
       " '08',\n",
       " '0800',\n",
       " '08000407165',\n",
       " '08000776320',\n",
       " '08000839402',\n",
       " '08000930705',\n",
       " '08000938767',\n",
       " '08001950382',\n",
       " '08002888812',\n",
       " '08002986906',\n",
       " '08002988890',\n",
       " '08006344447',\n",
       " '0808',\n",
       " '08081560665',\n",
       " '0825',\n",
       " '0844',\n",
       " '08448350055',\n",
       " '0845',\n",
       " '08450542832',\n",
       " '08452810071',\n",
       " '08452810073',\n",
       " '08452810075over18',\n",
       " '0870',\n",
       " '08700621170150p',\n",
       " '08701213186',\n",
       " '08701237397',\n",
       " '08701417012',\n",
       " '08701417012150p',\n",
       " '08701752560',\n",
       " '08702490080',\n",
       " '08702840625',\n",
       " '08704050406',\n",
       " '08704439680',\n",
       " '08704439680ts',\n",
       " '08706091795',\n",
       " '0870737910216yrs',\n",
       " '08707500020',\n",
       " '08707509020',\n",
       " '08707808226',\n",
       " '08708034412',\n",
       " '08708800282',\n",
       " '08709222922',\n",
       " '08709501522',\n",
       " '0871',\n",
       " '08712101358',\n",
       " '08712103738',\n",
       " '0871212025016',\n",
       " '08712300220',\n",
       " '087123002209am',\n",
       " '08712317606',\n",
       " '08712400200',\n",
       " '08712400602450p',\n",
       " '08712400603',\n",
       " '08712402050',\n",
       " '08712402779',\n",
       " '08712402902',\n",
       " '08712402972',\n",
       " '08712404000',\n",
       " '08712405020',\n",
       " '08712405022',\n",
       " '08712460324',\n",
       " '08712466669',\n",
       " '0871277810810',\n",
       " '0871277810910p',\n",
       " '087147123779am',\n",
       " '08714712379',\n",
       " '08714712388',\n",
       " '08714712412',\n",
       " '08714714011',\n",
       " '08715203028',\n",
       " '08715203649',\n",
       " '08715203652',\n",
       " '08715203656',\n",
       " '08715203677',\n",
       " '08715203685',\n",
       " '08715203694',\n",
       " '08715205273',\n",
       " '08715500022',\n",
       " '08715705022',\n",
       " '08717111821',\n",
       " '08717168528',\n",
       " '08717205546',\n",
       " '0871750',\n",
       " '08717507382',\n",
       " '08717509990',\n",
       " '08717890890',\n",
       " '08717898035',\n",
       " '08718711108',\n",
       " '08718720201',\n",
       " '08718723815',\n",
       " '08718725756',\n",
       " '08718726270',\n",
       " '087187262701',\n",
       " '08718726970',\n",
       " '08718726978',\n",
       " '08718727868',\n",
       " '08718727870',\n",
       " '08718727870150ppm',\n",
       " '08718730666',\n",
       " '08718738001',\n",
       " '08718738002',\n",
       " '08719180248',\n",
       " '08719181259',\n",
       " '08719181503',\n",
       " '08719181513',\n",
       " '08719839835',\n",
       " '08719899229',\n",
       " '08719899230',\n",
       " '09',\n",
       " '09041940223',\n",
       " '09050000555',\n",
       " '09050000878',\n",
       " '09050001808',\n",
       " '09050002311',\n",
       " '09050003091',\n",
       " '09050090044',\n",
       " '09050280520',\n",
       " '09053750005',\n",
       " '09056242159',\n",
       " '09057039994',\n",
       " '09058091854',\n",
       " '09058094454',\n",
       " '09058094455',\n",
       " '09058094507',\n",
       " '09058094565',\n",
       " '09058094583',\n",
       " '09058094594',\n",
       " '09058094597',\n",
       " '09058094599',\n",
       " '09058095201',\n",
       " '09058097189',\n",
       " '09058097218',\n",
       " '09061104276',\n",
       " '09061104283',\n",
       " '09061209465',\n",
       " '09061213237',\n",
       " '09061221061',\n",
       " '09061221066',\n",
       " '09061701444',\n",
       " '09061701461',\n",
       " '09061701851',\n",
       " '09061702893',\n",
       " '09061743386',\n",
       " '09061743806',\n",
       " '09061743810',\n",
       " '09061743811',\n",
       " '09061744553',\n",
       " '09061790121',\n",
       " '09061790125',\n",
       " '09061790126',\n",
       " '09063440451',\n",
       " '09063442151',\n",
       " '09063458130',\n",
       " '0906346330',\n",
       " '09064012103',\n",
       " '09064017295',\n",
       " '09064017305',\n",
       " '09064018838',\n",
       " '09064019014',\n",
       " '09064019788',\n",
       " '09065171142',\n",
       " '09065174042',\n",
       " '09065394514',\n",
       " '09065989180',\n",
       " '09065989182',\n",
       " '09066358152',\n",
       " '09066358361',\n",
       " '09066361921',\n",
       " '09066362206',\n",
       " '09066362231',\n",
       " '09066364311',\n",
       " '09066364349',\n",
       " '09066364589',\n",
       " '09066368327',\n",
       " '09066368470',\n",
       " '09066380611',\n",
       " '09066382422',\n",
       " '09066612661',\n",
       " '09066649731from',\n",
       " '09071512432',\n",
       " '09071512433',\n",
       " '09071517866',\n",
       " '09077818151',\n",
       " '09094100151',\n",
       " '09094646899',\n",
       " '09095350301',\n",
       " '09096102316',\n",
       " '09099725823',\n",
       " '09099726429',\n",
       " '09099726553',\n",
       " '09111032124',\n",
       " '09701213186',\n",
       " '10',\n",
       " '100',\n",
       " '1000',\n",
       " '1000call',\n",
       " '1000s',\n",
       " '100p',\n",
       " '100percent',\n",
       " '100txt',\n",
       " '1030',\n",
       " '10am',\n",
       " '10k',\n",
       " '10p',\n",
       " '10ppm',\n",
       " '10th',\n",
       " '11',\n",
       " '113',\n",
       " '114',\n",
       " '116',\n",
       " '1172',\n",
       " '118p',\n",
       " '11mths',\n",
       " '11pm',\n",
       " '12',\n",
       " '121',\n",
       " '1225',\n",
       " '123',\n",
       " '125',\n",
       " '1250',\n",
       " '125gift',\n",
       " '12hours',\n",
       " '12hrs',\n",
       " '12mths',\n",
       " '13',\n",
       " '1327',\n",
       " '139',\n",
       " '14',\n",
       " '140ppm',\n",
       " '145',\n",
       " '1450',\n",
       " '146tf150p',\n",
       " '14tcr',\n",
       " '14thmarch',\n",
       " '15',\n",
       " '150',\n",
       " '1500',\n",
       " '150p',\n",
       " '150p16',\n",
       " '150pm',\n",
       " '150ppermesssubscription',\n",
       " '150ppm',\n",
       " '150ppmpobox10183bhamb64xe',\n",
       " '150ppmsg',\n",
       " '151',\n",
       " '153',\n",
       " '15541',\n",
       " '15pm',\n",
       " '16',\n",
       " '165',\n",
       " '169',\n",
       " '177',\n",
       " '18',\n",
       " '18p',\n",
       " '18yrs',\n",
       " '195',\n",
       " '1956669',\n",
       " '1b6a5ecef91ff9',\n",
       " '1da',\n",
       " '1er',\n",
       " '1hr',\n",
       " '1im',\n",
       " '1mega',\n",
       " '1million',\n",
       " '1pm',\n",
       " '1st',\n",
       " '1stchoice',\n",
       " '1stone',\n",
       " '1thing',\n",
       " '1win150ppmx3',\n",
       " '1winaweek',\n",
       " '1winawk',\n",
       " '1x150p',\n",
       " '20',\n",
       " '200',\n",
       " '2000',\n",
       " '2003',\n",
       " '2004',\n",
       " '2005',\n",
       " '2006',\n",
       " '2007',\n",
       " '200p',\n",
       " '2025050',\n",
       " '20p',\n",
       " '21',\n",
       " '21870000',\n",
       " '21st',\n",
       " '22',\n",
       " '220',\n",
       " '220cm2',\n",
       " '24',\n",
       " '24hrs',\n",
       " '24m',\n",
       " '25',\n",
       " '250',\n",
       " '250k',\n",
       " '25p',\n",
       " '26',\n",
       " '2667',\n",
       " '26th',\n",
       " '27',\n",
       " '28',\n",
       " '28days',\n",
       " '28th',\n",
       " '29',\n",
       " '2b',\n",
       " '2channel',\n",
       " '2day',\n",
       " '2docd',\n",
       " '2ez',\n",
       " '2find',\n",
       " '2getha',\n",
       " '2geva',\n",
       " '2go',\n",
       " '2gthr',\n",
       " '2hook',\n",
       " '2hrs',\n",
       " '2i',\n",
       " '2lands',\n",
       " '2marrow',\n",
       " '2moro',\n",
       " '2morow',\n",
       " '2morro',\n",
       " '2morrow',\n",
       " '2mro',\n",
       " '2mrw',\n",
       " '2mwen',\n",
       " '2nd',\n",
       " '2nite',\n",
       " '2optout',\n",
       " '2p',\n",
       " '2price',\n",
       " '2px',\n",
       " '2rcv',\n",
       " '2stoptx',\n",
       " '2stoptxt',\n",
       " '2u',\n",
       " '2u2',\n",
       " '2waxsto',\n",
       " '2wks',\n",
       " '2wt',\n",
       " '2wu',\n",
       " '2years',\n",
       " '2yr',\n",
       " '30',\n",
       " '300',\n",
       " '3000',\n",
       " '300603',\n",
       " '300603t',\n",
       " '300p',\n",
       " '3030',\n",
       " '30apr',\n",
       " '30ish',\n",
       " '30pm',\n",
       " '30pp',\n",
       " '30s',\n",
       " '30th',\n",
       " '31',\n",
       " '3100',\n",
       " '310303',\n",
       " '32',\n",
       " '32000',\n",
       " '32323',\n",
       " '326',\n",
       " '33',\n",
       " '350',\n",
       " '3510i',\n",
       " '35p',\n",
       " '3650',\n",
       " '36504',\n",
       " '3680',\n",
       " '373',\n",
       " '3750',\n",
       " '37819',\n",
       " '382',\n",
       " '391784',\n",
       " '3aj',\n",
       " '3d',\n",
       " '3days',\n",
       " '3g',\n",
       " '3gbp',\n",
       " '3hrs',\n",
       " '3lp',\n",
       " '3miles',\n",
       " '3mins',\n",
       " '3optical',\n",
       " '3qxj9',\n",
       " '3rd',\n",
       " '3uz',\n",
       " '3wks',\n",
       " '3xx',\n",
       " '40',\n",
       " '400',\n",
       " '400mins',\n",
       " '400thousad',\n",
       " '402',\n",
       " '4041',\n",
       " '40411',\n",
       " '40533',\n",
       " '40gb',\n",
       " '41685',\n",
       " '420',\n",
       " '42049',\n",
       " '4217',\n",
       " '42478',\n",
       " '42810',\n",
       " '430',\n",
       " '434',\n",
       " '44',\n",
       " '440',\n",
       " '4403ldnw1a7rw18',\n",
       " '44345',\n",
       " '447797706009',\n",
       " '447801259231',\n",
       " '448712404000',\n",
       " '449071512431',\n",
       " '45',\n",
       " '450',\n",
       " '450p',\n",
       " '450ppw',\n",
       " '450pw',\n",
       " '45239',\n",
       " '47',\n",
       " '4719',\n",
       " '4742',\n",
       " '47per',\n",
       " '48',\n",
       " '4882',\n",
       " '48922',\n",
       " '49',\n",
       " '49557',\n",
       " '4a',\n",
       " '4brekkie',\n",
       " '4d',\n",
       " '4few',\n",
       " '4fil',\n",
       " '4get',\n",
       " '4got',\n",
       " '4goten',\n",
       " '4info',\n",
       " '4jx',\n",
       " '4msgs',\n",
       " '4mths',\n",
       " '4my',\n",
       " '4qf2',\n",
       " '4t',\n",
       " '4th',\n",
       " '4the',\n",
       " '4thnov',\n",
       " '4txt',\n",
       " '4u',\n",
       " '4utxt',\n",
       " '4w',\n",
       " '4wrd',\n",
       " '4xx26',\n",
       " '50',\n",
       " '500',\n",
       " '5000',\n",
       " '505060',\n",
       " '50award',\n",
       " '50ea',\n",
       " '50gbp',\n",
       " '50p',\n",
       " '50perweeksub',\n",
       " '50perwksub',\n",
       " '50pm',\n",
       " '50pmmorefrommobile2bremoved',\n",
       " '50ppm',\n",
       " '50s',\n",
       " '515',\n",
       " '523',\n",
       " '5249',\n",
       " '526',\n",
       " '530',\n",
       " '54',\n",
       " '542',\n",
       " '5digital',\n",
       " '5free',\n",
       " '5ish',\n",
       " '5min',\n",
       " '5p',\n",
       " '5pm',\n",
       " '5th',\n",
       " '5wb',\n",
       " '5we',\n",
       " '5wkg',\n",
       " '5years',\n",
       " '60',\n",
       " '600',\n",
       " '6031',\n",
       " '60p',\n",
       " '61',\n",
       " '61200',\n",
       " '61610',\n",
       " '62220cncl',\n",
       " '6230',\n",
       " '62468',\n",
       " '62735',\n",
       " '630',\n",
       " '645',\n",
       " '65',\n",
       " '650',\n",
       " '66',\n",
       " '6669',\n",
       " '674',\n",
       " '67441233',\n",
       " '69101',\n",
       " '69669',\n",
       " '69696',\n",
       " '69698',\n",
       " '69855',\n",
       " '69866',\n",
       " '69876',\n",
       " '69911',\n",
       " '69988',\n",
       " '6days',\n",
       " '6hl',\n",
       " '6hrs',\n",
       " '6ish',\n",
       " '6missed',\n",
       " '6months',\n",
       " '6ph',\n",
       " '6pm',\n",
       " '6th',\n",
       " '6wu',\n",
       " '6zf',\n",
       " '700',\n",
       " '7250',\n",
       " '7250i',\n",
       " '730',\n",
       " '731',\n",
       " '75',\n",
       " '750',\n",
       " '7548',\n",
       " '75max',\n",
       " '762',\n",
       " '7634',\n",
       " '7684',\n",
       " '77',\n",
       " '7732584351',\n",
       " '78',\n",
       " '786',\n",
       " '79',\n",
       " '7am',\n",
       " '7cfca1a',\n",
       " '7ish',\n",
       " '7pm',\n",
       " '7th',\n",
       " '7ws',\n",
       " '7zs',\n",
       " '80',\n",
       " '800',\n",
       " '8000930705',\n",
       " '80062',\n",
       " '8007',\n",
       " '80082',\n",
       " '80086',\n",
       " '80122300p',\n",
       " '80155',\n",
       " '80160',\n",
       " '80182',\n",
       " '8027',\n",
       " '80488',\n",
       " '80608',\n",
       " '8077',\n",
       " '80878',\n",
       " '81010',\n",
       " '81151',\n",
       " '81303',\n",
       " '81618',\n",
       " '82050',\n",
       " '820554ad0a1705572711',\n",
       " '82242',\n",
       " '82277',\n",
       " '82324',\n",
       " '82468',\n",
       " '83021',\n",
       " '83039',\n",
       " '83049',\n",
       " '83110',\n",
       " '83222',\n",
       " '83338',\n",
       " '83355',\n",
       " '83383',\n",
       " '83435',\n",
       " '83600',\n",
       " '83738',\n",
       " '84',\n",
       " '84025',\n",
       " '84122',\n",
       " '84128',\n",
       " '84199',\n",
       " '84484',\n",
       " '85',\n",
       " '850',\n",
       " '85023',\n",
       " '85069',\n",
       " '85222',\n",
       " '85555',\n",
       " '86021',\n",
       " '861',\n",
       " '864233',\n",
       " '86688',\n",
       " '86888',\n",
       " '87021',\n",
       " '87066',\n",
       " '87070',\n",
       " '87077',\n",
       " '87121',\n",
       " '87131',\n",
       " '872',\n",
       " '87239',\n",
       " '87575',\n",
       " '88039',\n",
       " '88066',\n",
       " '88088',\n",
       " '88222',\n",
       " '88600',\n",
       " '88800',\n",
       " '8883',\n",
       " '88888',\n",
       " '89034',\n",
       " '89105',\n",
       " '89123',\n",
       " '89545',\n",
       " '89555',\n",
       " '89693',\n",
       " '89938',\n",
       " '8am',\n",
       " '8ball',\n",
       " '8p',\n",
       " '8pm',\n",
       " '8th',\n",
       " '8wp',\n",
       " '900',\n",
       " '9153',\n",
       " '92h',\n",
       " '930',\n",
       " '9307622',\n",
       " '946',\n",
       " '95',\n",
       " '9758',\n",
       " '98321561',\n",
       " '99',\n",
       " '9996',\n",
       " '9ae',\n",
       " '9am',\n",
       " '9ja',\n",
       " '9pm',\n",
       " '9t',\n",
       " '9th',\n",
       " '9yt',\n",
       " '____',\n",
       " 'a30',\n",
       " 'aa',\n",
       " 'aah',\n",
       " 'aaooooright',\n",
       " 'aathi',\n",
       " 'ab',\n",
       " 'abbey',\n",
       " 'abdomen',\n",
       " 'abeg',\n",
       " 'aberdeen',\n",
       " 'abi',\n",
       " 'ability',\n",
       " 'abiola',\n",
       " 'abj',\n",
       " 'able',\n",
       " 'abnormally',\n",
       " 'aboutas',\n",
       " 'abroad',\n",
       " 'absolutly',\n",
       " 'abstract',\n",
       " 'abt',\n",
       " 'abta',\n",
       " 'aburo',\n",
       " 'abusers',\n",
       " 'ac',\n",
       " 'academic',\n",
       " 'acc',\n",
       " 'accenture',\n",
       " 'accept',\n",
       " 'access',\n",
       " 'accessible',\n",
       " 'accidant',\n",
       " 'accident',\n",
       " 'accidentally',\n",
       " 'accommodationvouchers',\n",
       " 'accomodate',\n",
       " 'accomodations',\n",
       " 'accordin',\n",
       " 'accordingly',\n",
       " 'account',\n",
       " 'accounting',\n",
       " 'accounts',\n",
       " 'accumulation',\n",
       " 'achan',\n",
       " 'ache',\n",
       " 'achieve',\n",
       " 'acl03530150pm',\n",
       " 'acnt',\n",
       " 'aco',\n",
       " 'act',\n",
       " 'acted',\n",
       " 'actin',\n",
       " 'acting',\n",
       " 'action',\n",
       " 'activ8',\n",
       " 'activate',\n",
       " 'active',\n",
       " 'activities',\n",
       " 'actor',\n",
       " 'actual',\n",
       " 'actually',\n",
       " 'ad',\n",
       " 'adam',\n",
       " 'add',\n",
       " 'addamsfa',\n",
       " 'added',\n",
       " 'addie',\n",
       " 'address',\n",
       " 'adewale',\n",
       " 'adjustable',\n",
       " 'administrator',\n",
       " 'admirer',\n",
       " 'admission',\n",
       " 'admit',\n",
       " 'adore',\n",
       " 'adoring',\n",
       " 'adress',\n",
       " 'adrian',\n",
       " 'ads',\n",
       " 'adult',\n",
       " 'adults',\n",
       " 'advance',\n",
       " 'adventure',\n",
       " 'adventuring',\n",
       " 'advice',\n",
       " 'advise',\n",
       " 'advisors',\n",
       " 'aeronautics',\n",
       " 'aeroplane',\n",
       " 'affair',\n",
       " 'affairs',\n",
       " 'affection',\n",
       " 'affectionate',\n",
       " 'affections',\n",
       " 'affidavit',\n",
       " 'afford',\n",
       " 'afraid',\n",
       " 'africa',\n",
       " 'aft',\n",
       " 'afternon',\n",
       " 'afternoon',\n",
       " 'aftr',\n",
       " 'ag',\n",
       " 'agalla',\n",
       " 'age',\n",
       " 'age16',\n",
       " 'age23',\n",
       " 'agency',\n",
       " 'agent',\n",
       " 'agents',\n",
       " 'ages',\n",
       " 'ago',\n",
       " 'agree',\n",
       " 'ah',\n",
       " 'aha',\n",
       " 'ahead',\n",
       " 'ahhhh',\n",
       " 'ahmad',\n",
       " 'ahold',\n",
       " 'aids',\n",
       " 'aight',\n",
       " 'ain',\n",
       " 'aint',\n",
       " 'air',\n",
       " 'airport',\n",
       " 'airtel',\n",
       " 'aiya',\n",
       " 'aiyah',\n",
       " 'aiyar',\n",
       " 'aiyo',\n",
       " 'ajith',\n",
       " 'aka',\n",
       " 'akon',\n",
       " 'al',\n",
       " 'alaikkum',\n",
       " 'alaipayuthe',\n",
       " 'albi',\n",
       " 'album',\n",
       " 'alcohol',\n",
       " 'aldrine',\n",
       " 'alert',\n",
       " 'aletter',\n",
       " 'alex',\n",
       " 'alfie',\n",
       " 'algebra',\n",
       " 'ali',\n",
       " 'alibi',\n",
       " 'alive',\n",
       " 'allah',\n",
       " 'allalo',\n",
       " 'allday',\n",
       " 'alle',\n",
       " 'allo',\n",
       " 'allow',\n",
       " 'allowed',\n",
       " 'allows',\n",
       " 'alot',\n",
       " 'alright',\n",
       " 'alrite',\n",
       " 'alter',\n",
       " 'alternative',\n",
       " 'alto18',\n",
       " 'alwa',\n",
       " 'alwys',\n",
       " 'amanda',\n",
       " 'amazing',\n",
       " 'ambrith',\n",
       " 'american',\n",
       " 'ami',\n",
       " 'amigos',\n",
       " 'amla',\n",
       " 'amma',\n",
       " 'amnow',\n",
       " 'amore',\n",
       " 'amp',\n",
       " 'amplikater',\n",
       " 'amrca',\n",
       " 'amrita',\n",
       " 'ams',\n",
       " 'amt',\n",
       " 'amused',\n",
       " 'amy',\n",
       " 'ana',\n",
       " 'anal',\n",
       " 'analysis',\n",
       " 'anand',\n",
       " 'andre',\n",
       " 'andrews',\n",
       " 'andros',\n",
       " 'angry',\n",
       " 'animal',\n",
       " 'animation',\n",
       " 'anna',\n",
       " 'annie',\n",
       " 'anniversary',\n",
       " 'announced',\n",
       " 'announcement',\n",
       " 'annoyin',\n",
       " 'annoying',\n",
       " 'anot',\n",
       " 'ans',\n",
       " 'ansr',\n",
       " 'answer',\n",
       " 'answered',\n",
       " 'answerin',\n",
       " 'answering',\n",
       " 'answers',\n",
       " 'answr',\n",
       " 'antelope',\n",
       " 'anthony',\n",
       " 'antibiotic',\n",
       " 'anybody',\n",
       " 'anymore',\n",
       " 'anyones',\n",
       " 'anythiing',\n",
       " 'anythin',\n",
       " 'anytime',\n",
       " 'anyways',\n",
       " 'aom',\n",
       " 'apart',\n",
       " 'apartment',\n",
       " 'apes',\n",
       " 'apeshit',\n",
       " 'apnt',\n",
       " 'apo',\n",
       " 'apologetic',\n",
       " 'apologise',\n",
       " 'apology',\n",
       " 'app',\n",
       " 'apparently',\n",
       " 'appear',\n",
       " 'appendix',\n",
       " 'applebees',\n",
       " 'apples',\n",
       " 'application',\n",
       " 'apply',\n",
       " 'applyed',\n",
       " 'appointment',\n",
       " 'appointments',\n",
       " 'appreciate',\n",
       " 'approve',\n",
       " 'approx',\n",
       " 'apps',\n",
       " 'appt',\n",
       " 'appy',\n",
       " 'april',\n",
       " 'aproach',\n",
       " 'aptitude',\n",
       " 'aquarius',\n",
       " 'ar',\n",
       " 'arabian',\n",
       " 'arcade',\n",
       " 'ard',\n",
       " 'area',\n",
       " 'aren',\n",
       " 'arent',\n",
       " 'areyouunique',\n",
       " 'argentina',\n",
       " 'argh',\n",
       " 'argue',\n",
       " 'arguing',\n",
       " 'argument',\n",
       " 'arguments',\n",
       " 'aries',\n",
       " 'arise',\n",
       " 'arises',\n",
       " 'arm',\n",
       " 'armand',\n",
       " 'armenia',\n",
       " 'arms',\n",
       " 'arng',\n",
       " 'arngd',\n",
       " 'arnt',\n",
       " 'aroundn',\n",
       " 'arr',\n",
       " 'arrange',\n",
       " 'arranging',\n",
       " 'arrested',\n",
       " 'arrival',\n",
       " 'arrive',\n",
       " 'arsenal',\n",
       " 'art',\n",
       " 'artists',\n",
       " 'arts',\n",
       " 'arty',\n",
       " 'arul',\n",
       " 'arun',\n",
       " 'asa',\n",
       " 'asap',\n",
       " 'ashes',\n",
       " 'ashley',\n",
       " 'ashwini',\n",
       " 'asian',\n",
       " 'asjesus',\n",
       " 'ask',\n",
       " 'askd',\n",
       " 'asked',\n",
       " 'askin',\n",
       " 'asking',\n",
       " 'asks',\n",
       " 'aslamalaikkum',\n",
       " 'asleep',\n",
       " 'asp',\n",
       " 'ass',\n",
       " 'assistance',\n",
       " 'asssssholeeee',\n",
       " ...]"
      ]
     },
     "execution_count": 37,
     "metadata": {},
     "output_type": "execute_result"
    }
   ],
   "source": [
    "vect.get_feature_names()"
   ]
  },
  {
   "cell_type": "code",
   "execution_count": 40,
   "metadata": {},
   "outputs": [],
   "source": [
    "## transforming X_train and X_test\n",
    "X_train_transformed = vect.transform(X_train)\n",
    "X_test_transformed = vect.transform(X_test)"
   ]
  },
  {
   "cell_type": "code",
   "execution_count": 44,
   "metadata": {},
   "outputs": [
    {
     "name": "stdout",
     "output_type": "stream",
     "text": [
      "<class 'scipy.sparse.csr.csr_matrix'>\n",
      "  (0, 3114)\t1\n",
      "  (1, 733)\t1\n",
      "  (1, 4355)\t1\n",
      "  (2, 1630)\t1\n",
      "  (2, 1733)\t1\n",
      "  (2, 2076)\t1\n",
      "  (2, 2673)\t1\n",
      "  (2, 6112)\t1\n",
      "  (2, 6409)\t1\n",
      "  (2, 6438)\t1\n",
      "  (2, 6797)\t1\n",
      "  (3, 2849)\t1\n",
      "  (3, 3897)\t1\n",
      "  (3, 4080)\t1\n",
      "  (3, 4837)\t1\n",
      "  (3, 6866)\t1\n",
      "  (4, 393)\t1\n",
      "  (4, 1306)\t1\n",
      "  (4, 1736)\t1\n",
      "  (4, 2051)\t1\n",
      "  (4, 2251)\t1\n",
      "  (4, 2812)\t1\n",
      "  (4, 2848)\t1\n",
      "  (4, 3023)\t1\n",
      "  (4, 3028)\t1\n",
      "  :\t:\n",
      "  (3895, 5099)\t1\n",
      "  (3895, 5857)\t1\n",
      "  (3895, 6033)\t1\n",
      "  (3895, 6195)\t1\n",
      "  (3895, 6428)\t1\n",
      "  (3896, 1486)\t1\n",
      "  (3896, 1709)\t1\n",
      "  (3896, 1938)\t1\n",
      "  (3896, 2879)\t1\n",
      "  (3896, 3661)\t1\n",
      "  (3897, 1591)\t1\n",
      "  (3897, 2903)\t1\n",
      "  (3897, 3417)\t1\n",
      "  (3897, 3474)\t1\n",
      "  (3897, 4052)\t1\n",
      "  (3897, 4113)\t1\n",
      "  (3897, 5010)\t1\n",
      "  (3897, 5361)\t1\n",
      "  (3898, 2253)\t1\n",
      "  (3898, 3430)\t1\n",
      "  (3898, 3774)\t1\n",
      "  (3898, 5964)\t1\n",
      "  (3899, 757)\t1\n",
      "  (3899, 3016)\t1\n",
      "  (3899, 5172)\t1\n"
     ]
    }
   ],
   "source": [
    "print(type(X_train_transformed))\n",
    "print(X_train_transformed)"
   ]
  },
  {
   "cell_type": "markdown",
   "metadata": {},
   "source": [
    "- By default a `Sparse Matrix` has been created."
   ]
  },
  {
   "cell_type": "markdown",
   "metadata": {},
   "source": [
    "## Building Model"
   ]
  },
  {
   "cell_type": "code",
   "execution_count": 45,
   "metadata": {},
   "outputs": [],
   "source": [
    "## importing libraries\n",
    "from sklearn.naive_bayes import BernoulliNB"
   ]
  },
  {
   "cell_type": "code",
   "execution_count": 46,
   "metadata": {},
   "outputs": [],
   "source": [
    "## instantiating object of BernoulliNB() class\n",
    "bnb = BernoulliNB()"
   ]
  },
  {
   "cell_type": "code",
   "execution_count": 48,
   "metadata": {},
   "outputs": [
    {
     "data": {
      "text/plain": [
       "BernoulliNB()"
      ]
     },
     "execution_count": 48,
     "metadata": {},
     "output_type": "execute_result"
    }
   ],
   "source": [
    "## fitting X_train_transformed and y_train into the object\n",
    "bnb.fit(X_train_transformed,y_train)"
   ]
  },
  {
   "cell_type": "markdown",
   "metadata": {},
   "source": [
    "### Making class and probability predictions "
   ]
  },
  {
   "cell_type": "code",
   "execution_count": 49,
   "metadata": {},
   "outputs": [],
   "source": [
    "## making Class predictions\n",
    "y_pred_class = bnb.predict(X_test_transformed)"
   ]
  },
  {
   "cell_type": "code",
   "execution_count": 50,
   "metadata": {},
   "outputs": [
    {
     "data": {
      "text/plain": [
       "array([0, 0, 1, ..., 0, 0, 0])"
      ]
     },
     "execution_count": 50,
     "metadata": {},
     "output_type": "execute_result"
    }
   ],
   "source": [
    "y_pred_class"
   ]
  },
  {
   "cell_type": "code",
   "execution_count": 51,
   "metadata": {},
   "outputs": [
    {
     "data": {
      "text/plain": [
       "array([[9.99999995e-01, 5.42712179e-09],\n",
       "       [9.99999823e-01, 1.76728837e-07],\n",
       "       [4.20184733e-14, 1.00000000e+00],\n",
       "       ...,\n",
       "       [1.00000000e+00, 9.11066946e-12],\n",
       "       [1.00000000e+00, 4.27040228e-10],\n",
       "       [9.99999999e-01, 7.98878707e-10]])"
      ]
     },
     "execution_count": 51,
     "metadata": {},
     "output_type": "execute_result"
    }
   ],
   "source": [
    "## making probability prediction\n",
    "y_pred_proba = bnb.predict_proba(X_test_transformed)\n",
    "y_pred_proba"
   ]
  },
  {
   "cell_type": "markdown",
   "metadata": {},
   "source": [
    "- Here 9.99999995e-01, 5.42712179e-09 means that the probability of 0 is  9.99999995e-01 and the probability of 1 is  5.42712179e-09"
   ]
  },
  {
   "cell_type": "markdown",
   "metadata": {},
   "source": [
    "## Model Evaluation"
   ]
  },
  {
   "cell_type": "code",
   "execution_count": 55,
   "metadata": {},
   "outputs": [],
   "source": [
    "## importing libraries\n",
    "from sklearn.metrics import accuracy_score,precision_score,recall_score,f1_score,roc_curve,auc,confusion_matrix\n"
   ]
  },
  {
   "cell_type": "code",
   "execution_count": 58,
   "metadata": {},
   "outputs": [
    {
     "data": {
      "text/plain": [
       "0.9736842105263158"
      ]
     },
     "execution_count": 58,
     "metadata": {},
     "output_type": "execute_result"
    }
   ],
   "source": [
    "## calculating accuracy\n",
    "accuracy_score(y_test,y_pred_class)"
   ]
  },
  {
   "cell_type": "code",
   "execution_count": 59,
   "metadata": {},
   "outputs": [
    {
     "name": "stdout",
     "output_type": "stream",
     "text": [
      "[[1447    1]\n",
      " [  43  181]]\n"
     ]
    }
   ],
   "source": [
    "## confusion_matrix\n",
    "confusion = confusion_matrix(y_test,y_pred_class)\n",
    "print(confusion)"
   ]
  },
  {
   "cell_type": "code",
   "execution_count": 60,
   "metadata": {},
   "outputs": [],
   "source": [
    "## assigning TN,FP,TN and TP\n",
    "TN = confusion[0,0]\n",
    "FP = confusion[0,1]\n",
    "FN = confusion[1,0]\n",
    "TP = confusion[1,1]"
   ]
  },
  {
   "cell_type": "code",
   "execution_count": 62,
   "metadata": {},
   "outputs": [
    {
     "name": "stdout",
     "output_type": "stream",
     "text": [
      "Sensitivity: 0.8080357142857143\n",
      "Specificity: 0.9993093922651933\n",
      "Precision: 0.9945054945054945\n"
     ]
    }
   ],
   "source": [
    "## sensitivity\n",
    "sensitivity = TP/(TP+FN)\n",
    "print('Sensitivity:',sensitivity)\n",
    "## specificity\n",
    "specificity = TN/(TN+FP)\n",
    "print('Specificity:',specificity)\n",
    "## precision\n",
    "precision = TP/(TP+FP)\n",
    "print('Precision:',precision)"
   ]
  },
  {
   "cell_type": "code",
   "execution_count": 64,
   "metadata": {},
   "outputs": [
    {
     "name": "stdout",
     "output_type": "stream",
     "text": [
      "Recall Score: 0.8080357142857143\n",
      "F1 Score: 0.8916256157635467\n",
      "Precision Score: 0.9945054945054945\n"
     ]
    }
   ],
   "source": [
    "## calculating other metrics\n",
    "print(\"Recall Score:\",recall_score(y_test,y_pred_class))\n",
    "print(\"F1 Score:\",f1_score(y_test,y_pred_class))\n",
    "print(\"Precision Score:\",precision_score(y_test,y_pred_class))"
   ]
  },
  {
   "cell_type": "markdown",
   "metadata": {},
   "source": [
    "## Building ROC curve and calculating AUC "
   ]
  },
  {
   "cell_type": "code",
   "execution_count": 65,
   "metadata": {},
   "outputs": [],
   "source": [
    "## gettiing the values for FPR,TPR and Threshold from roc_curve()\n",
    "false_positive_rate,true_positive_rate,threshold = roc_curve(y_test,y_pred_proba[:,1])"
   ]
  },
  {
   "cell_type": "markdown",
   "metadata": {},
   "source": [
    "- We are choosing y_pred_proba[:,1]  as we want the values for probability being 1. \n",
    "- Remember we have assinged 1 to spam and we are actually detecting spam here. "
   ]
  },
  {
   "cell_type": "code",
   "execution_count": 67,
   "metadata": {},
   "outputs": [
    {
     "data": {
      "text/plain": [
       "0.9942562401341752"
      ]
     },
     "execution_count": 67,
     "metadata": {},
     "output_type": "execute_result"
    }
   ],
   "source": [
    "## calculating AUC\n",
    "roc_auc = auc(false_positive_rate,true_positive_rate)\n",
    "roc_auc"
   ]
  },
  {
   "cell_type": "code",
   "execution_count": 68,
   "metadata": {},
   "outputs": [
    {
     "data": {
      "text/html": [
       "<div>\n",
       "<style scoped>\n",
       "    .dataframe tbody tr th:only-of-type {\n",
       "        vertical-align: middle;\n",
       "    }\n",
       "\n",
       "    .dataframe tbody tr th {\n",
       "        vertical-align: top;\n",
       "    }\n",
       "\n",
       "    .dataframe thead th {\n",
       "        text-align: right;\n",
       "    }\n",
       "</style>\n",
       "<table border=\"1\" class=\"dataframe\">\n",
       "  <thead>\n",
       "    <tr style=\"text-align: right;\">\n",
       "      <th></th>\n",
       "      <th>False_positive_rate</th>\n",
       "      <th>True_positive_rate</th>\n",
       "      <th>Threshold</th>\n",
       "    </tr>\n",
       "  </thead>\n",
       "  <tbody>\n",
       "    <tr>\n",
       "      <th>0</th>\n",
       "      <td>0.000000</td>\n",
       "      <td>0.000000</td>\n",
       "      <td>2.000000e+00</td>\n",
       "    </tr>\n",
       "    <tr>\n",
       "      <th>1</th>\n",
       "      <td>0.000000</td>\n",
       "      <td>0.241071</td>\n",
       "      <td>1.000000e+00</td>\n",
       "    </tr>\n",
       "    <tr>\n",
       "      <th>2</th>\n",
       "      <td>0.000000</td>\n",
       "      <td>0.272321</td>\n",
       "      <td>1.000000e+00</td>\n",
       "    </tr>\n",
       "    <tr>\n",
       "      <th>3</th>\n",
       "      <td>0.000000</td>\n",
       "      <td>0.281250</td>\n",
       "      <td>1.000000e+00</td>\n",
       "    </tr>\n",
       "    <tr>\n",
       "      <th>4</th>\n",
       "      <td>0.000000</td>\n",
       "      <td>0.312500</td>\n",
       "      <td>1.000000e+00</td>\n",
       "    </tr>\n",
       "    <tr>\n",
       "      <th>...</th>\n",
       "      <td>...</td>\n",
       "      <td>...</td>\n",
       "      <td>...</td>\n",
       "    </tr>\n",
       "    <tr>\n",
       "      <th>177</th>\n",
       "      <td>0.900552</td>\n",
       "      <td>1.000000</td>\n",
       "      <td>1.111432e-12</td>\n",
       "    </tr>\n",
       "    <tr>\n",
       "      <th>178</th>\n",
       "      <td>0.906077</td>\n",
       "      <td>1.000000</td>\n",
       "      <td>1.069267e-12</td>\n",
       "    </tr>\n",
       "    <tr>\n",
       "      <th>179</th>\n",
       "      <td>0.930939</td>\n",
       "      <td>1.000000</td>\n",
       "      <td>4.996374e-13</td>\n",
       "    </tr>\n",
       "    <tr>\n",
       "      <th>180</th>\n",
       "      <td>0.932320</td>\n",
       "      <td>1.000000</td>\n",
       "      <td>4.968192e-13</td>\n",
       "    </tr>\n",
       "    <tr>\n",
       "      <th>181</th>\n",
       "      <td>1.000000</td>\n",
       "      <td>1.000000</td>\n",
       "      <td>1.639878e-20</td>\n",
       "    </tr>\n",
       "  </tbody>\n",
       "</table>\n",
       "<p>182 rows × 3 columns</p>\n",
       "</div>"
      ],
      "text/plain": [
       "     False_positive_rate  True_positive_rate     Threshold\n",
       "0               0.000000            0.000000  2.000000e+00\n",
       "1               0.000000            0.241071  1.000000e+00\n",
       "2               0.000000            0.272321  1.000000e+00\n",
       "3               0.000000            0.281250  1.000000e+00\n",
       "4               0.000000            0.312500  1.000000e+00\n",
       "..                   ...                 ...           ...\n",
       "177             0.900552            1.000000  1.111432e-12\n",
       "178             0.906077            1.000000  1.069267e-12\n",
       "179             0.930939            1.000000  4.996374e-13\n",
       "180             0.932320            1.000000  4.968192e-13\n",
       "181             1.000000            1.000000  1.639878e-20\n",
       "\n",
       "[182 rows x 3 columns]"
      ]
     },
     "execution_count": 68,
     "metadata": {},
     "output_type": "execute_result"
    }
   ],
   "source": [
    "## making a dataframe to represent false_positive_rate,true_positive_rate,threshold\n",
    "pd.DataFrame({'False_positive_rate':false_positive_rate,'True_positive_rate':true_positive_rate,'Threshold':threshold})"
   ]
  },
  {
   "cell_type": "markdown",
   "metadata": {},
   "source": [
    "### Plotting the curve"
   ]
  },
  {
   "cell_type": "code",
   "execution_count": 69,
   "metadata": {},
   "outputs": [
    {
     "data": {
      "image/png": "[encoded data removed]",
      "text/plain": [
       "<Figure size 432x288 with 1 Axes>"
      ]
     },
     "metadata": {
      "needs_background": "light"
     },
     "output_type": "display_data"
    }
   ],
   "source": [
    "## making labels and plotting the curve\n",
    "plt.title(\"ROC CURVE\")\n",
    "plt.ylabel('True_positive_rate')\n",
    "plt.xlabel('False_positive_rate')\n",
    "plt.plot(false_positive_rate,true_positive_rate)\n",
    "plt.show()"
   ]
  },
  {
   "cell_type": "code",
   "execution_count": null,
   "metadata": {},
   "outputs": [],
   "source": []
  }
 ],
 "metadata": {
  "anaconda-cloud": {},
  "kernelspec": {
   "display_name": "Python 3",
   "language": "python",
   "name": "python3"
  },
  "language_info": {
   "codemirror_mode": {
    "name": "ipython",
    "version": 3
   },
   "file_extension": ".py",
   "mimetype": "text/x-python",
   "name": "python",
   "nbconvert_exporter": "python",
   "pygments_lexer": "ipython3",
   "version": "3.8.5"
  }
 },
 "nbformat": 4,
 "nbformat_minor": 1
}
